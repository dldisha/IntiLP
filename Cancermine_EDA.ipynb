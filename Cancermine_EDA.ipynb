{
  "nbformat": 4,
  "nbformat_minor": 0,
  "metadata": {
    "colab": {
      "name": "Cancermine_EDA.ipynb",
      "provenance": [],
      "include_colab_link": true
    },
    "kernelspec": {
      "name": "python3",
      "display_name": "Python 3"
    },
    "language_info": {
      "name": "python"
    },
    "accelerator": "GPU",
    "gpuClass": "standard"
  },
  "cells": [
    {
      "cell_type": "markdown",
      "metadata": {
        "id": "view-in-github",
        "colab_type": "text"
      },
      "source": [
        "<a href=\"https://colab.research.google.com/github/dldisha/IntiLP/blob/main/Cancermine_EDA.ipynb\" target=\"_parent\"><img src=\"https://colab.research.google.com/assets/colab-badge.svg\" alt=\"Open In Colab\"/></a>"
      ]
    },
    {
      "cell_type": "markdown",
      "source": [
        "## Group Name: IntiLP (Intelligent Language Processing)\n",
        "\n",
        "\n",
        "## Group Members: \n",
        "* Disha Lamba\n",
        "* Kiarash Rastegar\n",
        "* Somasundaram Palaniappan\n",
        "* Mercy\n",
        "\n",
        "## Project's Objective:\n",
        "#### We propose an approach to use a deep learning NLP model that will be able to extract important information from biomedical literature and return a list of biological markers related to that disease. \n",
        "\n",
        "#### Here we will focus on 3 major types of cancer: lung, pancreatic, and colon. \n"
      ],
      "metadata": {
        "id": "VM0bJ64IWNR7"
      }
    },
    {
      "cell_type": "markdown",
      "source": [
        "## Import libraries"
      ],
      "metadata": {
        "id": "WYAjkLxUASCY"
      }
    },
    {
      "cell_type": "code",
      "source": [
        "from google.colab import drive\n",
        "drive.mount('/content/drive')"
      ],
      "metadata": {
        "colab": {
          "base_uri": "https://localhost:8080/"
        },
        "id": "iZM6btrqkTrH",
        "outputId": "43e43007-1d80-412c-fa8c-726f237b4c40"
      },
      "execution_count": 1,
      "outputs": [
        {
          "output_type": "stream",
          "name": "stdout",
          "text": [
            "Mounted at /content/drive\n"
          ]
        }
      ]
    },
    {
      "cell_type": "code",
      "execution_count": 2,
      "metadata": {
        "id": "9FKynws5mNOq"
      },
      "outputs": [],
      "source": [
        "import numpy as np\n",
        "import pandas as pd\n",
        "import matplotlib.pyplot as plt\n",
        "import seaborn as sns\n",
        "import re\n",
        "from sklearn.model_selection import train_test_split"
      ]
    },
    {
      "cell_type": "markdown",
      "source": [
        "## Reading the csv file\n"
      ],
      "metadata": {
        "id": "oU6jsbBMAWyH"
      }
    },
    {
      "cell_type": "code",
      "source": [
        "#converting .tsv to .csv file\n",
        "tsv_file ='/content/drive/MyDrive/cancermine_unfiltered.tsv'\n",
        " \n",
        "# reading given tsv file\n",
        "csv_table = pd.read_table(tsv_file,sep='\\t')\n",
        " \n",
        "# converting tsv file into csv\n",
        "csv_table.to_csv('cancermine_unfil.csv',index=False)"
      ],
      "metadata": {
        "id": "AUF_JRljX956"
      },
      "execution_count": 3,
      "outputs": []
    },
    {
      "cell_type": "code",
      "source": [
        "Master_dataset = pd.read_csv('cancermine_unfil.csv')"
      ],
      "metadata": {
        "id": "WFjE4dDpJtGF"
      },
      "execution_count": 4,
      "outputs": []
    },
    {
      "cell_type": "code",
      "source": [
        "Master_dataset.head()"
      ],
      "metadata": {
        "colab": {
          "base_uri": "https://localhost:8080/",
          "height": 681
        },
        "id": "9XA8hoGjKgRC",
        "outputId": "30def3f8-6bcc-4a6e-a50e-00a4ea2ed16c"
      },
      "execution_count": 5,
      "outputs": [
        {
          "output_type": "execute_result",
          "data": {
            "text/plain": [
              "       pmid                                              title  \\\n",
              "0  33692570  COVID-19 and liver disease: mechanistic and cl...   \n",
              "1  33767402  Ruxolitinib before allogeneic hematopoietic tr...   \n",
              "2  33767402  Ruxolitinib before allogeneic hematopoietic tr...   \n",
              "3  34002056  Kinase drug discovery 20 years after imatinib:...   \n",
              "4  34002056  Kinase drug discovery 20 years after imatinib:...   \n",
              "\n",
              "                                         journal  \\\n",
              "0  Nature Reviews. Gastroenterology & Hepatology   \n",
              "1                    Bone Marrow Transplantation   \n",
              "2                    Bone Marrow Transplantation   \n",
              "3                 Nature Reviews. Drug Discovery   \n",
              "4                 Nature Reviews. Drug Discovery   \n",
              "\n",
              "                                   journal_short  year month day  section  \\\n",
              "0  Nature Reviews. Gastroenterology & Hepatology  2021     3  10  article   \n",
              "1                    Bone Marrow Transplantation  2021     3  25  article   \n",
              "2                    Bone Marrow Transplantation  2021     3  25  article   \n",
              "3                 Nature Reviews. Drug Discovery  2021     5  17  article   \n",
              "4                 Nature Reviews. Drug Discovery  2021     5  17  article   \n",
              "\n",
              "     subsection              role  ...  cancer_start cancer_end gene_hugo_id  \\\n",
              "0  introduction  Tumor_Suppressor  ...           108        116   HGNC:11998   \n",
              "1  introduction          Oncogene  ...             0         13    HGNC:1455   \n",
              "2  introduction          Oncogene  ...           310        318    HGNC:1455   \n",
              "3  introduction          Oncogene  ...            86        113    HGNC:9967   \n",
              "4  introduction            Driver  ...           156        170    HGNC:9967   \n",
              "\n",
              "  gene_entrez_id            gene_name  gene_normalized gene_start  gene_end  \\\n",
              "0           7157                  p53             TP53        159       162   \n",
              "1            811  calreticulin (CALR)             CALR        334       353   \n",
              "2            811  calreticulin (CALR)             CALR        334       353   \n",
              "3           5979                  RET              RET          0         3   \n",
              "4           5979                  RET              RET        145       148   \n",
              "\n",
              "                                            sentence  \\\n",
              "0  This discrepancy between cellular models could...   \n",
              "1  Myelofibrosis (MF) is a chronic malignancy, ch...   \n",
              "2  Myelofibrosis (MF) is a chronic malignancy, ch...   \n",
              "3  RET is a proto-oncogenic RTK in which activati...   \n",
              "4  These compounds, which included cabozantinib, ...   \n",
              "\n",
              "                                  formatted_sentence  \n",
              "0  This discrepancy between cellular models could...  \n",
              "1  <b>Myelofibrosis</b> (MF) is a chronic maligna...  \n",
              "2  Myelofibrosis (MF) is a chronic malignancy, ch...  \n",
              "3  <b>RET</b> is a proto-oncogenic RTK in which a...  \n",
              "4  These compounds, which included cabozantinib, ...  \n",
              "\n",
              "[5 rows x 24 columns]"
            ],
            "text/html": [
              "\n",
              "  <div id=\"df-e7b298dc-bfe4-4aa3-85c4-9545179f8ae5\">\n",
              "    <div class=\"colab-df-container\">\n",
              "      <div>\n",
              "<style scoped>\n",
              "    .dataframe tbody tr th:only-of-type {\n",
              "        vertical-align: middle;\n",
              "    }\n",
              "\n",
              "    .dataframe tbody tr th {\n",
              "        vertical-align: top;\n",
              "    }\n",
              "\n",
              "    .dataframe thead th {\n",
              "        text-align: right;\n",
              "    }\n",
              "</style>\n",
              "<table border=\"1\" class=\"dataframe\">\n",
              "  <thead>\n",
              "    <tr style=\"text-align: right;\">\n",
              "      <th></th>\n",
              "      <th>pmid</th>\n",
              "      <th>title</th>\n",
              "      <th>journal</th>\n",
              "      <th>journal_short</th>\n",
              "      <th>year</th>\n",
              "      <th>month</th>\n",
              "      <th>day</th>\n",
              "      <th>section</th>\n",
              "      <th>subsection</th>\n",
              "      <th>role</th>\n",
              "      <th>...</th>\n",
              "      <th>cancer_start</th>\n",
              "      <th>cancer_end</th>\n",
              "      <th>gene_hugo_id</th>\n",
              "      <th>gene_entrez_id</th>\n",
              "      <th>gene_name</th>\n",
              "      <th>gene_normalized</th>\n",
              "      <th>gene_start</th>\n",
              "      <th>gene_end</th>\n",
              "      <th>sentence</th>\n",
              "      <th>formatted_sentence</th>\n",
              "    </tr>\n",
              "  </thead>\n",
              "  <tbody>\n",
              "    <tr>\n",
              "      <th>0</th>\n",
              "      <td>33692570</td>\n",
              "      <td>COVID-19 and liver disease: mechanistic and cl...</td>\n",
              "      <td>Nature Reviews. Gastroenterology &amp; Hepatology</td>\n",
              "      <td>Nature Reviews. Gastroenterology &amp; Hepatology</td>\n",
              "      <td>2021</td>\n",
              "      <td>3</td>\n",
              "      <td>10</td>\n",
              "      <td>article</td>\n",
              "      <td>introduction</td>\n",
              "      <td>Tumor_Suppressor</td>\n",
              "      <td>...</td>\n",
              "      <td>108</td>\n",
              "      <td>116</td>\n",
              "      <td>HGNC:11998</td>\n",
              "      <td>7157</td>\n",
              "      <td>p53</td>\n",
              "      <td>TP53</td>\n",
              "      <td>159</td>\n",
              "      <td>162</td>\n",
              "      <td>This discrepancy between cellular models could...</td>\n",
              "      <td>This discrepancy between cellular models could...</td>\n",
              "    </tr>\n",
              "    <tr>\n",
              "      <th>1</th>\n",
              "      <td>33767402</td>\n",
              "      <td>Ruxolitinib before allogeneic hematopoietic tr...</td>\n",
              "      <td>Bone Marrow Transplantation</td>\n",
              "      <td>Bone Marrow Transplantation</td>\n",
              "      <td>2021</td>\n",
              "      <td>3</td>\n",
              "      <td>25</td>\n",
              "      <td>article</td>\n",
              "      <td>introduction</td>\n",
              "      <td>Oncogene</td>\n",
              "      <td>...</td>\n",
              "      <td>0</td>\n",
              "      <td>13</td>\n",
              "      <td>HGNC:1455</td>\n",
              "      <td>811</td>\n",
              "      <td>calreticulin (CALR)</td>\n",
              "      <td>CALR</td>\n",
              "      <td>334</td>\n",
              "      <td>353</td>\n",
              "      <td>Myelofibrosis (MF) is a chronic malignancy, ch...</td>\n",
              "      <td>&lt;b&gt;Myelofibrosis&lt;/b&gt; (MF) is a chronic maligna...</td>\n",
              "    </tr>\n",
              "    <tr>\n",
              "      <th>2</th>\n",
              "      <td>33767402</td>\n",
              "      <td>Ruxolitinib before allogeneic hematopoietic tr...</td>\n",
              "      <td>Bone Marrow Transplantation</td>\n",
              "      <td>Bone Marrow Transplantation</td>\n",
              "      <td>2021</td>\n",
              "      <td>3</td>\n",
              "      <td>25</td>\n",
              "      <td>article</td>\n",
              "      <td>introduction</td>\n",
              "      <td>Oncogene</td>\n",
              "      <td>...</td>\n",
              "      <td>310</td>\n",
              "      <td>318</td>\n",
              "      <td>HGNC:1455</td>\n",
              "      <td>811</td>\n",
              "      <td>calreticulin (CALR)</td>\n",
              "      <td>CALR</td>\n",
              "      <td>334</td>\n",
              "      <td>353</td>\n",
              "      <td>Myelofibrosis (MF) is a chronic malignancy, ch...</td>\n",
              "      <td>Myelofibrosis (MF) is a chronic malignancy, ch...</td>\n",
              "    </tr>\n",
              "    <tr>\n",
              "      <th>3</th>\n",
              "      <td>34002056</td>\n",
              "      <td>Kinase drug discovery 20 years after imatinib:...</td>\n",
              "      <td>Nature Reviews. Drug Discovery</td>\n",
              "      <td>Nature Reviews. Drug Discovery</td>\n",
              "      <td>2021</td>\n",
              "      <td>5</td>\n",
              "      <td>17</td>\n",
              "      <td>article</td>\n",
              "      <td>introduction</td>\n",
              "      <td>Oncogene</td>\n",
              "      <td>...</td>\n",
              "      <td>86</td>\n",
              "      <td>113</td>\n",
              "      <td>HGNC:9967</td>\n",
              "      <td>5979</td>\n",
              "      <td>RET</td>\n",
              "      <td>RET</td>\n",
              "      <td>0</td>\n",
              "      <td>3</td>\n",
              "      <td>RET is a proto-oncogenic RTK in which activati...</td>\n",
              "      <td>&lt;b&gt;RET&lt;/b&gt; is a proto-oncogenic RTK in which a...</td>\n",
              "    </tr>\n",
              "    <tr>\n",
              "      <th>4</th>\n",
              "      <td>34002056</td>\n",
              "      <td>Kinase drug discovery 20 years after imatinib:...</td>\n",
              "      <td>Nature Reviews. Drug Discovery</td>\n",
              "      <td>Nature Reviews. Drug Discovery</td>\n",
              "      <td>2021</td>\n",
              "      <td>5</td>\n",
              "      <td>17</td>\n",
              "      <td>article</td>\n",
              "      <td>introduction</td>\n",
              "      <td>Driver</td>\n",
              "      <td>...</td>\n",
              "      <td>156</td>\n",
              "      <td>170</td>\n",
              "      <td>HGNC:9967</td>\n",
              "      <td>5979</td>\n",
              "      <td>RET</td>\n",
              "      <td>RET</td>\n",
              "      <td>145</td>\n",
              "      <td>148</td>\n",
              "      <td>These compounds, which included cabozantinib, ...</td>\n",
              "      <td>These compounds, which included cabozantinib, ...</td>\n",
              "    </tr>\n",
              "  </tbody>\n",
              "</table>\n",
              "<p>5 rows × 24 columns</p>\n",
              "</div>\n",
              "      <button class=\"colab-df-convert\" onclick=\"convertToInteractive('df-e7b298dc-bfe4-4aa3-85c4-9545179f8ae5')\"\n",
              "              title=\"Convert this dataframe to an interactive table.\"\n",
              "              style=\"display:none;\">\n",
              "        \n",
              "  <svg xmlns=\"http://www.w3.org/2000/svg\" height=\"24px\"viewBox=\"0 0 24 24\"\n",
              "       width=\"24px\">\n",
              "    <path d=\"M0 0h24v24H0V0z\" fill=\"none\"/>\n",
              "    <path d=\"M18.56 5.44l.94 2.06.94-2.06 2.06-.94-2.06-.94-.94-2.06-.94 2.06-2.06.94zm-11 1L8.5 8.5l.94-2.06 2.06-.94-2.06-.94L8.5 2.5l-.94 2.06-2.06.94zm10 10l.94 2.06.94-2.06 2.06-.94-2.06-.94-.94-2.06-.94 2.06-2.06.94z\"/><path d=\"M17.41 7.96l-1.37-1.37c-.4-.4-.92-.59-1.43-.59-.52 0-1.04.2-1.43.59L10.3 9.45l-7.72 7.72c-.78.78-.78 2.05 0 2.83L4 21.41c.39.39.9.59 1.41.59.51 0 1.02-.2 1.41-.59l7.78-7.78 2.81-2.81c.8-.78.8-2.07 0-2.86zM5.41 20L4 18.59l7.72-7.72 1.47 1.35L5.41 20z\"/>\n",
              "  </svg>\n",
              "      </button>\n",
              "      \n",
              "  <style>\n",
              "    .colab-df-container {\n",
              "      display:flex;\n",
              "      flex-wrap:wrap;\n",
              "      gap: 12px;\n",
              "    }\n",
              "\n",
              "    .colab-df-convert {\n",
              "      background-color: #E8F0FE;\n",
              "      border: none;\n",
              "      border-radius: 50%;\n",
              "      cursor: pointer;\n",
              "      display: none;\n",
              "      fill: #1967D2;\n",
              "      height: 32px;\n",
              "      padding: 0 0 0 0;\n",
              "      width: 32px;\n",
              "    }\n",
              "\n",
              "    .colab-df-convert:hover {\n",
              "      background-color: #E2EBFA;\n",
              "      box-shadow: 0px 1px 2px rgba(60, 64, 67, 0.3), 0px 1px 3px 1px rgba(60, 64, 67, 0.15);\n",
              "      fill: #174EA6;\n",
              "    }\n",
              "\n",
              "    [theme=dark] .colab-df-convert {\n",
              "      background-color: #3B4455;\n",
              "      fill: #D2E3FC;\n",
              "    }\n",
              "\n",
              "    [theme=dark] .colab-df-convert:hover {\n",
              "      background-color: #434B5C;\n",
              "      box-shadow: 0px 1px 3px 1px rgba(0, 0, 0, 0.15);\n",
              "      filter: drop-shadow(0px 1px 2px rgba(0, 0, 0, 0.3));\n",
              "      fill: #FFFFFF;\n",
              "    }\n",
              "  </style>\n",
              "\n",
              "      <script>\n",
              "        const buttonEl =\n",
              "          document.querySelector('#df-e7b298dc-bfe4-4aa3-85c4-9545179f8ae5 button.colab-df-convert');\n",
              "        buttonEl.style.display =\n",
              "          google.colab.kernel.accessAllowed ? 'block' : 'none';\n",
              "\n",
              "        async function convertToInteractive(key) {\n",
              "          const element = document.querySelector('#df-e7b298dc-bfe4-4aa3-85c4-9545179f8ae5');\n",
              "          const dataTable =\n",
              "            await google.colab.kernel.invokeFunction('convertToInteractive',\n",
              "                                                     [key], {});\n",
              "          if (!dataTable) return;\n",
              "\n",
              "          const docLinkHtml = 'Like what you see? Visit the ' +\n",
              "            '<a target=\"_blank\" href=https://colab.research.google.com/notebooks/data_table.ipynb>data table notebook</a>'\n",
              "            + ' to learn more about interactive tables.';\n",
              "          element.innerHTML = '';\n",
              "          dataTable['output_type'] = 'display_data';\n",
              "          await google.colab.output.renderOutput(dataTable, element);\n",
              "          const docLink = document.createElement('div');\n",
              "          docLink.innerHTML = docLinkHtml;\n",
              "          element.appendChild(docLink);\n",
              "        }\n",
              "      </script>\n",
              "    </div>\n",
              "  </div>\n",
              "  "
            ]
          },
          "metadata": {},
          "execution_count": 5
        }
      ]
    },
    {
      "cell_type": "markdown",
      "source": [
        "## EDA Analysis"
      ],
      "metadata": {
        "id": "kcH2LzXEAa9K"
      }
    },
    {
      "cell_type": "code",
      "source": [
        "Master_dataset.describe()"
      ],
      "metadata": {
        "id": "rY0jW7U0LfQf",
        "outputId": "0b57415d-93b6-419b-f4bc-0520591096c2",
        "colab": {
          "base_uri": "https://localhost:8080/",
          "height": 300
        }
      },
      "execution_count": 6,
      "outputs": [
        {
          "output_type": "execute_result",
          "data": {
            "text/plain": [
              "               pmid           year    predictprob   cancer_start  \\\n",
              "count  2.518290e+05  251829.000000  251829.000000  251829.000000   \n",
              "mean   2.767741e+07    2015.963650       0.734172     117.153739   \n",
              "std    6.449950e+06       5.975818       0.154890      83.014176   \n",
              "min    6.881900e+04    1977.000000       0.500001       0.000000   \n",
              "25%    2.450812e+07    2014.000000       0.593044      60.000000   \n",
              "50%    2.915673e+07    2018.000000       0.719130     101.000000   \n",
              "75%    3.258271e+07    2020.000000       0.873615     158.000000   \n",
              "max    3.578907e+07    2023.000000       0.999988     933.000000   \n",
              "\n",
              "          cancer_end  gene_entrez_id     gene_start       gene_end  \n",
              "count  251829.000000    2.518290e+05  251829.000000  251829.000000  \n",
              "mean      130.932474    7.309011e+04      87.637977      94.368818  \n",
              "std        83.410870    2.401621e+06      86.366236      87.306199  \n",
              "min         3.000000    1.000000e+00       0.000000       3.000000  \n",
              "25%        74.000000    2.245000e+03      24.000000      30.000000  \n",
              "50%       115.000000    4.893000e+03      63.000000      69.000000  \n",
              "75%       172.000000    7.538000e+03     131.000000     138.000000  \n",
              "max       951.000000    1.053710e+08     973.000000     976.000000  "
            ],
            "text/html": [
              "\n",
              "  <div id=\"df-059c909e-b149-43e7-b6c0-4f431a0bbeb9\">\n",
              "    <div class=\"colab-df-container\">\n",
              "      <div>\n",
              "<style scoped>\n",
              "    .dataframe tbody tr th:only-of-type {\n",
              "        vertical-align: middle;\n",
              "    }\n",
              "\n",
              "    .dataframe tbody tr th {\n",
              "        vertical-align: top;\n",
              "    }\n",
              "\n",
              "    .dataframe thead th {\n",
              "        text-align: right;\n",
              "    }\n",
              "</style>\n",
              "<table border=\"1\" class=\"dataframe\">\n",
              "  <thead>\n",
              "    <tr style=\"text-align: right;\">\n",
              "      <th></th>\n",
              "      <th>pmid</th>\n",
              "      <th>year</th>\n",
              "      <th>predictprob</th>\n",
              "      <th>cancer_start</th>\n",
              "      <th>cancer_end</th>\n",
              "      <th>gene_entrez_id</th>\n",
              "      <th>gene_start</th>\n",
              "      <th>gene_end</th>\n",
              "    </tr>\n",
              "  </thead>\n",
              "  <tbody>\n",
              "    <tr>\n",
              "      <th>count</th>\n",
              "      <td>2.518290e+05</td>\n",
              "      <td>251829.000000</td>\n",
              "      <td>251829.000000</td>\n",
              "      <td>251829.000000</td>\n",
              "      <td>251829.000000</td>\n",
              "      <td>2.518290e+05</td>\n",
              "      <td>251829.000000</td>\n",
              "      <td>251829.000000</td>\n",
              "    </tr>\n",
              "    <tr>\n",
              "      <th>mean</th>\n",
              "      <td>2.767741e+07</td>\n",
              "      <td>2015.963650</td>\n",
              "      <td>0.734172</td>\n",
              "      <td>117.153739</td>\n",
              "      <td>130.932474</td>\n",
              "      <td>7.309011e+04</td>\n",
              "      <td>87.637977</td>\n",
              "      <td>94.368818</td>\n",
              "    </tr>\n",
              "    <tr>\n",
              "      <th>std</th>\n",
              "      <td>6.449950e+06</td>\n",
              "      <td>5.975818</td>\n",
              "      <td>0.154890</td>\n",
              "      <td>83.014176</td>\n",
              "      <td>83.410870</td>\n",
              "      <td>2.401621e+06</td>\n",
              "      <td>86.366236</td>\n",
              "      <td>87.306199</td>\n",
              "    </tr>\n",
              "    <tr>\n",
              "      <th>min</th>\n",
              "      <td>6.881900e+04</td>\n",
              "      <td>1977.000000</td>\n",
              "      <td>0.500001</td>\n",
              "      <td>0.000000</td>\n",
              "      <td>3.000000</td>\n",
              "      <td>1.000000e+00</td>\n",
              "      <td>0.000000</td>\n",
              "      <td>3.000000</td>\n",
              "    </tr>\n",
              "    <tr>\n",
              "      <th>25%</th>\n",
              "      <td>2.450812e+07</td>\n",
              "      <td>2014.000000</td>\n",
              "      <td>0.593044</td>\n",
              "      <td>60.000000</td>\n",
              "      <td>74.000000</td>\n",
              "      <td>2.245000e+03</td>\n",
              "      <td>24.000000</td>\n",
              "      <td>30.000000</td>\n",
              "    </tr>\n",
              "    <tr>\n",
              "      <th>50%</th>\n",
              "      <td>2.915673e+07</td>\n",
              "      <td>2018.000000</td>\n",
              "      <td>0.719130</td>\n",
              "      <td>101.000000</td>\n",
              "      <td>115.000000</td>\n",
              "      <td>4.893000e+03</td>\n",
              "      <td>63.000000</td>\n",
              "      <td>69.000000</td>\n",
              "    </tr>\n",
              "    <tr>\n",
              "      <th>75%</th>\n",
              "      <td>3.258271e+07</td>\n",
              "      <td>2020.000000</td>\n",
              "      <td>0.873615</td>\n",
              "      <td>158.000000</td>\n",
              "      <td>172.000000</td>\n",
              "      <td>7.538000e+03</td>\n",
              "      <td>131.000000</td>\n",
              "      <td>138.000000</td>\n",
              "    </tr>\n",
              "    <tr>\n",
              "      <th>max</th>\n",
              "      <td>3.578907e+07</td>\n",
              "      <td>2023.000000</td>\n",
              "      <td>0.999988</td>\n",
              "      <td>933.000000</td>\n",
              "      <td>951.000000</td>\n",
              "      <td>1.053710e+08</td>\n",
              "      <td>973.000000</td>\n",
              "      <td>976.000000</td>\n",
              "    </tr>\n",
              "  </tbody>\n",
              "</table>\n",
              "</div>\n",
              "      <button class=\"colab-df-convert\" onclick=\"convertToInteractive('df-059c909e-b149-43e7-b6c0-4f431a0bbeb9')\"\n",
              "              title=\"Convert this dataframe to an interactive table.\"\n",
              "              style=\"display:none;\">\n",
              "        \n",
              "  <svg xmlns=\"http://www.w3.org/2000/svg\" height=\"24px\"viewBox=\"0 0 24 24\"\n",
              "       width=\"24px\">\n",
              "    <path d=\"M0 0h24v24H0V0z\" fill=\"none\"/>\n",
              "    <path d=\"M18.56 5.44l.94 2.06.94-2.06 2.06-.94-2.06-.94-.94-2.06-.94 2.06-2.06.94zm-11 1L8.5 8.5l.94-2.06 2.06-.94-2.06-.94L8.5 2.5l-.94 2.06-2.06.94zm10 10l.94 2.06.94-2.06 2.06-.94-2.06-.94-.94-2.06-.94 2.06-2.06.94z\"/><path d=\"M17.41 7.96l-1.37-1.37c-.4-.4-.92-.59-1.43-.59-.52 0-1.04.2-1.43.59L10.3 9.45l-7.72 7.72c-.78.78-.78 2.05 0 2.83L4 21.41c.39.39.9.59 1.41.59.51 0 1.02-.2 1.41-.59l7.78-7.78 2.81-2.81c.8-.78.8-2.07 0-2.86zM5.41 20L4 18.59l7.72-7.72 1.47 1.35L5.41 20z\"/>\n",
              "  </svg>\n",
              "      </button>\n",
              "      \n",
              "  <style>\n",
              "    .colab-df-container {\n",
              "      display:flex;\n",
              "      flex-wrap:wrap;\n",
              "      gap: 12px;\n",
              "    }\n",
              "\n",
              "    .colab-df-convert {\n",
              "      background-color: #E8F0FE;\n",
              "      border: none;\n",
              "      border-radius: 50%;\n",
              "      cursor: pointer;\n",
              "      display: none;\n",
              "      fill: #1967D2;\n",
              "      height: 32px;\n",
              "      padding: 0 0 0 0;\n",
              "      width: 32px;\n",
              "    }\n",
              "\n",
              "    .colab-df-convert:hover {\n",
              "      background-color: #E2EBFA;\n",
              "      box-shadow: 0px 1px 2px rgba(60, 64, 67, 0.3), 0px 1px 3px 1px rgba(60, 64, 67, 0.15);\n",
              "      fill: #174EA6;\n",
              "    }\n",
              "\n",
              "    [theme=dark] .colab-df-convert {\n",
              "      background-color: #3B4455;\n",
              "      fill: #D2E3FC;\n",
              "    }\n",
              "\n",
              "    [theme=dark] .colab-df-convert:hover {\n",
              "      background-color: #434B5C;\n",
              "      box-shadow: 0px 1px 3px 1px rgba(0, 0, 0, 0.15);\n",
              "      filter: drop-shadow(0px 1px 2px rgba(0, 0, 0, 0.3));\n",
              "      fill: #FFFFFF;\n",
              "    }\n",
              "  </style>\n",
              "\n",
              "      <script>\n",
              "        const buttonEl =\n",
              "          document.querySelector('#df-059c909e-b149-43e7-b6c0-4f431a0bbeb9 button.colab-df-convert');\n",
              "        buttonEl.style.display =\n",
              "          google.colab.kernel.accessAllowed ? 'block' : 'none';\n",
              "\n",
              "        async function convertToInteractive(key) {\n",
              "          const element = document.querySelector('#df-059c909e-b149-43e7-b6c0-4f431a0bbeb9');\n",
              "          const dataTable =\n",
              "            await google.colab.kernel.invokeFunction('convertToInteractive',\n",
              "                                                     [key], {});\n",
              "          if (!dataTable) return;\n",
              "\n",
              "          const docLinkHtml = 'Like what you see? Visit the ' +\n",
              "            '<a target=\"_blank\" href=https://colab.research.google.com/notebooks/data_table.ipynb>data table notebook</a>'\n",
              "            + ' to learn more about interactive tables.';\n",
              "          element.innerHTML = '';\n",
              "          dataTable['output_type'] = 'display_data';\n",
              "          await google.colab.output.renderOutput(dataTable, element);\n",
              "          const docLink = document.createElement('div');\n",
              "          docLink.innerHTML = docLinkHtml;\n",
              "          element.appendChild(docLink);\n",
              "        }\n",
              "      </script>\n",
              "    </div>\n",
              "  </div>\n",
              "  "
            ]
          },
          "metadata": {},
          "execution_count": 6
        }
      ]
    },
    {
      "cell_type": "code",
      "source": [
        "Master_dataset.info()"
      ],
      "metadata": {
        "colab": {
          "base_uri": "https://localhost:8080/"
        },
        "id": "q4WPUlzEKjpn",
        "outputId": "dbd214e0-89c1-4653-aa98-eb8f5c510750"
      },
      "execution_count": 7,
      "outputs": [
        {
          "output_type": "stream",
          "name": "stdout",
          "text": [
            "<class 'pandas.core.frame.DataFrame'>\n",
            "RangeIndex: 251829 entries, 0 to 251828\n",
            "Data columns (total 24 columns):\n",
            " #   Column              Non-Null Count   Dtype  \n",
            "---  ------              --------------   -----  \n",
            " 0   pmid                251829 non-null  int64  \n",
            " 1   title               251829 non-null  object \n",
            " 2   journal             251829 non-null  object \n",
            " 3   journal_short       251829 non-null  object \n",
            " 4   year                251829 non-null  int64  \n",
            " 5   month               251829 non-null  object \n",
            " 6   day                 251829 non-null  object \n",
            " 7   section             251829 non-null  object \n",
            " 8   subsection          251829 non-null  object \n",
            " 9   role                251829 non-null  object \n",
            " 10  predictprob         251829 non-null  float64\n",
            " 11  cancer_id           251829 non-null  object \n",
            " 12  cancer_name         251829 non-null  object \n",
            " 13  cancer_normalized   251829 non-null  object \n",
            " 14  cancer_start        251829 non-null  int64  \n",
            " 15  cancer_end          251829 non-null  int64  \n",
            " 16  gene_hugo_id        251829 non-null  object \n",
            " 17  gene_entrez_id      251829 non-null  int64  \n",
            " 18  gene_name           251829 non-null  object \n",
            " 19  gene_normalized     251829 non-null  object \n",
            " 20  gene_start          251829 non-null  int64  \n",
            " 21  gene_end            251829 non-null  int64  \n",
            " 22  sentence            251829 non-null  object \n",
            " 23  formatted_sentence  251829 non-null  object \n",
            "dtypes: float64(1), int64(7), object(16)\n",
            "memory usage: 46.1+ MB\n"
          ]
        }
      ]
    },
    {
      "cell_type": "code",
      "source": [
        "print('\\nMaster data shape:')\n",
        "print('Shape:', Master_dataset.shape)\n",
        "#identifying duplicates\n",
        "print('\\nDuplicate Values:')\n",
        "print(Master_dataset.duplicated().any())"
      ],
      "metadata": {
        "colab": {
          "base_uri": "https://localhost:8080/"
        },
        "id": "gjaHfWrDsJO9",
        "outputId": "0f28a671-883e-4597-a6c6-5e74f591ef38"
      },
      "execution_count": 8,
      "outputs": [
        {
          "output_type": "stream",
          "name": "stdout",
          "text": [
            "\n",
            "Master data shape:\n",
            "Shape: (251829, 24)\n",
            "\n",
            "Duplicate Values:\n",
            "True\n"
          ]
        }
      ]
    },
    {
      "cell_type": "code",
      "source": [
        "#dropping duplicates\n",
        "Master_dataset = Master_dataset.drop_duplicates()\n",
        "print('Shape:', Master_dataset.shape)"
      ],
      "metadata": {
        "colab": {
          "base_uri": "https://localhost:8080/"
        },
        "id": "fNJ_nXPBBXYD",
        "outputId": "e578bd92-308e-4b83-c74d-6834efa31e69"
      },
      "execution_count": 17,
      "outputs": [
        {
          "output_type": "stream",
          "name": "stdout",
          "text": [
            "Shape: (251823, 24)\n"
          ]
        }
      ]
    },
    {
      "cell_type": "markdown",
      "source": [
        "6 duplicate rows have been now removed from the master dataset. "
      ],
      "metadata": {
        "id": "Dg0Xac20IRPV"
      }
    },
    {
      "cell_type": "code",
      "source": [
        "Master_dataset.isnull().sum()"
      ],
      "metadata": {
        "colab": {
          "base_uri": "https://localhost:8080/"
        },
        "id": "Sq0xOZQxKpjv",
        "outputId": "947dd560-cfb1-4a9c-c627-05663daea177"
      },
      "execution_count": 18,
      "outputs": [
        {
          "output_type": "execute_result",
          "data": {
            "text/plain": [
              "pmid                  0\n",
              "title                 0\n",
              "journal               0\n",
              "journal_short         0\n",
              "year                  0\n",
              "month                 0\n",
              "day                   0\n",
              "section               0\n",
              "subsection            0\n",
              "role                  0\n",
              "predictprob           0\n",
              "cancer_id             0\n",
              "cancer_name           0\n",
              "cancer_normalized     0\n",
              "cancer_start          0\n",
              "cancer_end            0\n",
              "gene_hugo_id          0\n",
              "gene_entrez_id        0\n",
              "gene_name             0\n",
              "gene_normalized       0\n",
              "gene_start            0\n",
              "gene_end              0\n",
              "sentence              0\n",
              "formatted_sentence    0\n",
              "dtype: int64"
            ]
          },
          "metadata": {},
          "execution_count": 18
        }
      ]
    },
    {
      "cell_type": "markdown",
      "source": [
        "No null value in the master dataset"
      ],
      "metadata": {
        "id": "IbgiOub8IaPB"
      }
    },
    {
      "cell_type": "code",
      "source": [
        "Master_dataset.columns"
      ],
      "metadata": {
        "colab": {
          "base_uri": "https://localhost:8080/"
        },
        "id": "IYSxmCH4tcBP",
        "outputId": "11223f4c-85d4-493f-f5e4-9792e582b1bf"
      },
      "execution_count": 10,
      "outputs": [
        {
          "output_type": "execute_result",
          "data": {
            "text/plain": [
              "Index(['pmid', 'title', 'journal', 'journal_short', 'year', 'month', 'day',\n",
              "       'section', 'subsection', 'role', 'predictprob', 'cancer_id',\n",
              "       'cancer_name', 'cancer_normalized', 'cancer_start', 'cancer_end',\n",
              "       'gene_hugo_id', 'gene_entrez_id', 'gene_name', 'gene_normalized',\n",
              "       'gene_start', 'gene_end', 'sentence', 'formatted_sentence'],\n",
              "      dtype='object')"
            ]
          },
          "metadata": {},
          "execution_count": 10
        }
      ]
    },
    {
      "cell_type": "markdown",
      "source": [
        "## Top Journal"
      ],
      "metadata": {
        "id": "V9wOgqTaKkMt"
      }
    },
    {
      "cell_type": "code",
      "source": [
        "journal = Master_dataset['journal'].value_counts()\n",
        "journal"
      ],
      "metadata": {
        "colab": {
          "base_uri": "https://localhost:8080/"
        },
        "id": "JS5yQq_IKmec",
        "outputId": "03bf23bc-4951-4472-ca8f-e692aa91bd12"
      },
      "execution_count": 50,
      "outputs": [
        {
          "output_type": "execute_result",
          "data": {
            "text/plain": [
              "Oncotarget                                                                                      12571\n",
              "PLoS ONE                                                                                         9204\n",
              "Cancers                                                                                          8549\n",
              "International Journal of Molecular Sciences                                                      6344\n",
              "Frontiers in Oncology                                                                            6186\n",
              "                                                                                                ...  \n",
              "Seminars in ophthalmology                                                                           1\n",
              "Skin pharmacology and physiology                                                                    1\n",
              "ACS synthetic biology                                                                               1\n",
              "IEEE transactions on signal processing : a publication of the IEEE Signal Processing Society        1\n",
              "Cancer treatment reports                                                                            1\n",
              "Name: journal, Length: 4772, dtype: int64"
            ]
          },
          "metadata": {},
          "execution_count": 50
        }
      ]
    },
    {
      "cell_type": "code",
      "source": [
        "#the top 10\n",
        "journal2 = journal[:10].copy()\n",
        "\n",
        "#others\n",
        "new_row = pd.DataFrame(data = {\n",
        "    'name' : ['others'],\n",
        "    'value' : [journal.values[10:].sum()]\n",
        "})\n",
        "\n",
        "journal2"
      ],
      "metadata": {
        "colab": {
          "base_uri": "https://localhost:8080/"
        },
        "id": "1BY-2J8SKutv",
        "outputId": "ad5791e2-3313-4392-b9a5-53afabdd6d47"
      },
      "execution_count": 52,
      "outputs": [
        {
          "output_type": "execute_result",
          "data": {
            "text/plain": [
              "Oncotarget                                     12571\n",
              "PLoS ONE                                        9204\n",
              "Cancers                                         8549\n",
              "International Journal of Molecular Sciences     6344\n",
              "Frontiers in Oncology                           6186\n",
              "Oncogene                                        6027\n",
              "Cancer research                                 5954\n",
              "Scientific Reports                              4962\n",
              "Nature Communications                           3605\n",
              "Oncology Letters                                3263\n",
              "Name: journal, dtype: int64"
            ]
          },
          "metadata": {},
          "execution_count": 52
        }
      ]
    },
    {
      "cell_type": "code",
      "source": [
        "plt.figure(figsize=(22,10))\n",
        "\n",
        "name = journal2.index\n",
        "vals = journal2.values\n",
        "\n",
        "print(name, vals)\n",
        "\n",
        "sns.barplot(x = name, y = vals)\n",
        "plt.title('Top 10 Journals',fontsize = 20)\n",
        "plt.xlabel('Journal name', fontsize = 15)\n",
        "plt.ylabel('Count',fontsize = 15)\n",
        "plt.show()"
      ],
      "metadata": {
        "colab": {
          "base_uri": "https://localhost:8080/",
          "height": 721
        },
        "id": "ablGK4Y2K4Mi",
        "outputId": "997dae48-9560-40f9-efa5-34931d9c281b"
      },
      "execution_count": 61,
      "outputs": [
        {
          "output_type": "stream",
          "name": "stdout",
          "text": [
            "Index(['Oncotarget', 'PLoS ONE', 'Cancers',\n",
            "       'International Journal of Molecular Sciences', 'Frontiers in Oncology',\n",
            "       'Oncogene', 'Cancer research', 'Scientific Reports',\n",
            "       'Nature Communications', 'Oncology Letters'],\n",
            "      dtype='object') [12571  9204  8549  6344  6186  6027  5954  4962  3605  3263]\n"
          ]
        },
        {
          "output_type": "display_data",
          "data": {
            "text/plain": [
              "<Figure size 1584x720 with 1 Axes>"
            ],
            "image/png": "[encoded data removed]"
          },
          "metadata": {}
        }
      ]
    },
    {
      "cell_type": "markdown",
      "source": [
        "'Oncotarget', 'PLoS ONE', 'Cancers' are the top 3 journals that are referred for this dataset. "
      ],
      "metadata": {
        "id": "klB_JpkbMPz-"
      }
    },
    {
      "cell_type": "markdown",
      "source": [
        "## Types of Genes"
      ],
      "metadata": {
        "id": "ucGbec94ChFQ"
      }
    },
    {
      "cell_type": "code",
      "source": [
        "gene = Master_dataset['gene_normalized'].value_counts()\n",
        "gene"
      ],
      "metadata": {
        "colab": {
          "base_uri": "https://localhost:8080/"
        },
        "id": "VyUBbgbECd1k",
        "outputId": "2a5dae66-3f0a-4ec4-a19e-144b9c096ea7"
      },
      "execution_count": 42,
      "outputs": [
        {
          "output_type": "execute_result",
          "data": {
            "text/plain": [
              "KRAS       11868\n",
              "MYC        10585\n",
              "TP53        9955\n",
              "EGFR        6366\n",
              "PTEN        4751\n",
              "           ...  \n",
              "CFAP251        1\n",
              "ATP5F1A        1\n",
              "HM13           1\n",
              "STIP1          1\n",
              "HSPA14         1\n",
              "Name: gene_normalized, Length: 8415, dtype: int64"
            ]
          },
          "metadata": {},
          "execution_count": 42
        }
      ]
    },
    {
      "cell_type": "code",
      "source": [
        "#the top 10\n",
        "gene2 = gene[:10].copy()\n",
        "\n",
        "#others\n",
        "new_row = pd.DataFrame(data = {\n",
        "    'name' : ['others'],\n",
        "    'value' : [gene.values[10:].sum()]\n",
        "})"
      ],
      "metadata": {
        "id": "AKGUTLNWDQXJ"
      },
      "execution_count": 46,
      "outputs": []
    },
    {
      "cell_type": "code",
      "source": [
        "name = gene2.index\n",
        "vals = gene2.values\n",
        "figp, axp = plt.subplots(figsize=(11,10))\n",
        "\n",
        "axp.pie(vals , labels=name, autopct='%1.1f%%', startangle=90,)\n",
        "axp.axis('equal')\n",
        "plt.title('Top 10 Gene types', fontsize=18)\n",
        "plt.show()"
      ],
      "metadata": {
        "colab": {
          "base_uri": "https://localhost:8080/",
          "height": 594
        },
        "id": "Z_5u8ZmwEe0Y",
        "outputId": "de5383f2-438f-460b-ef4f-5c9a4a308493"
      },
      "execution_count": 48,
      "outputs": [
        {
          "output_type": "display_data",
          "data": {
            "text/plain": [
              "<Figure size 792x720 with 1 Axes>"
            ],
            "image/png": "[encoded data removed]"
          },
          "metadata": {}
        }
      ]
    },
    {
      "cell_type": "markdown",
      "source": [
        "We can clearly see that KRAS, MYC, TP53 are the top 3 citied genes"
      ],
      "metadata": {
        "id": "QEegkIsuIDJM"
      }
    },
    {
      "cell_type": "markdown",
      "source": [
        "## Types of Cancer"
      ],
      "metadata": {
        "id": "jDFW9vtGB7LX"
      }
    },
    {
      "cell_type": "code",
      "source": [
        "### Calculating Unique Types of  Cancers ######\n",
        "cancer_types = np.unique(Master_dataset['cancer_normalized'])\n",
        "print(\"Unique types of cancer: \",len(cancer_types)) # we have 621 cancer types (too much to visualize)"
      ],
      "metadata": {
        "colab": {
          "base_uri": "https://localhost:8080/"
        },
        "id": "XKxbQ-j7uCam",
        "outputId": "dbb1dc43-3951-4de1-9e86-bcc9c456c534"
      },
      "execution_count": 19,
      "outputs": [
        {
          "output_type": "stream",
          "name": "stdout",
          "text": [
            "Unique types of cancer:  621\n"
          ]
        }
      ]
    },
    {
      "cell_type": "code",
      "source": [
        "# making a list of the cancers that we care about for this specific project\n",
        "cancers_of_interest = [] \n",
        "for cancer in cancer_types: \n",
        "  if re.search('lung', cancer): \n",
        "    cancers_of_interest.append(cancer)\n",
        "  elif re.search('colon', cancer):\n",
        "    cancers_of_interest.append(cancer)\n",
        "  elif re.search('pancrea', cancer):\n",
        "    cancers_of_interest.append(cancer)\n",
        "  else: continue\n",
        "print(\"Number of Cancer types: \",len(cancers_of_interest)) # only 31 types of cancers found\n",
        "print(\"Cancer List:\\n\",cancers_of_interest)"
      ],
      "metadata": {
        "colab": {
          "base_uri": "https://localhost:8080/"
        },
        "id": "NNHVayjDxN0O",
        "outputId": "11937ce3-3e41-4149-cc84-f153eccffa33"
      },
      "execution_count": 20,
      "outputs": [
        {
          "output_type": "stream",
          "name": "stdout",
          "text": [
            "Number of Cancer types:  31\n",
            "Cancer List:\n",
            " ['asbestos-related lung carcinoma', 'colon adenocarcinoma', 'colon cancer', 'colon carcinoma', 'colon mucinous adenocarcinoma', 'colon sarcoma', 'lung adenocarcinoma', 'lung adenoid cystic carcinoma', 'lung cancer', 'lung carcinoma', 'lung combined type small cell carcinoma', 'lung giant cell carcinoma', 'lung large cell carcinoma', 'lung non-small cell carcinoma', 'lung oat cell carcinoma', 'lung papillary adenocarcinoma', 'lung sarcoma', 'lung sarcomatoid carcinoma', 'lung small cell carcinoma', 'lung squamous cell carcinoma', 'malignant exocrine pancreas neoplasm', 'mucinous lung adenocarcinoma', 'non-functioning pancreatic endocrine tumor', 'pancreatic acinar cell adenocarcinoma', 'pancreatic adenocarcinoma', 'pancreatic adenosquamous carcinoma', 'pancreatic cancer', 'pancreatic carcinoma', 'pancreatic ductal adenocarcinoma', 'pancreatic ductal carcinoma', 'pancreatic endocrine carcinoma']\n"
          ]
        }
      ]
    },
    {
      "cell_type": "code",
      "source": [
        "filtered_dataset = Master_dataset[Master_dataset['cancer_normalized'].isin(cancers_of_interest)]\n",
        "print(\"Shape of Filtered Data: \", filtered_dataset.shape)"
      ],
      "metadata": {
        "colab": {
          "base_uri": "https://localhost:8080/"
        },
        "id": "REFHcEZq1sxI",
        "outputId": "0abd917a-ff98-4c99-c89b-a5fa305291cd"
      },
      "execution_count": 21,
      "outputs": [
        {
          "output_type": "stream",
          "name": "stdout",
          "text": [
            "Shape of Filtered Data:  (52473, 24)\n"
          ]
        }
      ]
    },
    {
      "cell_type": "code",
      "source": [
        "## Plotting Data Distribution of Cancer types ##\n",
        "sns.set(rc = {'figure.figsize':(11,8)})\n",
        "sns.set_style('whitegrid')\n",
        "ax = sns.histplot(filtered_dataset, x='cancer_normalized')\n",
        "ax.tick_params(axis='x', labelrotation = 90)\n",
        "ax.tick_params(labelsize=12)\n",
        "ax.axes.set_title(\"Frequency of Cancer Types\",fontsize=22)\n",
        "ax.set_xlabel(\"Cancer Types\", fontsize=20)\n",
        "ax.set_ylabel(\"Count\", fontsize=20)"
      ],
      "metadata": {
        "colab": {
          "base_uri": "https://localhost:8080/",
          "height": 803
        },
        "id": "x0Hee3tu2mX2",
        "outputId": "50fa054e-3b32-48e3-944a-81c12fb695db"
      },
      "execution_count": 22,
      "outputs": [
        {
          "output_type": "execute_result",
          "data": {
            "text/plain": [
              "Text(0, 0.5, 'Count')"
            ]
          },
          "metadata": {},
          "execution_count": 22
        },
        {
          "output_type": "display_data",
          "data": {
            "text/plain": [
              "<Figure size 792x576 with 1 Axes>"
            ],
            "image/png": "[encoded data removed]"
          },
          "metadata": {}
        }
      ]
    },
    {
      "cell_type": "markdown",
      "source": [
        "Here we are looking at the frequency of the 31 different cancer types that matched my search query. Of the 31 cancer types we see that we have a larger proportion of cancers that are for the lungs. "
      ],
      "metadata": {
        "id": "tGayMyQQ7H8Z"
      }
    },
    {
      "cell_type": "markdown",
      "source": [
        "## Relationship between Gene, Cancer"
      ],
      "metadata": {
        "id": "4IKGa_HMPsVQ"
      }
    },
    {
      "cell_type": "code",
      "source": [
        "rel = filtered_dataset.groupby(['gene_normalized', 'cancer_normalized'])['journal'].count().sort_values(ascending=False)\n",
        "rel"
      ],
      "metadata": {
        "colab": {
          "base_uri": "https://localhost:8080/"
        },
        "id": "YDMdKLtmPrOe",
        "outputId": "242f05ec-30f1-4773-a6c7-9f79a45a4360"
      },
      "execution_count": 74,
      "outputs": [
        {
          "output_type": "execute_result",
          "data": {
            "text/plain": [
              "gene_normalized  cancer_normalized               \n",
              "KRAS             pancreatic ductal adenocarcinoma    2351\n",
              "EGFR             lung non-small cell carcinoma       2044\n",
              "KRAS             pancreatic cancer                   2017\n",
              "                 lung cancer                         1613\n",
              "                 lung non-small cell carcinoma       1547\n",
              "                                                     ... \n",
              "KDM4A            lung carcinoma                         1\n",
              "                 lung adenocarcinoma                    1\n",
              "                 colon cancer                           1\n",
              "KDM3A            pancreatic ductal adenocarcinoma       1\n",
              "ZYX              pancreatic cancer                      1\n",
              "Name: journal, Length: 9140, dtype: int64"
            ]
          },
          "metadata": {},
          "execution_count": 74
        }
      ]
    },
    {
      "cell_type": "code",
      "source": [
        "#the top 10\n",
        "rel2 = rel[:10].copy()\n",
        "rel2"
      ],
      "metadata": {
        "colab": {
          "base_uri": "https://localhost:8080/"
        },
        "id": "WZChliR5Slpb",
        "outputId": "fb4905e8-dddc-4e93-9b15-6b9f29b4aff8"
      },
      "execution_count": 76,
      "outputs": [
        {
          "output_type": "execute_result",
          "data": {
            "text/plain": [
              "gene_normalized  cancer_normalized               \n",
              "KRAS             pancreatic ductal adenocarcinoma    2351\n",
              "EGFR             lung non-small cell carcinoma       2044\n",
              "KRAS             pancreatic cancer                   2017\n",
              "                 lung cancer                         1613\n",
              "                 lung non-small cell carcinoma       1547\n",
              "EGFR             lung cancer                          997\n",
              "ALK              lung non-small cell carcinoma        914\n",
              "KRAS             lung adenocarcinoma                  840\n",
              "EGFR             lung adenocarcinoma                  611\n",
              "CD274            lung non-small cell carcinoma        563\n",
              "Name: journal, dtype: int64"
            ]
          },
          "metadata": {},
          "execution_count": 76
        }
      ]
    },
    {
      "cell_type": "markdown",
      "source": [
        "KRAS, EGFR, ALK are the most common genes in the filtered cancer types. "
      ],
      "metadata": {
        "id": "tUeOVwAsTVHV"
      }
    }
  ]
}