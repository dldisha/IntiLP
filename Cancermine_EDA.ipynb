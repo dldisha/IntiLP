{
  "nbformat": 4,
  "nbformat_minor": 0,
  "metadata": {
    "colab": {
      "provenance": []
    },
    "kernelspec": {
      "name": "python3",
      "display_name": "Python 3"
    },
    "language_info": {
      "name": "python"
    },
    "accelerator": "GPU",
    "gpuClass": "standard"
  },
  "cells": [
    {
      "cell_type": "markdown",
      "source": [
        "## Group Name: IntiLP (Intelligent Language Processing)\n",
        "\n",
        "## Project Name: CancerMine - text-mined knowledgebase\n",
        "\n",
        "## Group Members: \n",
        "* Disha Lamba\n",
        "* Kiarash Rastegar\n",
        "* Somasundaram Palaniappan\n",
        "* Mercy Oyekanmi\n",
        "\n",
        "## Email: \n",
        "* Disha: jb.dishalamba@gmail.com\n",
        "* Kiarash: krastegar0@gmail.com \n",
        "* Somu: plsaran97@gmail.com\n",
        "* Mercy: creativeart19@icloud.com \n",
        "\n",
        "## Country:  \n",
        "* Disha: New York\n",
        "* Kiarash: California\n",
        "* Somu: England\n",
        "* Mercy: London\n",
        "\n",
        "## College/Company: \n",
        "* Disha: MS in Computer Science and Engineering @ New York University\n",
        "* Kiarash: MS in Bioinformatics @ San Diego State University\n",
        "* Somu: MS in AI and Robotics @ University of Hertfordshire\n",
        "* Mercy: MSc in Finance @ UCL\n",
        "\n",
        "## Specialization: NLP\n",
        "\n",
        "\n",
        "## Project's Objective:\n",
        "We propose an approach to use a deep learning NLP model that will be able to extract important information from biomedical literature and return a list of biological markers related to that disease. \n",
        "\n",
        "Here we will focus on 3 major types of cancer: lung, pancreatic, and colon. \n",
        "\n",
        "## Data understanding:\n",
        "The data we are going to analyze are biomedical literature that can be found on PubMed or other global medical networks. Some problems that we might run into is that not all the articles in the dataset are going to be related to the types of cancers we are interested in. \n",
        "\n",
        "## Dataset used:\n",
        "CancerMine: https://zenodo.org/record/6811941#.Ywlf29PMK5d\n",
        "\n",
        "* For our problem set we are using **cancermine_unfiltered.tsv** which is a raw output of the applyModelsToSentences.py script across all of PubMed, Pubmed Central Open Access and PubMed Central Author Manuscript Collection.\n",
        "\n",
        "* The dataset contains every predicted relation with a prediction score above 0.5.\n",
        "\n",
        "* Each row also contains the information about the publication (e.g. journal, publication date, etc) along with the sentence and the specific cancer gene role extracted (with HUGO, Entrez Gene and Disease Ontology IDs). \n",
        "\n",
        "* File size: 186 MB\n"
      ],
      "metadata": {
        "id": "VM0bJ64IWNR7"
      }
    },
    {
      "cell_type": "markdown",
      "source": [
        "## Import libraries"
      ],
      "metadata": {
        "id": "WYAjkLxUASCY"
      }
    },
    {
      "cell_type": "code",
      "source": [
        "from google.colab import drive\n",
        "drive.mount('/content/drive')"
      ],
      "metadata": {
        "colab": {
          "base_uri": "https://localhost:8080/"
        },
        "id": "iZM6btrqkTrH",
        "outputId": "e0a1407a-26b2-4db6-bdb6-ba493e93ea1c"
      },
      "execution_count": null,
      "outputs": [
        {
          "output_type": "stream",
          "name": "stdout",
          "text": [
            "Drive already mounted at /content/drive; to attempt to forcibly remount, call drive.mount(\"/content/drive\", force_remount=True).\n"
          ]
        }
      ]
    },
    {
      "cell_type": "code",
      "execution_count": null,
      "metadata": {
        "id": "9FKynws5mNOq"
      },
      "outputs": [],
      "source": [
        "import numpy as np\n",
        "import pandas as pd\n",
        "import matplotlib.pyplot as plt\n",
        "import seaborn as sns\n",
        "import re\n",
        "import string\n",
        "import nltk\n",
        "from sklearn.model_selection import train_test_split"
      ]
    },
    {
      "cell_type": "markdown",
      "source": [
        "## Reading the csv file\n"
      ],
      "metadata": {
        "id": "oU6jsbBMAWyH"
      }
    },
    {
      "cell_type": "code",
      "source": [
        "#converting .tsv to .csv file\n",
        "tsv_file ='/content/drive/MyDrive/cancermine_unfiltered.tsv' # can we please keep the file in our drive? everyone is going to have different folders they are working with\n",
        " \n",
        "# reading given tsv file\n",
        "csv_table = pd.read_table(tsv_file,sep='\\t')\n",
        " \n",
        "# converting tsv file into csv\n",
        "csv_table.to_csv('cancermine_unfil.csv',index=False)"
      ],
      "metadata": {
        "id": "AUF_JRljX956"
      },
      "execution_count": null,
      "outputs": []
    },
    {
      "cell_type": "code",
      "source": [
        "Master_dataset = pd.read_csv('cancermine_unfil.csv')"
      ],
      "metadata": {
        "id": "WFjE4dDpJtGF"
      },
      "execution_count": null,
      "outputs": []
    },
    {
      "cell_type": "code",
      "source": [
        "Master_dataset.head()"
      ],
      "metadata": {
        "colab": {
          "base_uri": "https://localhost:8080/",
          "height": 681
        },
        "id": "9XA8hoGjKgRC",
        "outputId": "9b421e71-e5c9-4935-d39a-fa20d9e0d6a6"
      },
      "execution_count": null,
      "outputs": [
        {
          "output_type": "execute_result",
          "data": {
            "text/plain": [
              "       pmid                                              title  \\\n",
              "0  33692570  COVID-19 and liver disease: mechanistic and cl...   \n",
              "1  33767402  Ruxolitinib before allogeneic hematopoietic tr...   \n",
              "2  33767402  Ruxolitinib before allogeneic hematopoietic tr...   \n",
              "3  34002056  Kinase drug discovery 20 years after imatinib:...   \n",
              "4  34002056  Kinase drug discovery 20 years after imatinib:...   \n",
              "\n",
              "                                         journal  \\\n",
              "0  Nature Reviews. Gastroenterology & Hepatology   \n",
              "1                    Bone Marrow Transplantation   \n",
              "2                    Bone Marrow Transplantation   \n",
              "3                 Nature Reviews. Drug Discovery   \n",
              "4                 Nature Reviews. Drug Discovery   \n",
              "\n",
              "                                   journal_short  year month day  section  \\\n",
              "0  Nature Reviews. Gastroenterology & Hepatology  2021     3  10  article   \n",
              "1                    Bone Marrow Transplantation  2021     3  25  article   \n",
              "2                    Bone Marrow Transplantation  2021     3  25  article   \n",
              "3                 Nature Reviews. Drug Discovery  2021     5  17  article   \n",
              "4                 Nature Reviews. Drug Discovery  2021     5  17  article   \n",
              "\n",
              "     subsection              role  ...  cancer_start cancer_end gene_hugo_id  \\\n",
              "0  introduction  Tumor_Suppressor  ...           108        116   HGNC:11998   \n",
              "1  introduction          Oncogene  ...             0         13    HGNC:1455   \n",
              "2  introduction          Oncogene  ...           310        318    HGNC:1455   \n",
              "3  introduction          Oncogene  ...            86        113    HGNC:9967   \n",
              "4  introduction            Driver  ...           156        170    HGNC:9967   \n",
              "\n",
              "  gene_entrez_id            gene_name  gene_normalized gene_start  gene_end  \\\n",
              "0           7157                  p53             TP53        159       162   \n",
              "1            811  calreticulin (CALR)             CALR        334       353   \n",
              "2            811  calreticulin (CALR)             CALR        334       353   \n",
              "3           5979                  RET              RET          0         3   \n",
              "4           5979                  RET              RET        145       148   \n",
              "\n",
              "                                            sentence  \\\n",
              "0  This discrepancy between cellular models could...   \n",
              "1  Myelofibrosis (MF) is a chronic malignancy, ch...   \n",
              "2  Myelofibrosis (MF) is a chronic malignancy, ch...   \n",
              "3  RET is a proto-oncogenic RTK in which activati...   \n",
              "4  These compounds, which included cabozantinib, ...   \n",
              "\n",
              "                                  formatted_sentence  \n",
              "0  This discrepancy between cellular models could...  \n",
              "1  <b>Myelofibrosis</b> (MF) is a chronic maligna...  \n",
              "2  Myelofibrosis (MF) is a chronic malignancy, ch...  \n",
              "3  <b>RET</b> is a proto-oncogenic RTK in which a...  \n",
              "4  These compounds, which included cabozantinib, ...  \n",
              "\n",
              "[5 rows x 24 columns]"
            ],
            "text/html": [
              "\n",
              "  <div id=\"df-e798e050-f6f8-442f-9d6e-6d13f6644316\">\n",
              "    <div class=\"colab-df-container\">\n",
              "      <div>\n",
              "<style scoped>\n",
              "    .dataframe tbody tr th:only-of-type {\n",
              "        vertical-align: middle;\n",
              "    }\n",
              "\n",
              "    .dataframe tbody tr th {\n",
              "        vertical-align: top;\n",
              "    }\n",
              "\n",
              "    .dataframe thead th {\n",
              "        text-align: right;\n",
              "    }\n",
              "</style>\n",
              "<table border=\"1\" class=\"dataframe\">\n",
              "  <thead>\n",
              "    <tr style=\"text-align: right;\">\n",
              "      <th></th>\n",
              "      <th>pmid</th>\n",
              "      <th>title</th>\n",
              "      <th>journal</th>\n",
              "      <th>journal_short</th>\n",
              "      <th>year</th>\n",
              "      <th>month</th>\n",
              "      <th>day</th>\n",
              "      <th>section</th>\n",
              "      <th>subsection</th>\n",
              "      <th>role</th>\n",
              "      <th>...</th>\n",
              "      <th>cancer_start</th>\n",
              "      <th>cancer_end</th>\n",
              "      <th>gene_hugo_id</th>\n",
              "      <th>gene_entrez_id</th>\n",
              "      <th>gene_name</th>\n",
              "      <th>gene_normalized</th>\n",
              "      <th>gene_start</th>\n",
              "      <th>gene_end</th>\n",
              "      <th>sentence</th>\n",
              "      <th>formatted_sentence</th>\n",
              "    </tr>\n",
              "  </thead>\n",
              "  <tbody>\n",
              "    <tr>\n",
              "      <th>0</th>\n",
              "      <td>33692570</td>\n",
              "      <td>COVID-19 and liver disease: mechanistic and cl...</td>\n",
              "      <td>Nature Reviews. Gastroenterology &amp; Hepatology</td>\n",
              "      <td>Nature Reviews. Gastroenterology &amp; Hepatology</td>\n",
              "      <td>2021</td>\n",
              "      <td>3</td>\n",
              "      <td>10</td>\n",
              "      <td>article</td>\n",
              "      <td>introduction</td>\n",
              "      <td>Tumor_Suppressor</td>\n",
              "      <td>...</td>\n",
              "      <td>108</td>\n",
              "      <td>116</td>\n",
              "      <td>HGNC:11998</td>\n",
              "      <td>7157</td>\n",
              "      <td>p53</td>\n",
              "      <td>TP53</td>\n",
              "      <td>159</td>\n",
              "      <td>162</td>\n",
              "      <td>This discrepancy between cellular models could...</td>\n",
              "      <td>This discrepancy between cellular models could...</td>\n",
              "    </tr>\n",
              "    <tr>\n",
              "      <th>1</th>\n",
              "      <td>33767402</td>\n",
              "      <td>Ruxolitinib before allogeneic hematopoietic tr...</td>\n",
              "      <td>Bone Marrow Transplantation</td>\n",
              "      <td>Bone Marrow Transplantation</td>\n",
              "      <td>2021</td>\n",
              "      <td>3</td>\n",
              "      <td>25</td>\n",
              "      <td>article</td>\n",
              "      <td>introduction</td>\n",
              "      <td>Oncogene</td>\n",
              "      <td>...</td>\n",
              "      <td>0</td>\n",
              "      <td>13</td>\n",
              "      <td>HGNC:1455</td>\n",
              "      <td>811</td>\n",
              "      <td>calreticulin (CALR)</td>\n",
              "      <td>CALR</td>\n",
              "      <td>334</td>\n",
              "      <td>353</td>\n",
              "      <td>Myelofibrosis (MF) is a chronic malignancy, ch...</td>\n",
              "      <td>&lt;b&gt;Myelofibrosis&lt;/b&gt; (MF) is a chronic maligna...</td>\n",
              "    </tr>\n",
              "    <tr>\n",
              "      <th>2</th>\n",
              "      <td>33767402</td>\n",
              "      <td>Ruxolitinib before allogeneic hematopoietic tr...</td>\n",
              "      <td>Bone Marrow Transplantation</td>\n",
              "      <td>Bone Marrow Transplantation</td>\n",
              "      <td>2021</td>\n",
              "      <td>3</td>\n",
              "      <td>25</td>\n",
              "      <td>article</td>\n",
              "      <td>introduction</td>\n",
              "      <td>Oncogene</td>\n",
              "      <td>...</td>\n",
              "      <td>310</td>\n",
              "      <td>318</td>\n",
              "      <td>HGNC:1455</td>\n",
              "      <td>811</td>\n",
              "      <td>calreticulin (CALR)</td>\n",
              "      <td>CALR</td>\n",
              "      <td>334</td>\n",
              "      <td>353</td>\n",
              "      <td>Myelofibrosis (MF) is a chronic malignancy, ch...</td>\n",
              "      <td>Myelofibrosis (MF) is a chronic malignancy, ch...</td>\n",
              "    </tr>\n",
              "    <tr>\n",
              "      <th>3</th>\n",
              "      <td>34002056</td>\n",
              "      <td>Kinase drug discovery 20 years after imatinib:...</td>\n",
              "      <td>Nature Reviews. Drug Discovery</td>\n",
              "      <td>Nature Reviews. Drug Discovery</td>\n",
              "      <td>2021</td>\n",
              "      <td>5</td>\n",
              "      <td>17</td>\n",
              "      <td>article</td>\n",
              "      <td>introduction</td>\n",
              "      <td>Oncogene</td>\n",
              "      <td>...</td>\n",
              "      <td>86</td>\n",
              "      <td>113</td>\n",
              "      <td>HGNC:9967</td>\n",
              "      <td>5979</td>\n",
              "      <td>RET</td>\n",
              "      <td>RET</td>\n",
              "      <td>0</td>\n",
              "      <td>3</td>\n",
              "      <td>RET is a proto-oncogenic RTK in which activati...</td>\n",
              "      <td>&lt;b&gt;RET&lt;/b&gt; is a proto-oncogenic RTK in which a...</td>\n",
              "    </tr>\n",
              "    <tr>\n",
              "      <th>4</th>\n",
              "      <td>34002056</td>\n",
              "      <td>Kinase drug discovery 20 years after imatinib:...</td>\n",
              "      <td>Nature Reviews. Drug Discovery</td>\n",
              "      <td>Nature Reviews. Drug Discovery</td>\n",
              "      <td>2021</td>\n",
              "      <td>5</td>\n",
              "      <td>17</td>\n",
              "      <td>article</td>\n",
              "      <td>introduction</td>\n",
              "      <td>Driver</td>\n",
              "      <td>...</td>\n",
              "      <td>156</td>\n",
              "      <td>170</td>\n",
              "      <td>HGNC:9967</td>\n",
              "      <td>5979</td>\n",
              "      <td>RET</td>\n",
              "      <td>RET</td>\n",
              "      <td>145</td>\n",
              "      <td>148</td>\n",
              "      <td>These compounds, which included cabozantinib, ...</td>\n",
              "      <td>These compounds, which included cabozantinib, ...</td>\n",
              "    </tr>\n",
              "  </tbody>\n",
              "</table>\n",
              "<p>5 rows × 24 columns</p>\n",
              "</div>\n",
              "      <button class=\"colab-df-convert\" onclick=\"convertToInteractive('df-e798e050-f6f8-442f-9d6e-6d13f6644316')\"\n",
              "              title=\"Convert this dataframe to an interactive table.\"\n",
              "              style=\"display:none;\">\n",
              "        \n",
              "  <svg xmlns=\"http://www.w3.org/2000/svg\" height=\"24px\"viewBox=\"0 0 24 24\"\n",
              "       width=\"24px\">\n",
              "    <path d=\"M0 0h24v24H0V0z\" fill=\"none\"/>\n",
              "    <path d=\"M18.56 5.44l.94 2.06.94-2.06 2.06-.94-2.06-.94-.94-2.06-.94 2.06-2.06.94zm-11 1L8.5 8.5l.94-2.06 2.06-.94-2.06-.94L8.5 2.5l-.94 2.06-2.06.94zm10 10l.94 2.06.94-2.06 2.06-.94-2.06-.94-.94-2.06-.94 2.06-2.06.94z\"/><path d=\"M17.41 7.96l-1.37-1.37c-.4-.4-.92-.59-1.43-.59-.52 0-1.04.2-1.43.59L10.3 9.45l-7.72 7.72c-.78.78-.78 2.05 0 2.83L4 21.41c.39.39.9.59 1.41.59.51 0 1.02-.2 1.41-.59l7.78-7.78 2.81-2.81c.8-.78.8-2.07 0-2.86zM5.41 20L4 18.59l7.72-7.72 1.47 1.35L5.41 20z\"/>\n",
              "  </svg>\n",
              "      </button>\n",
              "      \n",
              "  <style>\n",
              "    .colab-df-container {\n",
              "      display:flex;\n",
              "      flex-wrap:wrap;\n",
              "      gap: 12px;\n",
              "    }\n",
              "\n",
              "    .colab-df-convert {\n",
              "      background-color: #E8F0FE;\n",
              "      border: none;\n",
              "      border-radius: 50%;\n",
              "      cursor: pointer;\n",
              "      display: none;\n",
              "      fill: #1967D2;\n",
              "      height: 32px;\n",
              "      padding: 0 0 0 0;\n",
              "      width: 32px;\n",
              "    }\n",
              "\n",
              "    .colab-df-convert:hover {\n",
              "      background-color: #E2EBFA;\n",
              "      box-shadow: 0px 1px 2px rgba(60, 64, 67, 0.3), 0px 1px 3px 1px rgba(60, 64, 67, 0.15);\n",
              "      fill: #174EA6;\n",
              "    }\n",
              "\n",
              "    [theme=dark] .colab-df-convert {\n",
              "      background-color: #3B4455;\n",
              "      fill: #D2E3FC;\n",
              "    }\n",
              "\n",
              "    [theme=dark] .colab-df-convert:hover {\n",
              "      background-color: #434B5C;\n",
              "      box-shadow: 0px 1px 3px 1px rgba(0, 0, 0, 0.15);\n",
              "      filter: drop-shadow(0px 1px 2px rgba(0, 0, 0, 0.3));\n",
              "      fill: #FFFFFF;\n",
              "    }\n",
              "  </style>\n",
              "\n",
              "      <script>\n",
              "        const buttonEl =\n",
              "          document.querySelector('#df-e798e050-f6f8-442f-9d6e-6d13f6644316 button.colab-df-convert');\n",
              "        buttonEl.style.display =\n",
              "          google.colab.kernel.accessAllowed ? 'block' : 'none';\n",
              "\n",
              "        async function convertToInteractive(key) {\n",
              "          const element = document.querySelector('#df-e798e050-f6f8-442f-9d6e-6d13f6644316');\n",
              "          const dataTable =\n",
              "            await google.colab.kernel.invokeFunction('convertToInteractive',\n",
              "                                                     [key], {});\n",
              "          if (!dataTable) return;\n",
              "\n",
              "          const docLinkHtml = 'Like what you see? Visit the ' +\n",
              "            '<a target=\"_blank\" href=https://colab.research.google.com/notebooks/data_table.ipynb>data table notebook</a>'\n",
              "            + ' to learn more about interactive tables.';\n",
              "          element.innerHTML = '';\n",
              "          dataTable['output_type'] = 'display_data';\n",
              "          await google.colab.output.renderOutput(dataTable, element);\n",
              "          const docLink = document.createElement('div');\n",
              "          docLink.innerHTML = docLinkHtml;\n",
              "          element.appendChild(docLink);\n",
              "        }\n",
              "      </script>\n",
              "    </div>\n",
              "  </div>\n",
              "  "
            ]
          },
          "metadata": {},
          "execution_count": 5
        }
      ]
    },
    {
      "cell_type": "markdown",
      "source": [
        "## EDA Analysis"
      ],
      "metadata": {
        "id": "kcH2LzXEAa9K"
      }
    },
    {
      "cell_type": "code",
      "source": [
        "Master_dataset.describe()"
      ],
      "metadata": {
        "id": "rY0jW7U0LfQf",
        "outputId": "265d470e-cfae-4c4a-8c87-2c0a851dcc96",
        "colab": {
          "base_uri": "https://localhost:8080/",
          "height": 300
        }
      },
      "execution_count": null,
      "outputs": [
        {
          "output_type": "execute_result",
          "data": {
            "text/plain": [
              "               pmid           year    predictprob   cancer_start  \\\n",
              "count  2.518290e+05  251829.000000  251829.000000  251829.000000   \n",
              "mean   2.767741e+07    2015.963650       0.734172     117.153739   \n",
              "std    6.449950e+06       5.975818       0.154890      83.014176   \n",
              "min    6.881900e+04    1977.000000       0.500001       0.000000   \n",
              "25%    2.450812e+07    2014.000000       0.593044      60.000000   \n",
              "50%    2.915673e+07    2018.000000       0.719130     101.000000   \n",
              "75%    3.258271e+07    2020.000000       0.873615     158.000000   \n",
              "max    3.578907e+07    2023.000000       0.999988     933.000000   \n",
              "\n",
              "          cancer_end  gene_entrez_id     gene_start       gene_end  \n",
              "count  251829.000000    2.518290e+05  251829.000000  251829.000000  \n",
              "mean      130.932474    7.309011e+04      87.637977      94.368818  \n",
              "std        83.410870    2.401621e+06      86.366236      87.306199  \n",
              "min         3.000000    1.000000e+00       0.000000       3.000000  \n",
              "25%        74.000000    2.245000e+03      24.000000      30.000000  \n",
              "50%       115.000000    4.893000e+03      63.000000      69.000000  \n",
              "75%       172.000000    7.538000e+03     131.000000     138.000000  \n",
              "max       951.000000    1.053710e+08     973.000000     976.000000  "
            ],
            "text/html": [
              "\n",
              "  <div id=\"df-6ec29564-37c2-4f93-b790-ca38737bc931\">\n",
              "    <div class=\"colab-df-container\">\n",
              "      <div>\n",
              "<style scoped>\n",
              "    .dataframe tbody tr th:only-of-type {\n",
              "        vertical-align: middle;\n",
              "    }\n",
              "\n",
              "    .dataframe tbody tr th {\n",
              "        vertical-align: top;\n",
              "    }\n",
              "\n",
              "    .dataframe thead th {\n",
              "        text-align: right;\n",
              "    }\n",
              "</style>\n",
              "<table border=\"1\" class=\"dataframe\">\n",
              "  <thead>\n",
              "    <tr style=\"text-align: right;\">\n",
              "      <th></th>\n",
              "      <th>pmid</th>\n",
              "      <th>year</th>\n",
              "      <th>predictprob</th>\n",
              "      <th>cancer_start</th>\n",
              "      <th>cancer_end</th>\n",
              "      <th>gene_entrez_id</th>\n",
              "      <th>gene_start</th>\n",
              "      <th>gene_end</th>\n",
              "    </tr>\n",
              "  </thead>\n",
              "  <tbody>\n",
              "    <tr>\n",
              "      <th>count</th>\n",
              "      <td>2.518290e+05</td>\n",
              "      <td>251829.000000</td>\n",
              "      <td>251829.000000</td>\n",
              "      <td>251829.000000</td>\n",
              "      <td>251829.000000</td>\n",
              "      <td>2.518290e+05</td>\n",
              "      <td>251829.000000</td>\n",
              "      <td>251829.000000</td>\n",
              "    </tr>\n",
              "    <tr>\n",
              "      <th>mean</th>\n",
              "      <td>2.767741e+07</td>\n",
              "      <td>2015.963650</td>\n",
              "      <td>0.734172</td>\n",
              "      <td>117.153739</td>\n",
              "      <td>130.932474</td>\n",
              "      <td>7.309011e+04</td>\n",
              "      <td>87.637977</td>\n",
              "      <td>94.368818</td>\n",
              "    </tr>\n",
              "    <tr>\n",
              "      <th>std</th>\n",
              "      <td>6.449950e+06</td>\n",
              "      <td>5.975818</td>\n",
              "      <td>0.154890</td>\n",
              "      <td>83.014176</td>\n",
              "      <td>83.410870</td>\n",
              "      <td>2.401621e+06</td>\n",
              "      <td>86.366236</td>\n",
              "      <td>87.306199</td>\n",
              "    </tr>\n",
              "    <tr>\n",
              "      <th>min</th>\n",
              "      <td>6.881900e+04</td>\n",
              "      <td>1977.000000</td>\n",
              "      <td>0.500001</td>\n",
              "      <td>0.000000</td>\n",
              "      <td>3.000000</td>\n",
              "      <td>1.000000e+00</td>\n",
              "      <td>0.000000</td>\n",
              "      <td>3.000000</td>\n",
              "    </tr>\n",
              "    <tr>\n",
              "      <th>25%</th>\n",
              "      <td>2.450812e+07</td>\n",
              "      <td>2014.000000</td>\n",
              "      <td>0.593044</td>\n",
              "      <td>60.000000</td>\n",
              "      <td>74.000000</td>\n",
              "      <td>2.245000e+03</td>\n",
              "      <td>24.000000</td>\n",
              "      <td>30.000000</td>\n",
              "    </tr>\n",
              "    <tr>\n",
              "      <th>50%</th>\n",
              "      <td>2.915673e+07</td>\n",
              "      <td>2018.000000</td>\n",
              "      <td>0.719130</td>\n",
              "      <td>101.000000</td>\n",
              "      <td>115.000000</td>\n",
              "      <td>4.893000e+03</td>\n",
              "      <td>63.000000</td>\n",
              "      <td>69.000000</td>\n",
              "    </tr>\n",
              "    <tr>\n",
              "      <th>75%</th>\n",
              "      <td>3.258271e+07</td>\n",
              "      <td>2020.000000</td>\n",
              "      <td>0.873615</td>\n",
              "      <td>158.000000</td>\n",
              "      <td>172.000000</td>\n",
              "      <td>7.538000e+03</td>\n",
              "      <td>131.000000</td>\n",
              "      <td>138.000000</td>\n",
              "    </tr>\n",
              "    <tr>\n",
              "      <th>max</th>\n",
              "      <td>3.578907e+07</td>\n",
              "      <td>2023.000000</td>\n",
              "      <td>0.999988</td>\n",
              "      <td>933.000000</td>\n",
              "      <td>951.000000</td>\n",
              "      <td>1.053710e+08</td>\n",
              "      <td>973.000000</td>\n",
              "      <td>976.000000</td>\n",
              "    </tr>\n",
              "  </tbody>\n",
              "</table>\n",
              "</div>\n",
              "      <button class=\"colab-df-convert\" onclick=\"convertToInteractive('df-6ec29564-37c2-4f93-b790-ca38737bc931')\"\n",
              "              title=\"Convert this dataframe to an interactive table.\"\n",
              "              style=\"display:none;\">\n",
              "        \n",
              "  <svg xmlns=\"http://www.w3.org/2000/svg\" height=\"24px\"viewBox=\"0 0 24 24\"\n",
              "       width=\"24px\">\n",
              "    <path d=\"M0 0h24v24H0V0z\" fill=\"none\"/>\n",
              "    <path d=\"M18.56 5.44l.94 2.06.94-2.06 2.06-.94-2.06-.94-.94-2.06-.94 2.06-2.06.94zm-11 1L8.5 8.5l.94-2.06 2.06-.94-2.06-.94L8.5 2.5l-.94 2.06-2.06.94zm10 10l.94 2.06.94-2.06 2.06-.94-2.06-.94-.94-2.06-.94 2.06-2.06.94z\"/><path d=\"M17.41 7.96l-1.37-1.37c-.4-.4-.92-.59-1.43-.59-.52 0-1.04.2-1.43.59L10.3 9.45l-7.72 7.72c-.78.78-.78 2.05 0 2.83L4 21.41c.39.39.9.59 1.41.59.51 0 1.02-.2 1.41-.59l7.78-7.78 2.81-2.81c.8-.78.8-2.07 0-2.86zM5.41 20L4 18.59l7.72-7.72 1.47 1.35L5.41 20z\"/>\n",
              "  </svg>\n",
              "      </button>\n",
              "      \n",
              "  <style>\n",
              "    .colab-df-container {\n",
              "      display:flex;\n",
              "      flex-wrap:wrap;\n",
              "      gap: 12px;\n",
              "    }\n",
              "\n",
              "    .colab-df-convert {\n",
              "      background-color: #E8F0FE;\n",
              "      border: none;\n",
              "      border-radius: 50%;\n",
              "      cursor: pointer;\n",
              "      display: none;\n",
              "      fill: #1967D2;\n",
              "      height: 32px;\n",
              "      padding: 0 0 0 0;\n",
              "      width: 32px;\n",
              "    }\n",
              "\n",
              "    .colab-df-convert:hover {\n",
              "      background-color: #E2EBFA;\n",
              "      box-shadow: 0px 1px 2px rgba(60, 64, 67, 0.3), 0px 1px 3px 1px rgba(60, 64, 67, 0.15);\n",
              "      fill: #174EA6;\n",
              "    }\n",
              "\n",
              "    [theme=dark] .colab-df-convert {\n",
              "      background-color: #3B4455;\n",
              "      fill: #D2E3FC;\n",
              "    }\n",
              "\n",
              "    [theme=dark] .colab-df-convert:hover {\n",
              "      background-color: #434B5C;\n",
              "      box-shadow: 0px 1px 3px 1px rgba(0, 0, 0, 0.15);\n",
              "      filter: drop-shadow(0px 1px 2px rgba(0, 0, 0, 0.3));\n",
              "      fill: #FFFFFF;\n",
              "    }\n",
              "  </style>\n",
              "\n",
              "      <script>\n",
              "        const buttonEl =\n",
              "          document.querySelector('#df-6ec29564-37c2-4f93-b790-ca38737bc931 button.colab-df-convert');\n",
              "        buttonEl.style.display =\n",
              "          google.colab.kernel.accessAllowed ? 'block' : 'none';\n",
              "\n",
              "        async function convertToInteractive(key) {\n",
              "          const element = document.querySelector('#df-6ec29564-37c2-4f93-b790-ca38737bc931');\n",
              "          const dataTable =\n",
              "            await google.colab.kernel.invokeFunction('convertToInteractive',\n",
              "                                                     [key], {});\n",
              "          if (!dataTable) return;\n",
              "\n",
              "          const docLinkHtml = 'Like what you see? Visit the ' +\n",
              "            '<a target=\"_blank\" href=https://colab.research.google.com/notebooks/data_table.ipynb>data table notebook</a>'\n",
              "            + ' to learn more about interactive tables.';\n",
              "          element.innerHTML = '';\n",
              "          dataTable['output_type'] = 'display_data';\n",
              "          await google.colab.output.renderOutput(dataTable, element);\n",
              "          const docLink = document.createElement('div');\n",
              "          docLink.innerHTML = docLinkHtml;\n",
              "          element.appendChild(docLink);\n",
              "        }\n",
              "      </script>\n",
              "    </div>\n",
              "  </div>\n",
              "  "
            ]
          },
          "metadata": {},
          "execution_count": 6
        }
      ]
    },
    {
      "cell_type": "code",
      "source": [
        "Master_dataset.info()"
      ],
      "metadata": {
        "colab": {
          "base_uri": "https://localhost:8080/"
        },
        "id": "q4WPUlzEKjpn",
        "outputId": "c4b4b4f0-60ec-48f5-80b0-152be752173b"
      },
      "execution_count": null,
      "outputs": [
        {
          "output_type": "stream",
          "name": "stdout",
          "text": [
            "<class 'pandas.core.frame.DataFrame'>\n",
            "RangeIndex: 251829 entries, 0 to 251828\n",
            "Data columns (total 24 columns):\n",
            " #   Column              Non-Null Count   Dtype  \n",
            "---  ------              --------------   -----  \n",
            " 0   pmid                251829 non-null  int64  \n",
            " 1   title               251829 non-null  object \n",
            " 2   journal             251829 non-null  object \n",
            " 3   journal_short       251829 non-null  object \n",
            " 4   year                251829 non-null  int64  \n",
            " 5   month               251829 non-null  object \n",
            " 6   day                 251829 non-null  object \n",
            " 7   section             251829 non-null  object \n",
            " 8   subsection          251829 non-null  object \n",
            " 9   role                251829 non-null  object \n",
            " 10  predictprob         251829 non-null  float64\n",
            " 11  cancer_id           251829 non-null  object \n",
            " 12  cancer_name         251829 non-null  object \n",
            " 13  cancer_normalized   251829 non-null  object \n",
            " 14  cancer_start        251829 non-null  int64  \n",
            " 15  cancer_end          251829 non-null  int64  \n",
            " 16  gene_hugo_id        251829 non-null  object \n",
            " 17  gene_entrez_id      251829 non-null  int64  \n",
            " 18  gene_name           251829 non-null  object \n",
            " 19  gene_normalized     251829 non-null  object \n",
            " 20  gene_start          251829 non-null  int64  \n",
            " 21  gene_end            251829 non-null  int64  \n",
            " 22  sentence            251829 non-null  object \n",
            " 23  formatted_sentence  251829 non-null  object \n",
            "dtypes: float64(1), int64(7), object(16)\n",
            "memory usage: 46.1+ MB\n"
          ]
        }
      ]
    },
    {
      "cell_type": "code",
      "source": [
        "print('\\nMaster data shape:')\n",
        "print('Shape:', Master_dataset.shape)\n",
        "\n",
        "#identifying duplicates\n",
        "print('\\nDuplicate Values:')\n",
        "print(Master_dataset.duplicated().any())"
      ],
      "metadata": {
        "colab": {
          "base_uri": "https://localhost:8080/"
        },
        "id": "gjaHfWrDsJO9",
        "outputId": "56da7d9e-2da7-456c-82bc-363e9bb6b229"
      },
      "execution_count": null,
      "outputs": [
        {
          "output_type": "stream",
          "name": "stdout",
          "text": [
            "\n",
            "Master data shape:\n",
            "Shape: (251829, 24)\n",
            "\n",
            "Duplicate Values:\n",
            "True\n"
          ]
        }
      ]
    },
    {
      "cell_type": "code",
      "source": [
        "#dropping duplicates\n",
        "Master_dataset = Master_dataset.drop_duplicates()\n",
        "print('Shape:', Master_dataset.shape)"
      ],
      "metadata": {
        "colab": {
          "base_uri": "https://localhost:8080/"
        },
        "id": "fNJ_nXPBBXYD",
        "outputId": "ac450e10-6e95-4f9a-febe-31b3c5b5297e"
      },
      "execution_count": null,
      "outputs": [
        {
          "output_type": "stream",
          "name": "stdout",
          "text": [
            "Shape: (251823, 24)\n"
          ]
        }
      ]
    },
    {
      "cell_type": "markdown",
      "source": [
        "6 duplicate rows have been removed from the master dataset. "
      ],
      "metadata": {
        "id": "Dg0Xac20IRPV"
      }
    },
    {
      "cell_type": "code",
      "source": [
        "Master_dataset.isnull().sum()"
      ],
      "metadata": {
        "colab": {
          "base_uri": "https://localhost:8080/"
        },
        "id": "Sq0xOZQxKpjv",
        "outputId": "8570a832-94e0-4b5c-bd8a-0dd49c522166"
      },
      "execution_count": null,
      "outputs": [
        {
          "output_type": "execute_result",
          "data": {
            "text/plain": [
              "pmid                  0\n",
              "title                 0\n",
              "journal               0\n",
              "journal_short         0\n",
              "year                  0\n",
              "month                 0\n",
              "day                   0\n",
              "section               0\n",
              "subsection            0\n",
              "role                  0\n",
              "predictprob           0\n",
              "cancer_id             0\n",
              "cancer_name           0\n",
              "cancer_normalized     0\n",
              "cancer_start          0\n",
              "cancer_end            0\n",
              "gene_hugo_id          0\n",
              "gene_entrez_id        0\n",
              "gene_name             0\n",
              "gene_normalized       0\n",
              "gene_start            0\n",
              "gene_end              0\n",
              "sentence              0\n",
              "formatted_sentence    0\n",
              "dtype: int64"
            ]
          },
          "metadata": {},
          "execution_count": 10
        }
      ]
    },
    {
      "cell_type": "markdown",
      "source": [
        "No null value in the master dataset"
      ],
      "metadata": {
        "id": "IbgiOub8IaPB"
      }
    },
    {
      "cell_type": "code",
      "source": [
        "Master_dataset.columns"
      ],
      "metadata": {
        "colab": {
          "base_uri": "https://localhost:8080/"
        },
        "id": "IYSxmCH4tcBP",
        "outputId": "48d51d6f-528e-4dc4-e403-6acd4dd59229"
      },
      "execution_count": null,
      "outputs": [
        {
          "output_type": "execute_result",
          "data": {
            "text/plain": [
              "Index(['pmid', 'title', 'journal', 'journal_short', 'year', 'month', 'day',\n",
              "       'section', 'subsection', 'role', 'predictprob', 'cancer_id',\n",
              "       'cancer_name', 'cancer_normalized', 'cancer_start', 'cancer_end',\n",
              "       'gene_hugo_id', 'gene_entrez_id', 'gene_name', 'gene_normalized',\n",
              "       'gene_start', 'gene_end', 'sentence', 'formatted_sentence'],\n",
              "      dtype='object')"
            ]
          },
          "metadata": {},
          "execution_count": 11
        }
      ]
    },
    {
      "cell_type": "markdown",
      "source": [
        "### Data Analysis:\n",
        "* The dataset is good enough for our problem statement.\n",
        "* The dataset does not have any NA values.\n",
        "* Duplicate values were dropped.\n",
        "\n"
      ],
      "metadata": {
        "id": "zeDDhE3fpAXN"
      }
    },
    {
      "cell_type": "markdown",
      "source": [
        "## Further Analysis:"
      ],
      "metadata": {
        "id": "XtxzCgzcp-7u"
      }
    },
    {
      "cell_type": "markdown",
      "source": [
        "### Top Journal"
      ],
      "metadata": {
        "id": "V9wOgqTaKkMt"
      }
    },
    {
      "cell_type": "code",
      "source": [
        "journal = Master_dataset['journal'].value_counts()\n",
        "journal"
      ],
      "metadata": {
        "colab": {
          "base_uri": "https://localhost:8080/"
        },
        "id": "JS5yQq_IKmec",
        "outputId": "0b744295-85b9-4d1e-bc80-cea8db512e3a"
      },
      "execution_count": null,
      "outputs": [
        {
          "output_type": "execute_result",
          "data": {
            "text/plain": [
              "Oncotarget                                                                                      12571\n",
              "PLoS ONE                                                                                         9204\n",
              "Cancers                                                                                          8549\n",
              "International Journal of Molecular Sciences                                                      6344\n",
              "Frontiers in Oncology                                                                            6186\n",
              "                                                                                                ...  \n",
              "Seminars in ophthalmology                                                                           1\n",
              "Skin pharmacology and physiology                                                                    1\n",
              "ACS synthetic biology                                                                               1\n",
              "IEEE transactions on signal processing : a publication of the IEEE Signal Processing Society        1\n",
              "Cancer treatment reports                                                                            1\n",
              "Name: journal, Length: 4772, dtype: int64"
            ]
          },
          "metadata": {},
          "execution_count": 12
        }
      ]
    },
    {
      "cell_type": "code",
      "source": [
        "#the top 10\n",
        "journal2 = journal[:10].copy()\n",
        "\n",
        "#others\n",
        "new_row = pd.DataFrame(data = {\n",
        "    'name' : ['others'],\n",
        "    'value' : [journal.values[10:].sum()]\n",
        "})\n",
        "\n",
        "journal2"
      ],
      "metadata": {
        "colab": {
          "base_uri": "https://localhost:8080/"
        },
        "id": "1BY-2J8SKutv",
        "outputId": "15177a65-ea51-4a00-aecd-149bbd419fa1"
      },
      "execution_count": null,
      "outputs": [
        {
          "output_type": "execute_result",
          "data": {
            "text/plain": [
              "Oncotarget                                     12571\n",
              "PLoS ONE                                        9204\n",
              "Cancers                                         8549\n",
              "International Journal of Molecular Sciences     6344\n",
              "Frontiers in Oncology                           6186\n",
              "Oncogene                                        6027\n",
              "Cancer research                                 5954\n",
              "Scientific Reports                              4962\n",
              "Nature Communications                           3605\n",
              "Oncology Letters                                3263\n",
              "Name: journal, dtype: int64"
            ]
          },
          "metadata": {},
          "execution_count": 13
        }
      ]
    },
    {
      "cell_type": "code",
      "source": [
        "plt.figure(figsize=(28,10))\n",
        "\n",
        "name = journal2.index\n",
        "vals = journal2.values\n",
        "\n",
        "print(name, vals)\n",
        "\n",
        "sns.barplot(x = name, y = vals)\n",
        "plt.title('Top 10 Journals',fontsize = 20)\n",
        "plt.xlabel('Journal name', fontsize = 15)\n",
        "plt.ylabel('Count',fontsize = 15)\n",
        "plt.show()"
      ],
      "metadata": {
        "colab": {
          "base_uri": "https://localhost:8080/",
          "height": 633
        },
        "id": "ablGK4Y2K4Mi",
        "outputId": "9be5d091-d98b-4f6c-e13a-91b99010191d"
      },
      "execution_count": null,
      "outputs": [
        {
          "output_type": "stream",
          "name": "stdout",
          "text": [
            "Index(['Oncotarget', 'PLoS ONE', 'Cancers',\n",
            "       'International Journal of Molecular Sciences', 'Frontiers in Oncology',\n",
            "       'Oncogene', 'Cancer research', 'Scientific Reports',\n",
            "       'Nature Communications', 'Oncology Letters'],\n",
            "      dtype='object') [12571  9204  8549  6344  6186  6027  5954  4962  3605  3263]\n"
          ]
        },
        {
          "output_type": "display_data",
          "data": {
            "text/plain": [
              "<Figure size 2016x720 with 1 Axes>"
            ],
            "image/png": "[encoded data removed]"
          },
          "metadata": {
            "needs_background": "light"
          }
        }
      ]
    },
    {
      "cell_type": "markdown",
      "source": [
        "'Oncotarget', 'PLoS ONE', 'Cancers' are the top 3 journals that are referred for this dataset. "
      ],
      "metadata": {
        "id": "klB_JpkbMPz-"
      }
    },
    {
      "cell_type": "markdown",
      "source": [
        "### Types of Genes"
      ],
      "metadata": {
        "id": "ucGbec94ChFQ"
      }
    },
    {
      "cell_type": "code",
      "source": [
        "gene = Master_dataset['gene_normalized'].value_counts()\n",
        "gene"
      ],
      "metadata": {
        "colab": {
          "base_uri": "https://localhost:8080/"
        },
        "id": "VyUBbgbECd1k",
        "outputId": "76ea4b02-81e7-4da7-d0b8-dc114e475f29"
      },
      "execution_count": null,
      "outputs": [
        {
          "output_type": "execute_result",
          "data": {
            "text/plain": [
              "KRAS       11868\n",
              "MYC        10585\n",
              "TP53        9955\n",
              "EGFR        6366\n",
              "PTEN        4751\n",
              "           ...  \n",
              "CFAP251        1\n",
              "ATP5F1A        1\n",
              "HM13           1\n",
              "STIP1          1\n",
              "HSPA14         1\n",
              "Name: gene_normalized, Length: 8415, dtype: int64"
            ]
          },
          "metadata": {},
          "execution_count": 15
        }
      ]
    },
    {
      "cell_type": "code",
      "source": [
        "#the top 10\n",
        "gene2 = gene[:10].copy()\n",
        "\n",
        "#others\n",
        "new_row = pd.DataFrame(data = {\n",
        "    'name' : ['others'],\n",
        "    'value' : [gene.values[10:].sum()]\n",
        "})"
      ],
      "metadata": {
        "id": "AKGUTLNWDQXJ"
      },
      "execution_count": null,
      "outputs": []
    },
    {
      "cell_type": "code",
      "source": [
        "name = gene2.index\n",
        "vals = gene2.values\n",
        "figp, axp = plt.subplots(figsize=(11,10))\n",
        "\n",
        "axp.pie(vals , labels=name, autopct='%1.1f%%', startangle=90,)\n",
        "axp.axis('equal')\n",
        "plt.title('Top 10 Gene types', fontsize=18)\n",
        "plt.show()"
      ],
      "metadata": {
        "colab": {
          "base_uri": "https://localhost:8080/",
          "height": 594
        },
        "id": "Z_5u8ZmwEe0Y",
        "outputId": "d955df4a-83af-405c-ef04-57f9ec7ca7ec"
      },
      "execution_count": null,
      "outputs": [
        {
          "output_type": "display_data",
          "data": {
            "text/plain": [
              "<Figure size 792x720 with 1 Axes>"
            ],
            "image/png": "[encoded data removed]"
          },
          "metadata": {}
        }
      ]
    },
    {
      "cell_type": "markdown",
      "source": [
        "We can clearly see that KRAS, MYC, TP53 are the top 3 citied genes"
      ],
      "metadata": {
        "id": "QEegkIsuIDJM"
      }
    },
    {
      "cell_type": "markdown",
      "source": [
        "### Types of Cancer"
      ],
      "metadata": {
        "id": "jDFW9vtGB7LX"
      }
    },
    {
      "cell_type": "code",
      "source": [
        "### Calculating Unique Types of  Cancers ######\n",
        "cancer_types = np.unique(Master_dataset['cancer_normalized'])\n",
        "print(\"Unique types of cancer: \",len(cancer_types)) # we have 621 cancer types (too much to visualize)"
      ],
      "metadata": {
        "colab": {
          "base_uri": "https://localhost:8080/"
        },
        "id": "XKxbQ-j7uCam",
        "outputId": "4b70a6ad-5817-4314-b1c0-5b91f865449d"
      },
      "execution_count": null,
      "outputs": [
        {
          "output_type": "stream",
          "name": "stdout",
          "text": [
            "Unique types of cancer:  621\n"
          ]
        }
      ]
    },
    {
      "cell_type": "code",
      "source": [
        "# making a list of the cancers that we care about for this specific project\n",
        "cancers_of_interest = [] \n",
        "for cancer in cancer_types: \n",
        "  if re.search('lung', cancer): \n",
        "    cancers_of_interest.append(cancer)\n",
        "  elif re.search('colon', cancer):\n",
        "    cancers_of_interest.append(cancer)\n",
        "  elif re.search('pancrea', cancer):\n",
        "    cancers_of_interest.append(cancer)\n",
        "  else: continue\n",
        "print(\"Number of Cancer types: \",len(cancers_of_interest)) # only 31 types of cancers found\n",
        "print(\"Cancer List:\\n\",cancers_of_interest)"
      ],
      "metadata": {
        "colab": {
          "base_uri": "https://localhost:8080/"
        },
        "id": "NNHVayjDxN0O",
        "outputId": "896a8adb-be6e-4c31-8e67-74c87228a0c4"
      },
      "execution_count": null,
      "outputs": [
        {
          "output_type": "stream",
          "name": "stdout",
          "text": [
            "Number of Cancer types:  31\n",
            "Cancer List:\n",
            " ['asbestos-related lung carcinoma', 'colon adenocarcinoma', 'colon cancer', 'colon carcinoma', 'colon mucinous adenocarcinoma', 'colon sarcoma', 'lung adenocarcinoma', 'lung adenoid cystic carcinoma', 'lung cancer', 'lung carcinoma', 'lung combined type small cell carcinoma', 'lung giant cell carcinoma', 'lung large cell carcinoma', 'lung non-small cell carcinoma', 'lung oat cell carcinoma', 'lung papillary adenocarcinoma', 'lung sarcoma', 'lung sarcomatoid carcinoma', 'lung small cell carcinoma', 'lung squamous cell carcinoma', 'malignant exocrine pancreas neoplasm', 'mucinous lung adenocarcinoma', 'non-functioning pancreatic endocrine tumor', 'pancreatic acinar cell adenocarcinoma', 'pancreatic adenocarcinoma', 'pancreatic adenosquamous carcinoma', 'pancreatic cancer', 'pancreatic carcinoma', 'pancreatic ductal adenocarcinoma', 'pancreatic ductal carcinoma', 'pancreatic endocrine carcinoma']\n"
          ]
        }
      ]
    },
    {
      "cell_type": "code",
      "source": [
        "filtered_dataset = Master_dataset[Master_dataset['cancer_normalized'].isin(cancers_of_interest)]\n",
        "print(\"Shape of Filtered Data: \", filtered_dataset.shape)"
      ],
      "metadata": {
        "colab": {
          "base_uri": "https://localhost:8080/"
        },
        "id": "REFHcEZq1sxI",
        "outputId": "196a3c14-1512-482b-fb8f-8a16b14f0ef7"
      },
      "execution_count": null,
      "outputs": [
        {
          "output_type": "stream",
          "name": "stdout",
          "text": [
            "Shape of Filtered Data:  (52473, 24)\n"
          ]
        }
      ]
    },
    {
      "cell_type": "code",
      "source": [
        "## Plotting Data Distribution of Cancer types ##\n",
        "sns.set(rc = {'figure.figsize':(11,8)})\n",
        "sns.set_style('whitegrid')\n",
        "ax = sns.histplot(filtered_dataset, x='cancer_normalized')\n",
        "ax.tick_params(axis='x', labelrotation = 90)\n",
        "ax.tick_params(labelsize=12)\n",
        "ax.axes.set_title(\"Frequency of Cancer Types\",fontsize=22)\n",
        "ax.set_xlabel(\"Cancer Types\", fontsize=20)\n",
        "ax.set_ylabel(\"Count\", fontsize=20)"
      ],
      "metadata": {
        "colab": {
          "base_uri": "https://localhost:8080/",
          "height": 803
        },
        "id": "x0Hee3tu2mX2",
        "outputId": "55174d30-9cf5-4a5c-8ba2-df3a4cc37d9b"
      },
      "execution_count": null,
      "outputs": [
        {
          "output_type": "execute_result",
          "data": {
            "text/plain": [
              "Text(0, 0.5, 'Count')"
            ]
          },
          "metadata": {},
          "execution_count": 21
        },
        {
          "output_type": "display_data",
          "data": {
            "text/plain": [
              "<Figure size 792x576 with 1 Axes>"
            ],
            "image/png": "[encoded data removed]"
          },
          "metadata": {}
        }
      ]
    },
    {
      "cell_type": "markdown",
      "source": [
        "Here we are looking at the frequency of the 31 different cancer types that matched my search query. Of the 31 cancer types we see that we have a larger proportion of cancers that are for the lungs. This is showing that our data is skewed towards lung cancers, so to deal with this we will have to choose a random subsample from our filtered data frame. "
      ],
      "metadata": {
        "id": "tGayMyQQ7H8Z"
      }
    },
    {
      "cell_type": "markdown",
      "source": [
        "### Relationship between Gene, Cancer"
      ],
      "metadata": {
        "id": "4IKGa_HMPsVQ"
      }
    },
    {
      "cell_type": "code",
      "source": [
        "rel = filtered_dataset.groupby(['gene_normalized', 'cancer_normalized'])['journal'].count().sort_values(ascending=False)\n",
        "rel"
      ],
      "metadata": {
        "colab": {
          "base_uri": "https://localhost:8080/"
        },
        "id": "YDMdKLtmPrOe",
        "outputId": "1b56e7be-3a0d-4165-ee97-caa3c379dfbb"
      },
      "execution_count": null,
      "outputs": [
        {
          "output_type": "execute_result",
          "data": {
            "text/plain": [
              "gene_normalized  cancer_normalized               \n",
              "KRAS             pancreatic ductal adenocarcinoma    2351\n",
              "EGFR             lung non-small cell carcinoma       2044\n",
              "KRAS             pancreatic cancer                   2017\n",
              "                 lung cancer                         1613\n",
              "                 lung non-small cell carcinoma       1547\n",
              "                                                     ... \n",
              "KDM4A            lung carcinoma                         1\n",
              "                 lung adenocarcinoma                    1\n",
              "                 colon cancer                           1\n",
              "KDM3A            pancreatic ductal adenocarcinoma       1\n",
              "ZYX              pancreatic cancer                      1\n",
              "Name: journal, Length: 9140, dtype: int64"
            ]
          },
          "metadata": {},
          "execution_count": 22
        }
      ]
    },
    {
      "cell_type": "code",
      "source": [
        "#the top 10\n",
        "rel2 = rel[:10].copy()\n",
        "rel2"
      ],
      "metadata": {
        "colab": {
          "base_uri": "https://localhost:8080/"
        },
        "id": "WZChliR5Slpb",
        "outputId": "a3b7292c-5ea7-4081-cc74-b750008b1fbe"
      },
      "execution_count": null,
      "outputs": [
        {
          "output_type": "execute_result",
          "data": {
            "text/plain": [
              "gene_normalized  cancer_normalized               \n",
              "KRAS             pancreatic ductal adenocarcinoma    2351\n",
              "EGFR             lung non-small cell carcinoma       2044\n",
              "KRAS             pancreatic cancer                   2017\n",
              "                 lung cancer                         1613\n",
              "                 lung non-small cell carcinoma       1547\n",
              "EGFR             lung cancer                          997\n",
              "ALK              lung non-small cell carcinoma        914\n",
              "KRAS             lung adenocarcinoma                  840\n",
              "EGFR             lung adenocarcinoma                  611\n",
              "CD274            lung non-small cell carcinoma        563\n",
              "Name: journal, dtype: int64"
            ]
          },
          "metadata": {},
          "execution_count": 23
        }
      ]
    },
    {
      "cell_type": "markdown",
      "source": [
        "KRAS, EGFR, TP53 are the most common genes in the filtered cancer types. "
      ],
      "metadata": {
        "id": "tUeOVwAsTVHV"
      }
    },
    {
      "cell_type": "code",
      "source": [
        "prediction = filtered_dataset['predictprob'].sort_values()\n",
        "prediction"
      ],
      "metadata": {
        "colab": {
          "base_uri": "https://localhost:8080/"
        },
        "id": "T5eE-3zDnvCS",
        "outputId": "4f19efbe-f3da-4c13-d445-96e05ed8fe67"
      },
      "execution_count": null,
      "outputs": [
        {
          "output_type": "execute_result",
          "data": {
            "text/plain": [
              "180440    0.500003\n",
              "193196    0.500007\n",
              "137464    0.500021\n",
              "69950     0.500044\n",
              "188902    0.500044\n",
              "            ...   \n",
              "185471    0.999824\n",
              "8232      0.999829\n",
              "161454    0.999851\n",
              "8231      0.999922\n",
              "124013    0.999988\n",
              "Name: predictprob, Length: 52473, dtype: float64"
            ]
          },
          "metadata": {},
          "execution_count": 24
        }
      ]
    },
    {
      "cell_type": "markdown",
      "source": [
        "**Outlier**\n",
        "\n",
        "The outliers will be removed based on the predictive probability column"
      ],
      "metadata": {
        "id": "pLXLj-fJv8aA"
      }
    },
    {
      "cell_type": "code",
      "source": [
        "## Plotting Predicted Probability distributions ##\n",
        "\n",
        "ax = sns.histplot(filtered_dataset, x='predictprob')\n",
        "ax.tick_params(axis='x', labelrotation = 90)\n",
        "ax.tick_params(labelsize=12)\n",
        "ax.axes.set_title(\"Before Trimming Outliers\",fontsize=22)\n",
        "ax.set_xlabel(\"prediction\", fontsize=20)\n",
        "ax.set_ylabel(\"Count\", fontsize=20)"
      ],
      "metadata": {
        "colab": {
          "base_uri": "https://localhost:8080/",
          "height": 556
        },
        "outputId": "62554a11-557b-4039-8882-960bedc56f50",
        "id": "4NnJ7-1wwK3-"
      },
      "execution_count": null,
      "outputs": [
        {
          "output_type": "execute_result",
          "data": {
            "text/plain": [
              "Text(0, 0.5, 'Count')"
            ]
          },
          "metadata": {},
          "execution_count": 25
        },
        {
          "output_type": "display_data",
          "data": {
            "text/plain": [
              "<Figure size 792x576 with 1 Axes>"
            ],
            "image/png": "[encoded data removed]"
          },
          "metadata": {}
        }
      ]
    },
    {
      "cell_type": "markdown",
      "source": [
        "It seems that we have outliers at both ends of the spectrum. To mitigate this issue I will use std deviation method to find and get rid of the outliers. "
      ],
      "metadata": {
        "id": "qXI8Zpt2wzju"
      }
    },
    {
      "cell_type": "code",
      "source": [
        "upper_limit = (filtered_dataset['predictprob'].mean()+\n",
        "               (1*filtered_dataset['predictprob'].std())\n",
        "               )\n",
        "lower_limit = (filtered_dataset['predictprob'].mean()-\n",
        "               (1*filtered_dataset['predictprob'].std())\n",
        "               )\n",
        "print(upper_limit, lower_limit)"
      ],
      "metadata": {
        "colab": {
          "base_uri": "https://localhost:8080/"
        },
        "id": "Yp7XiFvTwYRh",
        "outputId": "cc8bb75c-5ab7-4d86-f086-158ebd805371"
      },
      "execution_count": null,
      "outputs": [
        {
          "output_type": "stream",
          "name": "stdout",
          "text": [
            "0.8912316488137892 0.5798272985536705\n"
          ]
        }
      ]
    },
    {
      "cell_type": "code",
      "source": [
        "new_filtered_data = filtered_dataset.loc[(filtered_dataset['predictprob']<upper_limit) \n",
        "& (filtered_dataset['predictprob']>lower_limit)]\n",
        "print(\"old filtered data: \", filtered_dataset.shape)\n",
        "print('new filtered data: ', new_filtered_data.shape)"
      ],
      "metadata": {
        "colab": {
          "base_uri": "https://localhost:8080/"
        },
        "id": "3p-al0Wax2p2",
        "outputId": "1dc8e2ab-aa5a-483e-9b74-a1177842206d"
      },
      "execution_count": null,
      "outputs": [
        {
          "output_type": "stream",
          "name": "stdout",
          "text": [
            "old filtered data:  (52473, 24)\n",
            "new filtered data:  (29071, 24)\n"
          ]
        }
      ]
    },
    {
      "cell_type": "code",
      "source": [
        "ax = sns.histplot(new_filtered_data, x='predictprob')\n",
        "ax.tick_params(axis='x', labelrotation = 90)\n",
        "ax.tick_params(labelsize=12)\n",
        "ax.axes.set_title(\"After Trimming Outliers\",fontsize=22)\n",
        "ax.set_xlabel(\"prediction\", fontsize=20)\n",
        "ax.set_ylabel(\"Count\", fontsize=20)"
      ],
      "metadata": {
        "colab": {
          "base_uri": "https://localhost:8080/",
          "height": 564
        },
        "id": "HYAM8FCPyBpd",
        "outputId": "1e3e0f29-bc88-4c71-fc4f-b0923bf3a4ef"
      },
      "execution_count": null,
      "outputs": [
        {
          "output_type": "execute_result",
          "data": {
            "text/plain": [
              "Text(0, 0.5, 'Count')"
            ]
          },
          "metadata": {},
          "execution_count": 28
        },
        {
          "output_type": "display_data",
          "data": {
            "text/plain": [
              "<Figure size 792x576 with 1 Axes>"
            ],
            "image/png": "[encoded data removed]"
          },
          "metadata": {}
        }
      ]
    },
    {
      "cell_type": "markdown",
      "source": [
        "**Text Cleaning and Featurization**"
      ],
      "metadata": {
        "id": "PMto6RKw3G3H"
      }
    },
    {
      "cell_type": "code",
      "source": [
        "# --- Removing any special characters ---\n",
        "new_filtered_data['sentence'] = [ row for row in new_filtered_data['sentence']]\n",
        "new_filtered_data['sentence']"
      ],
      "metadata": {
        "colab": {
          "base_uri": "https://localhost:8080/"
        },
        "id": "aNUO7AGa0OkD",
        "outputId": "412cf370-8996-4e44-dc72-720b87224a41"
      },
      "execution_count": null,
      "outputs": [
        {
          "output_type": "stream",
          "name": "stderr",
          "text": [
            "/usr/local/lib/python3.7/dist-packages/ipykernel_launcher.py:2: SettingWithCopyWarning: \n",
            "A value is trying to be set on a copy of a slice from a DataFrame.\n",
            "Try using .loc[row_indexer,col_indexer] = value instead\n",
            "\n",
            "See the caveats in the documentation: https://pandas.pydata.org/pandas-docs/stable/user_guide/indexing.html#returning-a-view-versus-a-copy\n",
            "  \n"
          ]
        },
        {
          "output_type": "execute_result",
          "data": {
            "text/plain": [
              "27        These findings extended to cancer cell lines a...\n",
              "28        These findings extended to cancer cell lines a...\n",
              "33        Mutant KRAS is the most prominent oncogene in ...\n",
              "34        This effect was also dramatically seen in two ...\n",
              "35        This effect was also dramatically seen in two ...\n",
              "                                ...                        \n",
              "251722    Lung resections obtained from 52 Chinese patie...\n",
              "251723    Lung resections obtained from 52 Chinese patie...\n",
              "251729    Specific inhibition of K-ras oncogene expressi...\n",
              "251745    The clinical importance of ras oncogene produc...\n",
              "251799    Activation of the Ki-ras oncogene by specific ...\n",
              "Name: sentence, Length: 29071, dtype: object"
            ]
          },
          "metadata": {},
          "execution_count": 29
        }
      ]
    },
    {
      "cell_type": "code",
      "source": [
        "# --- Text Normalization (changing all characters to lowercase) ---\n",
        "lower_array = []\n",
        "for sentence in new_filtered_data['sentence']:\n",
        "  # changing everything to lower case and removing all special characters\n",
        "  text_clean = \"\".join([i.lower() and re.sub('[^-9A-Za-z ]', '', i) for i in sentence])\n",
        "  lower_array.append(text_clean)\n",
        "new_filtered_data['sentence'] = lower_array\n",
        "new_filtered_data['sentence'] # now our text column is clean and normalized "
      ],
      "metadata": {
        "colab": {
          "base_uri": "https://localhost:8080/"
        },
        "id": "ek0czSq69nC5",
        "outputId": "cf339ef7-432d-4475-864b-beffcdd6b426"
      },
      "execution_count": null,
      "outputs": [
        {
          "output_type": "stream",
          "name": "stderr",
          "text": [
            "/usr/local/lib/python3.7/dist-packages/ipykernel_launcher.py:7: SettingWithCopyWarning: \n",
            "A value is trying to be set on a copy of a slice from a DataFrame.\n",
            "Try using .loc[row_indexer,col_indexer] = value instead\n",
            "\n",
            "See the caveats in the documentation: https://pandas.pydata.org/pandas-docs/stable/user_guide/indexing.html#returning-a-view-versus-a-copy\n",
            "  import sys\n"
          ]
        },
        {
          "output_type": "execute_result",
          "data": {
            "text/plain": [
              "27        These findings extended to cancer cell lines a...\n",
              "28        These findings extended to cancer cell lines a...\n",
              "33        Mutant KRAS is the most prominent oncogene in ...\n",
              "34        This effect was also dramatically seen in two ...\n",
              "35        This effect was also dramatically seen in two ...\n",
              "                                ...                        \n",
              "251722    Lung resections obtained from  Chinese patient...\n",
              "251723    Lung resections obtained from  Chinese patient...\n",
              "251729    Specific inhibition of K-ras oncogene expressi...\n",
              "251745    The clinical importance of ras oncogene produc...\n",
              "251799    Activation of the Ki-ras oncogene by specific ...\n",
              "Name: sentence, Length: 29071, dtype: object"
            ]
          },
          "metadata": {},
          "execution_count": 30
        }
      ]
    },
    {
      "cell_type": "markdown",
      "source": [
        "**Removing Stopwords and Tokenization**"
      ],
      "metadata": {
        "id": "LD8HmxUjJ_3X"
      }
    },
    {
      "cell_type": "code",
      "source": [
        "nltk.download('stopwords') # stopwords\n",
        "nltk.download('punkt') # tokenizer"
      ],
      "metadata": {
        "colab": {
          "base_uri": "https://localhost:8080/"
        },
        "id": "x4SOHGgu_k9T",
        "outputId": "6c237bb0-4ab3-4124-9106-e184c6d91424"
      },
      "execution_count": null,
      "outputs": [
        {
          "output_type": "stream",
          "name": "stderr",
          "text": [
            "[nltk_data] Downloading package stopwords to /root/nltk_data...\n",
            "[nltk_data]   Package stopwords is already up-to-date!\n",
            "[nltk_data] Downloading package punkt to /root/nltk_data...\n",
            "[nltk_data]   Package punkt is already up-to-date!\n"
          ]
        },
        {
          "output_type": "execute_result",
          "data": {
            "text/plain": [
              "True"
            ]
          },
          "metadata": {},
          "execution_count": 31
        }
      ]
    },
    {
      "cell_type": "code",
      "source": [
        "stopwords = nltk.corpus.stopwords.words('english')\n",
        "# tokenizing each sentence \n",
        "test = [nltk.tokenize.word_tokenize(sentence) for \n",
        "        sentence in new_filtered_data['sentence']\n",
        "        ]\n",
        "\n",
        "# Removing stop words and putting sentences back together\n",
        "arr=[]\n",
        "for list_ofWords in test:\n",
        "    words = \" \".join([i for i in list_ofWords if i not in stopwords])\n",
        "    arr.append(words)\n",
        "new_filtered_data['sentence'] = arr # cleaned up sentences without any stopwords\n",
        "# might have to tokenize twice to create vectors for downstream analysis"
      ],
      "metadata": {
        "colab": {
          "base_uri": "https://localhost:8080/"
        },
        "id": "QxgMLaYVMCOm",
        "outputId": "dd6f98a1-e527-463d-87b3-07ee12ec2169"
      },
      "execution_count": null,
      "outputs": [
        {
          "output_type": "execute_result",
          "data": {
            "text/plain": [
              "['These findings extended cancer cell lines patient-derived xenograft models highly refractory pancreatic cancer osteosarcoma driven KRAS MYC oncogenes',\n",
              " 'These findings extended cancer cell lines patient-derived xenograft models highly refractory pancreatic cancer osteosarcoma driven KRAS MYC oncogenes',\n",
              " 'Mutant KRAS prominent oncogene human cancers particular pancreatic cancer carries highest rate mutation KRAS one lethal type tumor',\n",
              " 'This effect also dramatically seen two PDX models metastatic OS high MYC copy number well two pancreatic ductal adenocarcinoma PDAC cell lines driven KRAS mutation MYC amplification',\n",
              " 'This effect also dramatically seen two PDX models metastatic OS high MYC copy number well two pancreatic ductal adenocarcinoma PDAC cell lines driven KRAS mutation MYC amplification',\n",
              " 'This included HLA-A protein found commonly dysregulated across six isogenic models proliferative oncogenes PDAC cell lines',\n",
              " 'Adenomatous polyposis coli APC tumor suppressor gene whose mutations result colon cancer predisposition syndrome called familial adenomatous polyps FAP',\n",
              " 'Adenomatous polyposis coli APC tumor suppressor gene whose mutations result colon cancer predisposition syndrome called familial adenomatous polyps FAP',\n",
              " 'Lrig important regulator tissue homeostasis murine airway well tumor suppressor lung cancer',\n",
              " 'Likewise human cancers GBM NSCLC driven EGFR overexpression andor EGFR mutations well HER breast cancer ERBB activation cognate ligands leads induction LRIG feedback retards oncogenesis Fig',\n",
              " 'Likewise human cancers GBM NSCLC driven EGFR overexpression andor EGFR mutations well HER breast cancer ERBB activation cognate ligands leads induction LRIG feedback retards oncogenesis Fig',\n",
              " 'Likewise human cancers GBM NSCLC driven EGFR overexpression andor EGFR mutations well HER breast cancer ERBB activation cognate ligands leads induction LRIG feedback retards oncogenesis Fig',\n",
              " 'In early-stage pancreatic cancer proteinsinvolved regulation peptide secretion cell communicationand chemokine production overall downregulated including LEGwhich essential suppressive function CD positive regulatoryT-cells Supporting Information Figure C proteins involved negative regulationof apoptotic process receptor internalization including proto-oncogenetyrosine-protein kinase Src SRC CD9 Figure C Supporting Information Figure C upregulated',\n",
              " 'TIA- RNA-binding protein found relatively new tumor suppressor patients lung squamous cell carcinoma',\n",
              " 'TIA- RNA-binding protein found relatively new tumor suppressor patients lung squamous cell carcinoma',\n",
              " 'Systemic delivery TUSC tumor suppressor gene nanovesicles already performed clinical trials combined anti-PD- antibody enhanced proliferation infiltration NK cells mouse lung cancer model',\n",
              " 'ALK first described oncogene several mutations linked tumorigenesis including neuroblastomas non-small cell lung cancer highlighting importance cancer biology',\n",
              " 'mRNAFurther YTHDF dysregulated played oncogenic role bladder cancer hepatocellular carcinoma cervical cancer gastric cancer pancreatic cancer',\n",
              " 'SPRY tumor suppressor gene found good anti-tumor effect vivo vitro ectopic expression SPRY rescued function miR-9a NSCLC',\n",
              " 'Upregulation tissue samples NSCLC patients TNM stage distant metastasis - Oncogene 9 Upregulation cisplatin-resistance cisplatin-sensitive NSCLC patients Cisplatin resistance - Oncogene 9 Colorectal cancer Upregulation -fu resistance -fu sensitive CRC patients -fu resistance - Oncogene 9 Glioblastoma Upregulation pairs GMB tissues adjacent normal tissues - - Oncogene Upregulation tissue samples GMB adjacent normal tissues - Poor Oncogene Osteosarcoma Upregulation 9 tissue samples GMB adjacent normal tissues Tumor size TNM stage',\n",
              " 'Upregulation tissue samples NSCLC patients TNM stage distant metastasis - Oncogene 9 Upregulation cisplatin-resistance cisplatin-sensitive NSCLC patients Cisplatin resistance - Oncogene 9 Colorectal cancer Upregulation -fu resistance -fu sensitive CRC patients -fu resistance - Oncogene 9 Glioblastoma Upregulation pairs GMB tissues adjacent normal tissues - - Oncogene Upregulation tissue samples GMB adjacent normal tissues - Poor Oncogene Osteosarcoma Upregulation 9 tissue samples GMB adjacent normal tissues Tumor size TNM stage',\n",
              " 'In lung cancer example amino acid mutations EGFR encoded driver EGFR gene identified including LeuArg LR Thr9Met T9M partial amino acid deletion encoded exon 9 Ex9Del',\n",
              " 'Epidermal growth factor receptor EGFR one common actionable oncogenic driver mutations NSCLC',\n",
              " 'ECT overexpression mislocalization support role driver colon cancer independent function normal cell cytokinesis',\n",
              " 'Both may POLE -driven one potentially somatic inactivation MSH b Rectum MSHMSH-D ND ND F Rectum Maternal grandmother brain tumor probably metastasis lung cancer',\n",
              " 'CDK9 member cyclin-dependent kinase CDK family involved transcriptional regulation several genes including oncogene Myc validated target pancreatic cancer',\n",
              " 'CDK9 member cyclin-dependent kinase CDK family involved transcriptional regulation several genes including oncogene Myc validated target pancreatic cancer',\n",
              " 'However pancreatic cancer MiD9 downregulated thought play role tumor suppressor',\n",
              " 'Furthermore depletion either PINK Parkin stimulates K-Ras-driven pancreatic adenocarcinoma',\n",
              " 'In KRAS -mutated pancreatic ductal adenocarcinoma loss BNIPL associated decreased tumorigenesis reduced mitophagy increased oxidative metabolism better prognosis suggesting divergent role mediators mitophagy one acting tumor suppressor promoter tumor growth',\n",
              " 'A nonsense germline mutation recently identified RABL gene RAS oncogene family-like family high PDAC incidence',\n",
              " 'The histone deacetylase Sirtuin SIRT identified PDAC tumor suppressor',\n",
              " 'The histone deacetylase Sirtuin SIRT identified PDAC tumor suppressor',\n",
              " 'This resulted re-expression tumor suppressive genes CDKNAp INKa MLH- SPARC leading inhibition cell proliferation suggesting HSP9 might targetable link PDAC',\n",
              " 'Finally patterns APA associated poor prognosis PDAC patients suggesting APA may key player PDAC oncogenesis',\n",
              " 'While high mutant KRAS expression shown drive metastasis mice induction EMT genes human PDAC cell lines also shown KRAS knockout human PDAC cell lines led induction metastatic genes EMT phenotype',\n",
              " 'In another study CRAF dispensable KRAS-driven oncogenesis pancreatic cancer thus indicating lineage-specific requirement RAF isoforms',\n",
              " 'Tumor suppressive relationships Ror suggested colon cancer hepatocellular carcinoma although reports must considered context Ror expressed subset tumors recent evidence colon cancer considers subset may aggressive disease',\n",
              " 'To explore possibility analyzed expression IFN-response genes panel mouse PDAC cell lines derived two genetically engineered mouse models driven Kras GD Trp loss targeted either ductal acinar cells Fig H Supplementary Fig',\n",
              " 'Six weeks exposure LPS increased cytosine methylation mc CDH cell adhesion molecule Ahrr Tet Rassf tumor suppressors DAPK pro-oncogene together highlight involvement complex inflammatory stimulus involving methylation-based regulation inflammation well tumor suppressors oncogenes progression lung cancer',\n",
              " 'miR- family miR-c predicted regulate ACE respiratory cells Tumor suppressor negative regulators EMT Members family reported pro-inflammatory well anti-inflammatory miR- Regulates ACE Overexpressed lung cancer associates poor prognosis Aggravates inflammatory response lung tissues',\n",
              " 'EGFR common oncogene anti-EGFR monoclonal antibody cetuximab approved treatment metastatic colon cancer head neck squamous cell carcinoma',\n",
              " 'Additionally Il mice used model system IBD colitis-associated colon cancer bacterial infection tumor-promoting inflammation drive double-stranded DNA breaks intestinal cells',\n",
              " 'Serial plasma samples collected patients EGFR-driven non-small cell lung cancer intake first tablet h start therapy',\n",
              " 'Interestingly study investigating role intranuclear HMGB development pancreatic ductal adenocarcinoma PDAC found knockout HMGB gene mice oncogenic KRAS gene mutation accelerated development KRAS-driven PDAC',\n",
              " 'MZF potential tumor suppressor non-small lung cancer NSCLC pancreatic adenocarcinoma PAAD',\n",
              " 'MZF potential tumor suppressor non-small lung cancer NSCLC pancreatic adenocarcinoma PAAD',\n",
              " 'Of caution studies performed using Ha-RasV primary BJ fibroblast cells models senescence induction may differ oncogenic K-ras genes present NSCLC PAAD primary lung pancreatic epithelial cells respectively',\n",
              " 'By detecting mutation MET proto-oncogene isocitrate dehydrogenase IDH gene using RNA-seq possibility designing better therapy lung adenocarcinoma chondrosarcoma made possible',\n",
              " 'We show DUSP necessary NKX -- mediated inhibition tumor progression vivo DUSP expression sufficient inhibit RAS-driven LUAD',\n",
              " 'We show DUSP necessary NKX -- mediated inhibition tumor progression vivo DUSP expression sufficient inhibit RAS-driven LUAD',\n",
              " 'We tested NKX- sufficient induce DUSP SPRY panel human LUAD cell lines contain RAS oncogenes silenced NKX-',\n",
              " 'We tested NKX- sufficient induce DUSP SPRY panel human LUAD cell lines contain RAS oncogenes silenced NKX-',\n",
              " 'In gastric cancer glioblastoma pancreatic cancer SOX9 promotes cancer cell proliferation survival well tumor growth upregulation BMI expression consequently inhibits level tumor suppressor pIt',\n",
              " 'Activation KRAS oncogene usually point mutations codon observed 9 PDAC patients',\n",
              " 'Together genetic study Mueller et al data support model pancreatic tumor development tumor initiation driven single oncogenic KRAS mutation progression invasivemetastatic cancer promoted amplification mutant KRAS allele incomplete MASI loss WT KRAS allele complete MASI Fig S',\n",
              " 'Together genetic study Mueller et al data support model pancreatic tumor development tumor initiation driven single oncogenic KRAS mutation progression invasivemetastatic cancer promoted amplification mutant KRAS allele incomplete MASI loss WT KRAS allele complete MASI Fig S',\n",
              " 'Together genetic study Mueller et al data support model pancreatic tumor development tumor initiation driven single oncogenic KRAS mutation progression invasivemetastatic cancer promoted amplification mutant KRAS allele incomplete MASI loss WT KRAS allele complete MASI Fig S',\n",
              " 'Moreover MYC-driven transgenic murine lung cancer cells express glutamine synthetase whereas MYC-driven murine liver cancer cells underscoring importance cell type determining specific metabolic dependencies different cancers',\n",
              " 'HBEGF key driver EMT influences outcomes treatment lung cancer Stawowczyk et al Wu et al',\n",
              " 'For example MYC oncogenic transcription factor induced PD-L expression directly binding PD-L promoter melanoma NSCLC cells',\n",
              " 'For example MYC oncogenic transcription factor induced PD-L expression directly binding PD-L promoter melanoma NSCLC cells',\n",
              " 'SCAMP knockdown increases lung adenocarcinoma cell survival increases xenograft tumor growth vivo demonstrating tumor suppressor role SCAMP lung tumorigenesis',\n",
              " 'Molecular profiling lung cancer patients led identification driver mutations multiple genes including epidermal growth factor receptor EGFR',\n",
              " 'We selected SCAMP investigation potential role SCAMP EGFR-driven lung adenocarcinoma function tyrosine phosphorylation SCAMP Y elucidated',\n",
              " 'We document tumor suppressor role SCAMP human lung adenocarcinoma',\n",
              " 'In summary SCAMP targeting experiments described show SCAMP negative regulator tumor growth acts tumor suppressor human lung adenocarcinoma vitro vivo',\n",
              " 'Most importantly show depletion SCAMP human lung adenocarcinoma cells increases growth vitro vivo rescued re-expression wild type SCAMP YF mutant suggesting SCAMP acts tumor suppressor human lung adenocarcinoma',\n",
              " 'Additionally demonstrated increased MAP kinase activation cellular proliferation upon SCAMP depletion rescued expression WT SCAMP SCAMP YF mutant suggesting SCAMP phosphorylation plays significant role regulating downstream EGFR signaling tumor suppressor role SCAMP lung adenocarcinoma',\n",
              " 'Some insertions tumor suppressor genes APC colon cancer PTEN endometrial carcinoma found linked development cancer',\n",
              " 'Lately scientists found comparing adenomatosis polyposis coli tumor suppressor APC genes healthy colon cancer suffering cells later consists transposes',\n",
              " 'In pancreas pancreatitis associated tissue injury collaborates activating mutations Kras oncogene dramatically accelerate formation early neoplastic lesions ultimately pancreatic cancer',\n",
              " 'PM Promoter methylation tumor suppressor p gene Lung cancer Soberanes et al',\n",
              " 'Epidermal growth factor receptor EGFR mutations lung adenocarcinoma frequent class driver mutations',\n",
              " 'LUAD driven EGFR mutations one recognised studied types non-small cell lung cancer specifically research level human EGFR-mutant cell lines clinical level pharmaceutical industry-oriented clinical trials',\n",
              " 'KRAS GC one common driver mutations NSCLC high unmet need poor outcomes second-line treatment KRAS GC - driven NSCLC',\n",
              " 'KRAS GC one common driver mutations NSCLC high unmet need poor outcomes second-line treatment KRAS GC - driven NSCLC',\n",
              " 'KRAS GC one common driver mutations NSCLC high unmet need poor outcomes second-line treatment KRAS GC - driven NSCLC',\n",
              " 'In another study suppress oncogenic KRAS pancreatic ductal adenocarcinoma PDAC cells Ferino et al developed ss-miR-b mimics unlocked nucleic acid UNA modifications increase nuclease resistance',\n",
              " 'Molecular targeted therapy revolutionized treatment patients metastatic NSCLC first-line therapy patients stage IV disease targetable mutations oncogenes epidermal growth factor receptor',\n",
              " 'Free fatty acid receptor FFAR reported tumor suppressor colon cancer development',\n",
              " 'An alternative mechanism dendritic cell paucity mouse model pancreatic cancer shown mediated serum IL- driving increased dendritic cell apoptosis Fig',\n",
              " 'However KRAS also shown promote cancer cell growth stimulating alanine aminotransferase activity leading high levels -ketoglutarate TCA cycle mitochondrial ROS generation required mutant KRAS-driven tumorigenesis mouse model lung cancer',\n",
              " 'currently exist dependency certain KRAS-driven cancers pancreatic cancer lung cancer glutamine could exploited targeting glutaminase- GLS enzyme restricts glutamines conversion glutamate anaplerotic entry TCA cycle',\n",
              " 'currently exist dependency certain KRAS-driven cancers pancreatic cancer lung cancer glutamine could exploited targeting glutaminase- GLS enzyme restricts glutamines conversion glutamate anaplerotic entry TCA cycle',\n",
              " 'Additionally mutations KEAP gene encodes negative regulator NRF could point way treating lung adenocarcinoma driven oncogenic KRAS',\n",
              " 'In recent phase II trial 9 lung adenocarcinoma patients whose tumors contained driver epidermal growth factor receptor EGFR mutations treated TKIs erlotinib hydrochloride afatinib dimaleate Gefitinib standard dosage plus minus mgday metformin ie well within normal dosage treating diabetes',\n",
              " 'Elevated NSD Histone Methylation Activity Drives Squamous Cell Lung Cancer',\n",
              " 'In contrast p- candidate LUSC drivers increased NSD expression strongly correlates gene amplification',\n",
              " 'Together work identifies NSD principal p- amplicon-associated oncogenic driver LUSC suggests NSD-dependency renders LUSC therapeutically vulnerable BETi',\n",
              " 'Generation PSCN LUSC mouse model NSD coordination oncogenic gene expression program LUSC',\n",
              " 'LUSC characterized number driver mutations increased expression PIK SOX PIK activating mutations deletion PTEN deletions alterations',\n",
              " 'LUSC characterized number driver mutations increased expression PIK SOX PIK activating mutations deletion PTEN deletions alterations',\n",
              " 'LUSC characterized number driver mutations increased expression PIK SOX PIK activating mutations deletion PTEN deletions alterations',\n",
              " 'LUSC characterized number driver mutations increased expression PIK SOX PIK activating mutations deletion PTEN deletions alterations',\n",
              " 'P tumor suppressor protein previously shown interact ATF H99 cells human non-small cell lung carcinoma cell line',\n",
              " 'A recent study also showed HSDB potential prognostic marker non-small cell lung cancer may contribute development non-small cell lung cancer drive tumor progression',\n",
              " 'A recent study also showed HSDB potential prognostic marker non-small cell lung cancer may contribute development non-small cell lung cancer drive tumor progression',\n",
              " 'Various tumor suppressor genes associated lung cancer include tumor suppressor gene TP Adenomatous polyposis coli APC Bromodomain containing BRD Cyclin Dependent Kinase Inhibitor A CDKNA NM',\n",
              " 'Various tumor suppressor genes associated lung cancer include tumor suppressor gene TP Adenomatous polyposis coli APC Bromodomain containing BRD Cyclin Dependent Kinase Inhibitor A CDKNA NM',\n",
              " 'The BRD9 recognizes histone HKacKac shown oncogenic role various cancers including ovarian cancer squamous cell lung carcinoma esophageal carcinoma',\n",
              " 'The BRD9 recognizes histone HKacKac shown oncogenic role various cancers including ovarian cancer squamous cell lung carcinoma esophageal carcinoma',\n",
              " 'In KPFmice histological molecular genetic clinical hallmarksof PDAC patients recapitulated tissue-specific expressionof oncogenic Kras inactivation tumor suppressor p inthe pancreas',\n",
              " 'In KPFmice histological molecular genetic clinical hallmarksof PDAC patients recapitulated tissue-specific expressionof oncogenic Kras inactivation tumor suppressor p inthe pancreas',\n",
              " 'In non-small cell lung cancer NSCLC concurrent mutations oncogene KRAS tumor suppressor STK encoding kinase',\n",
              " 'KRAS frequently mutated oncogene lung adenocarcinoma LUAD common histological subtype NSCLC',\n",
              " 'KRAS frequently mutated oncogene lung adenocarcinoma LUAD common histological subtype NSCLC',\n",
              " 'Driver mutations PD-L expression frequency Galician non-small cell lung cancer patients',\n",
              " 'To investigate whether results could extrapolated setting endogenous oncogenic KRAS tumorigenesis Ulk Ulk knocked CRISPRCas9 mouse KRAS mutant lung adenocarcinoma cell lines Extended Data Fig',\n",
              " 'To investigate whether results could extrapolated setting endogenous oncogenic KRAS tumorigenesis Ulk Ulk knocked CRISPRCas9 mouse KRAS mutant lung adenocarcinoma cell lines Extended Data Fig',\n",
              " 'On similar note EGFR activity shown prerequisite KRAS-driven tumorigenesis pancreatic ductal adenocarcinoma PDA non-small cell lung cancer NSCLC',\n",
              " 'Thus small cell lung cancer SCLC constitutes around cases mainly driven mutations TP RB role genes like PTEN SLIT CREBBP also described',\n",
              " 'Thus small cell lung cancer SCLC constitutes around cases mainly driven mutations TP RB role genes like PTEN SLIT CREBBP also described',\n",
              " 'Further analysis revealed overexpression known NSCLC drivers EGFR ERBB KRAS also oncogenes commonly implicated NSCLC oncogenic kinase SGK Figure f Supplementary Figure',\n",
              " 'Further analysis revealed overexpression known NSCLC drivers EGFR ERBB KRAS also oncogenes commonly implicated NSCLC oncogenic kinase SGK Figure f Supplementary Figure',\n",
              " 'Because fine-tuning DNMT abundance posttranslational modifications PTMs important tumor suppression increased amounts USP correlate increased amounts DNMT colon cancer consequently promoting tumor progression Du et al',\n",
              " 'ROS rearrangement acts oncogenic driver - NSCLC',\n",
              " 'MBIP MAPK binding inhibitory protein drives NSCLC metastasis JNK-dependent activation MMPs',\n",
              " 'MBIP MAPK binding inhibitory protein drives NSCLC metastasis JNK-dependent activation MMPs',\n",
              " 'MBIP sufficient drive proliferation migration invasion NSCLC cells vitro metastasis vivo',\n",
              " 'This also first report whereby using multiple complementary approaches elucidated comprehensive mechanistic role MBIP driver cellular proliferation migration invasion metastasis NSCLC',\n",
              " 'MBIP sufficient drive proliferation migration invasion NSCLC cells vitro metastasis vivo',\n",
              " 'Epidermal growth factor receptor EGFR Kirsten-RAS KRAS gene mutations common LUAD LUSC common mutations cyclin-dependent kinase inhibitor A CDKNA tumor suppressor protein p TP',\n",
              " 'Epidermal growth factor receptor EGFR Kirsten-RAS KRAS gene mutations common LUAD LUSC common mutations cyclin-dependent kinase inhibitor A CDKNA tumor suppressor protein p TP',\n",
              " 'EGFR Fig main druggable oncogenic target nonsmall cell lung cancer NSCLC nearly Asian patients Caucasian patients presenting growth-activating mutations',\n",
              " 'Over past decade ICIs become standard care patients non-oncogene-driven advanced NSCLC initial presentation',\n",
              " 'Above peptide namely FK identified soil microbe found restrict expansion RAS pancreaticcolon cancer carrying oncogenic mutant K-RAS respectively',\n",
              " 'We identified known MYC SNAI novel drivers NSCLC invasion including IMPAD KDELR',\n",
              " 'Novel screen identifies IMPAD KDELR drivers lung cancer invasion disease progression',\n",
              " 'Hence proceeded study IMPAD KDELR distinct drivers NSCLC invasion metastasis',\n",
              " 'Hence proceeded study IMPAD KDELR distinct drivers NSCLC invasion metastasis',\n",
              " 'IMPAD KDELR independently regulate Golgi-mediated secretion proteases MMPs drive lung cancer invasion',\n",
              " 'IMPAD KDELR independently regulate Golgi-mediated secretion proteases MMPs drive lung cancer invasion',\n",
              " 'Therefore used syngeneic Kras Tp mutant cell lines study IMPAD KDELR drivers NSCLC invasion metastasis',\n",
              " 'Therefore used syngeneic Kras Tp mutant cell lines study IMPAD KDELR drivers NSCLC invasion metastasis',\n",
              " 'KDELR amplification mutation frequency lung adenocarcinoma LuAd relation putative LuAd drivers Kras Tp reported TCGA',\n",
              " 'KDELR amplification mutation frequency lung adenocarcinoma LuAd relation putative LuAd drivers Kras Tp reported TCGA',\n",
              " 'IMPAD expression sufficient drive lung cancer invasion metastasis',\n",
              " 'KDELR expression sufficient drive lung cancer invasion metastasis',\n",
              " 'IMPAD KDELR independently induce Golgi-mediated secretion proteases MMPs drive lung cancer cell invasion',\n",
              " 'IMPAD KDELR independently induce Golgi-mediated secretion proteases MMPs drive lung cancer cell invasion',\n",
              " 'For example high expressionof oncogenic K-Ras pancreatic adenocarcinoma cells induces macropinocytosisto increase cellular uptake nutrition outside cells leadingto malignant progression treatment cells macropinocytosisinhibitor',\n",
              " 'In genetically engineered mouse model lung adenocarcinoma induced oncogenic Kras NE-deficient mice displayed reduced tumour cells proliferation tumour growth',\n",
              " 'Lf may also induce apoptosis colon cancer cells several pathways including induction caspase activation p tumor suppressor gene enhancing expression pro-apoptotic genes TP PMAIP- SFN thereby promoting subsequent cell death HT-9 cells',\n",
              " 'Observed - United States patients NSCLC ROS rearrangements c-ROS oncogene ROS receptor tyrosine kinase acts driver oncogene NA Present - NSCLC genetic translocation ROS genes especially CD BRAF mutation BRAF downstream signaling mediator Kirsten rat sarcoma viral oncogene homolog KRAS gene acts onoff switch cell signaling KRAS activates mitogen-activated protein kinase MAPK pathway involved sending signals inside cells involved directing cell growth',\n",
              " 'Observed - United States patients NSCLC ROS rearrangements c-ROS oncogene ROS receptor tyrosine kinase acts driver oncogene NA Present - NSCLC genetic translocation ROS genes especially CD BRAF mutation BRAF downstream signaling mediator Kirsten rat sarcoma viral oncogene homolog KRAS gene acts onoff switch cell signaling KRAS activates mitogen-activated protein kinase MAPK pathway involved sending signals inside cells involved directing cell growth',\n",
              " 'Observed - United States patients NSCLC ROS rearrangements c-ROS oncogene ROS receptor tyrosine kinase acts driver oncogene NA Present - NSCLC genetic translocation ROS genes especially CD BRAF mutation BRAF downstream signaling mediator Kirsten rat sarcoma viral oncogene homolog KRAS gene acts onoff switch cell signaling KRAS activates mitogen-activated protein kinase MAPK pathway involved sending signals inside cells involved directing cell growth',\n",
              " 'Observed - United States patients NSCLC ROS rearrangements c-ROS oncogene ROS receptor tyrosine kinase acts driver oncogene NA Present - NSCLC genetic translocation ROS genes especially CD BRAF mutation BRAF downstream signaling mediator Kirsten rat sarcoma viral oncogene homolog KRAS gene acts onoff switch cell signaling KRAS activates mitogen-activated protein kinase MAPK pathway involved sending signals inside cells involved directing cell growth',\n",
              " 'Observed - United States patients NSCLC ROS rearrangements c-ROS oncogene ROS receptor tyrosine kinase acts driver oncogene NA Present - NSCLC genetic translocation ROS genes especially CD BRAF mutation BRAF downstream signaling mediator Kirsten rat sarcoma viral oncogene homolog KRAS gene acts onoff switch cell signaling KRAS activates mitogen-activated protein kinase MAPK pathway involved sending signals inside cells involved directing cell growth',\n",
              " 'Observed - United States patients NSCLC ROS rearrangements c-ROS oncogene ROS receptor tyrosine kinase acts driver oncogene NA Present - NSCLC genetic translocation ROS genes especially CD BRAF mutation BRAF downstream signaling mediator Kirsten rat sarcoma viral oncogene homolog KRAS gene acts onoff switch cell signaling KRAS activates mitogen-activated protein kinase MAPK pathway involved sending signals inside cells involved directing cell growth',\n",
              " 'ALK gene activation involved carcinogenesis process several human cancers anaplastic large cell lymphoma lung cancer inflammatory myofibroblastic tumors neuroblastoma consequence fusion oncogenes NPM EML TIM etc gene amplification mutation protein overexpression',\n",
              " 'KRAS one prevalentoncogenes mutated large fraction lethal cancers includingpancreatic colorectal lung cancer',\n",
              " 'Although results suggested tumor suppressor role USP lung cancer cancers role seemed context-dependent',\n",
              " 'It took years discovering ALK fusion ELM driver fusion NSCLCto showing crizotinib induces response ALK-rearranged NSCLCSimilar EGFR TKIs newer-generation ALK TKIs ceritinibalectinib brigatiniband lorlatinibdemonstrated better efficacy ability overcome acquired ALK mutations',\n",
              " 'Some additional rare lung cancer driver genes include fusion genes ROS RET NTRK BRAF',\n",
              " 'Some additional rare lung cancer driver genes include fusion genes ROS RET NTRK BRAF',\n",
              " 'Some additional rare lung cancer driver genes include fusion genes ROS RET NTRK BRAF',\n",
              " 'Some additional rare lung cancer driver genes include fusion genes ROS RET NTRK BRAF',\n",
              " 'Over NSCLC harbor various oncogenic driver mutations mutationsin membrane receptors downstream effector proteins lead uncontrolled cellgrowth proliferation survival via complex cascade cell signaling pathwayssuch RASRAFMEKERK PIKAKTmTOR pathway',\n",
              " 'Activating mutations epidermal growthfactor receptor EGFR anaplastic lymphoma kinas ALK v-ros avian UR sarcomavirus oncogene homolog ROS Kirsten rat sarcoma viral oncogene homolog KRASand v-RAF murine sarcoma viral oncogene homolog B BRAF found asoncogenic driver mutations NSCLC',\n",
              " 'The results exhibited non-viral delivery system VEGF knockdown lung cancer xenograft model improved efficiency tumor suppression',\n",
              " 'For example tumor suppressor gene TUSCFUS TUSC inactivated lung cancer',\n",
              " 'For example tumor suppressor gene TUSCFUS TUSC inactivated lung cancer',\n",
              " 'For instance new genes warrant investigation include zinc finger protein ZNF role coordinating zinc ions PTPN involved oncogenic transformations RAB member RAS oncogene family whose overexpression shown human tumors 9 pancreatic cancer',\n",
              " 'For instance new genes warrant investigation include zinc finger protein ZNF role coordinating zinc ions PTPN involved oncogenic transformations RAB member RAS oncogene family whose overexpression shown human tumors 9 pancreatic cancer',\n",
              " 'For instance new genes warrant investigation include zinc finger protein ZNF role coordinating zinc ions PTPN involved oncogenic transformations RAB member RAS oncogene family whose overexpression shown human tumors 9 pancreatic cancer',\n",
              " 'These results consistent data large-scale RNAi experiments Project DRIVE Cancer Dependency Map detect DCLK dependency PDAC cell line proliferation odds reported murine vivo DCLK knockout studies clinical observations',\n",
              " 'In present study found ARHGAP acts tumor suppressor inducing apoptosis cell cycle blockage inhibiting cell proliferation lung cancer',\n",
              " 'Studies also shown co-treatment ceria nanoparticles radiation therapy caused significant activation c-Jun terminal kinase key driver radiation therapy-induced apoptosis human pancreatic cancer cells',\n",
              " 'Brummelkamp et al report success inhibiting K-RAS Kirsten-rat sarcoma viral oncogene expression human pancreatic carcinoma cells using RNAi retroviral system led loss anchorage-independent growth tumorgenicity',\n",
              " 'Deng et al identified miR-9 tumor suppressor microRNA promotes cell cycle arrest GG phase directly inhibition DCLK non-small cell lung cancer NSCLC',\n",
              " 'First combinations chemotherapies immunotherapies shown best efficacy represent standard care large group patients without oncogene-driven lung cancer without high PD-L expression tumour cells',\n",
              " 'In recent study shown tumor growth colitis associated colon cancer model driven inflammatory CD T cells infiltrating tumor',\n",
              " 'Additional works lung cancer mouse models necessary clarify potential tumor suppressor function UBEL K-ras mutation-independent human lung cancers',\n",
              " 'Pro parental line Lec Lec Lec Lec9 glycosylation mutants -sialyltransferase-expressing variant parental line well human pancreatic carcinoma cells Capan- expressing tumor suppressor p INKa analyzed flow cytometry described',\n",
              " 'colon cancer suppressor genes DCC chromosome p chromosome p MCC mutated colorectal caner gene chromosome q amplified mutated translocated oncogenes',\n",
              " 'colon cancer suppressor genes DCC chromosome p chromosome p MCC mutated colorectal caner gene chromosome q amplified mutated translocated oncogenes',\n",
              " 'We examined association PD-L expression driver gene mutations EGFR KRAS ROS Greek NSCLC patients',\n",
              " 'Classic driver oncogene mutations EGFR ALK ROS PD-L expression chemonaive lung adenocarcinoma specimens clinicopathological correlations',\n",
              " 'Another group developed stable human colon cancer cell line expression receptor pro-oncogenic protein KILLERDR controlled TetOn system',\n",
              " 'Historically platinum-doublet chemotherapy standard-of-care patients advanced NSCLC without oncogenic drivers selected EGFR mutations ALK rearrangements among genomic alterations act therapeutic targets patients lung adenocarcinomas',\n",
              " 'While CDK represents downstream target KRAS mutation loss CDKNA tumor suppressor PDAC clinical preclinical studies indicate pharmacological CDK inhibitors modestly effective',\n",
              " 'MEKERK overactivation drives cancer drug addiction resistant BRAF-mutant melanomas MAPK-driven NSCLC mediated ERK activation tumor suppressive gene-expression program',\n",
              " 'MEKERK overactivation drives cancer drug addiction resistant BRAF-mutant melanomas MAPK-driven NSCLC mediated ERK activation tumor suppressive gene-expression program',\n",
              " 'MEKERK overactivation drives cancer drug addiction resistant BRAF-mutant melanomas MAPK-driven NSCLC mediated ERK activation tumor suppressive gene-expression program',\n",
              " 'NSCLC Rodin Rodin K-Ras oncogenic Ras',\n",
              " 'These findings together results presented herein suggest distinct roles PKC NSCLC depending mutation either KRAS EGFR oncogene',\n",
              " 'However observed KRAS CD9 rarely co-amplified suggesting CD9 amplification passenger event may drive human PDAC independently Fig',\n",
              " 'The plots pq value tumor suppressors showing co-occurrence mutual exclusivity ZDHHC9 lung squamous cell carcinoma TCGA n samples',\n",
              " 'Gene list oncogenes tumor suppressors showing significant co-occurrence mutual exclusivity ZDHHC9 lung squamous cell carcinoma n samples',\n",
              " 'A second patient TPR-NTRK fusion-positive pancreatic cancer prolonged response entrectinib followed resistance driven acquisition NTRK G9R',\n",
              " 'Ingenuity Pathway Analysis IPA revealed many Kras-upregulated surfaceome proteins involved biological processes activated PDAC including axonal guidance signaling pathway Figb Supplementary Table supporting notion Kras major driver molecular reprogramming PDAC',\n",
              " 'As anticipated either overexpression Sdc Psd attenuated decrease macropinocytosis upon Kras extinction Figc Extended Data Fige-g supporting SDC membrane localization controlled PSD-ARF essential mechanism KRAS drives macropinocytosis PDAC',\n",
              " 'Therefore rationale development small molecular inhibitors target Rab-mediated trafficking events could used disrupt oncogenic activity mucins PDAC cells',\n",
              " 'PKC oncogenic member PKC family abnormally overexpressed lung cancer cancer types',\n",
              " 'RabA recently reported function oncogene overexpressed various types cancers tongue squamous carcinoma cervical breast prostate cancer hepatocellular carcinomas lung cancer',\n",
              " 'The EML-ALK fusion found approximately non-small cell lung cancer NSCLC patients leads constitutive activation oncogenic tyrosine kinase activity ALK thereby driving disease',\n",
              " 'NS decreased ERK activity CFPAC- pancreatic H9 lung cancer cells harbors mutant K-RAS allele GV GC respectively demonstrating importance - dimerization oncogenic RAS signaling',\n",
              " 'Pancreatic ductal adenocarcinoma PDAC like many KRAS-driven tumors preferentially loses CDKNA encodes endogenous CDK inhibitor bypass RB-mediated cell cycle suppression',\n",
              " 'Here model RB loss lung adenocarcinoma progression pathway reactivation established oncogenic KRAS-driven tumours mouse',\n",
              " 'Dysregulated LIF key driver STAT activation PDAC',\n",
              " 'Dysregulated LIF key driver STAT activation PDAC',\n",
              " 'Dysregulated LIF key driver STAT activation PDAC',\n",
              " 'We recently reported enforced expression N-Myc activated AKT drives benign human prostate epithelial cells small cell neuroendocrine carcinoma FOXA expression uniformly identified tumors',\n",
              " 'We previously demonstrated EMT-TF TWIST required foroncogene-driven NSCLC',\n",
              " 'We previously observed TWIST expression required fortumorigenesis oncogene-driven NSCLC inhibition TWIST oncogene driver dependent NSCLC cell lines results activation latentsenescence andor apoptotic programs',\n",
              " 'We previously observed TWIST expression required fortumorigenesis oncogene-driven NSCLC inhibition TWIST oncogene driver dependent NSCLC cell lines results activation latentsenescence andor apoptotic programs',\n",
              " 'We previously observed TWIST expression required fortumorigenesis oncogene-driven NSCLC inhibition TWIST oncogene driver dependent NSCLC cell lines results activation latentsenescence andor apoptotic programs',\n",
              " 'Hes reported mediate transcriptional repression Dusp Kras-driven lung cancer model',\n",
              " 'PAX critical oncogene responsible cancer stemness properties via SOX LUAD',\n",
              " 'Thus PAX enhanced key pluripotent factors also repressed differentiation lineage factors via SOX driving lung cancer cells toward stem-like state LUAD',\n",
              " 'In addition found tethering METTL mRNA reporters promotes translation METTL enhances translation oncogenes including EGFR human lung cancer cells',\n",
              " 'targets Spry BTG PDCD thereby enhances oncogenic K-ras activation modulates tumorigenesis lung cancer',\n",
              " 'MiR-9 suppressed MPM cells miR-9 tumor suppressor enhanced gemcitabine activity pancreatic cancer downregulation FGF FGFR',\n",
              " 'Among tumor types widespread hyperactivation RASMAPK signaling non-small cell lung cancer NSCLC oncogenic RASMAPK pathway activation caused mutations KRAS upstream downstream components pathway receptor tyrosine kinases RTKs BRAF',\n",
              " 'The standard ARMS-PCR assay frequently utilized detect hotspot mutations cancer driver genes epidermal growth factor receptor EGFR KRAS lung cancer',\n",
              " 'MiR- functions tumor suppressor breast cancer colon cancer oncogene targeting PTEN gastric cancer targeting -catenin esophageal cancer promoting EMT metastasis lung cancer targeting suppressor-of-fused protein',\n",
              " 'Using approach identified number cardiac glycosides exhibit preferential inhibition pancreatic ductal adenocarcinoma cells carrying oncogenic KRAS mutations',\n",
              " 'We validated screening platform executed proof principle screen identify small molecules preferentially inhibit viability pancreatic adenocarcinoma cells harboring oncogenic KRAS mutation',\n",
              " 'Thus miR-c promotes pancreatic cancer development disrupts senescence induction oncogenic Kras',\n",
              " 'GEMMs ofmetastatic lung cancer driven conditional expression Kras GD combined either p Lkb deletion xenograft model EGFR -mutant PC9-BrM human lung cancer showed body weight loss signs ofmuscle atrophy Fig',\n",
              " 'GEMMs ofmetastatic lung cancer driven conditional expression Kras GD combined either p Lkb deletion xenograft model EGFR -mutant PC9-BrM human lung cancer showed body weight loss signs ofmuscle atrophy Fig',\n",
              " 'GEMMs ofmetastatic lung cancer driven conditional expression Kras GD combined either p Lkb deletion xenograft model EGFR -mutant PC9-BrM human lung cancer showed body weight loss signs ofmuscle atrophy Fig',\n",
              " 'analyzed allograft mouse model metastaticsmall cell lung cancer SCLC driven conditional deletion Rb p fails inducecancer-associated muscle wasting Fig b Supplementary Figa d-e',\n",
              " 'This particularly important non-small cell lung cancer NSCLC recent discoveries actionable mutations epidermal growth factor receptor EGFR mutations translocations echinoderm microtubule-associated protein-like -anaplastic lymphoma kinase c-ros oncogene receptor tyrosine kinase used guide biomarker-based treatment decisions',\n",
              " 'In addition primary mPDAC PK miceexhibited recurrent genetic amplifications affecting known oncogenessuch Myc Yap Nfkb novel oncogenic PDAC driver identified thisstudy see also Fig',\n",
              " 'A proto-oncogene c-kit encodes transmembrane tyrosine kinase overexpressed malignancies including small-cell lung cancer SCLC thought involved pathogenesis',\n",
              " 'We recently reported LINC consistently highly induced target lung cancer cells inactivated tumor suppressor gene LKB one frequent genetic alterations non-small cell lung cancer',\n",
              " 'We recently reported LINC consistently highly induced target lung cancer cells inactivated tumor suppressor gene LKB one frequent genetic alterations non-small cell lung cancer',\n",
              " 'We next employed CRISPRCas9-based Synergistic Activation Mediator SAM system robustly drive expression Rspo Rspo Lgr KP LUAD cells',\n",
              " 'Knockdown Lgr Lgr required fully suppress R-spondin-driven Wnt pathway activation Extended Data Figure a-gFigure e indicating Lgr Lgr R-spondin receptors KP LUAD model',\n",
              " 'Since nuclear accumulation p protein known correspond well mutation p tumor suppressor gene authors examined primary lung cancer specimens immunohistochemically using anti-p mouse monoclonal antibody pAb analyzed relationship immunohistochemical results clinicopathological features',\n",
              " 'Since nuclear accumulation p protein known correspond well mutation p tumor suppressor gene authors examined primary lung cancer specimens immunohistochemically using anti-p mouse monoclonal antibody pAb analyzed relationship immunohistochemical results clinicopathological features',\n",
              " 'These results indicate mutation p tumor suppressor gene plays important role development primary lung cancer nuclear accumulation p protein potential prognostic factor adenocarcinoma lung',\n",
              " 'A Novel Somatic Point Mutation RET Proto-oncogene Tumor Tissues Small Cell Lung Cancer Patients',\n",
              " 'We examined whether novel point mutation GCC Ala GAC Asp codon exon RET proto-oncogene found two small cell lung carcinoma SCLC cell lines existed genomic DNA tumor tissues two SCLC patients SCLC cell lines derived',\n",
              " 'We examined whether novel point mutation GCC Ala GAC Asp codon exon RET proto-oncogene found two small cell lung carcinoma SCLC cell lines existed genomic DNA tumor tissues two SCLC patients SCLC cell lines derived',\n",
              " 'We examined whether novel point mutation GCC Ala GAC Asp codon exon RET proto-oncogene found two small cell lung carcinoma SCLC cell lines existed genomic DNA tumor tissues two SCLC patients SCLC cell lines derived',\n",
              " 'We examined whether novel point mutation GCC Ala GAC Asp codon exon RET proto-oncogene found two small cell lung carcinoma SCLC cell lines existed genomic DNA tumor tissues two SCLC patients SCLC cell lines derived',\n",
              " 'We examined whether novel point mutation GCC Ala GAC Asp codon exon RET proto-oncogene found two small cell lung carcinoma SCLC cell lines existed genomic DNA tumor tissues two SCLC patients SCLC cell lines derived',\n",
              " 'For example MYC responsible transcribing machinery glutaminolysis including SLCA link also established oncogenic RAS glutamine dependency colon cancer lung cancer',\n",
              " 'For example MYC responsible transcribing machinery glutaminolysis including SLCA link also established oncogenic RAS glutamine dependency colon cancer lung cancer',\n",
              " 'While PDAC predominantly9 driven oncogenic KRAS thedevelopment targeted therapies againstKRAS core PDAC associated pro-survival pathways includingRas-Raf-MEK-ERK PIK-AKt-mTOR proved futile owing thehighly mutagenic nature disease',\n",
              " 'Mutant KRAS induces ARF acts oncogenein PDAC drive constitutive activation ERK signalingand downstream effector MYC regulate Warburg effect',\n",
              " 'Mutant KRAS induces ARF acts oncogenein PDAC drive constitutive activation ERK signalingand downstream effector MYC regulate Warburg effect',\n",
              " 'The PKCi-Parcomplex also plays oncogenic role lung ovarian colon cancer',\n",
              " 'These results suggested TMEM may behave tumor suppressor NSCLC hypermethylation TMEM NSCLC may associated unfavorable prognosis',\n",
              " 'These results suggested TMEM may behave tumor suppressor NSCLC hypermethylation TMEM NSCLC may associated unfavorable prognosis',\n",
              " 'Shh overexpression drives chromosomal instability segmental aneuploidy SCLC',\n",
              " 'Shh drives tumor progression mouse model SCLC',\n",
              " 'Shh drives tumor progression mouse model SCLC',\n",
              " 'In lung cancer malignancies tumourigenesis narrates activation growth promoting proteins eg v-Kiras Kirsten rat sarcoma viral oncogene homolog KRAS epidermal growth factor receptor EGFR BRAF MEK- HER MET ALK rearranged transfection RET well inactivation tumour suppressor genes eg P phosphatase tensin homology PTEN',\n",
              " 'In lung cancer malignancies tumourigenesis narrates activation growth promoting proteins eg v-Kiras Kirsten rat sarcoma viral oncogene homolog KRAS epidermal growth factor receptor EGFR BRAF MEK- HER MET ALK rearranged transfection RET well inactivation tumour suppressor genes eg P phosphatase tensin homology PTEN',\n",
              " 'In lung cancer malignancies tumourigenesis narrates activation growth promoting proteins eg v-Kiras Kirsten rat sarcoma viral oncogene homolog KRAS epidermal growth factor receptor EGFR BRAF MEK- HER MET ALK rearranged transfection RET well inactivation tumour suppressor genes eg P phosphatase tensin homology PTEN',\n",
              " 'These ethnic difference NSCLC properties seems limited presence activating EGFR mutations also evident driver oncogenic mutation profiles including ALK KRAS MET etc histology hence tumour response targeted therapy treatment',\n",
              " 'These ethnic difference NSCLC properties seems limited presence activating EGFR mutations also evident driver oncogenic mutation profiles including ALK KRAS MET etc histology hence tumour response targeted therapy treatment',\n",
              " 'For example higher frequency tumor suppressor gene p mutations among women NSCLC among men NSCLC proto-oncogene K-ras gene mutations found common female patients lung cancer smokers among male smokers lung cancer Olak J et al',\n",
              " 'EGFR mutation known actionable driver mutations patients NSCLC sensitizing EGFR mutations play important role high prevalence approximately Caucasian patients Asian patients',\n",
              " 'EGFR mutation known actionable driver mutations patients NSCLC sensitizing EGFR mutations play important role high prevalence approximately Caucasian patients Asian patients',\n",
              " 'Having established importance KEAP mutations mouseand human KRAS-driven LUAD sought uncover potential therapeutic vulnerabilitiesin genetic subtype lung cancer',\n",
              " 'Identification driver mutations kinase domain epidermal growth factor receptor EGFR gene rearrangements anaplastic lymphoma kinase ALK gene lung cancer led development approval several molecularly targeted drugs shown improve objective reponse rates ORR progression-free survival PFS patients NSCLC containing driver mutations',\n",
              " 'The current paradigm cancer genetics therapy view treat oncogene-positive disease eg EGFR -mutant non-small cell lung cancer NSCLC primarily lens one oncogenic alteration eg oncogenic mutant EGFR see Supplementary note',\n",
              " 'The current paradigm cancer genetics therapy view treat oncogene-positive disease eg EGFR -mutant non-small cell lung cancer NSCLC primarily lens one oncogenic alteration eg oncogenic mutant EGFR see Supplementary note',\n",
              " 'These new data challenge current view genetic basis EGFR -mutant lung cancer single-oncogene disease wherein oncogenic mutant EGFR mutually exclusive oncogene Fig',\n",
              " 'Mutations KRAS associated cancer thepancreas lung colon among others oncogenic KRAS mutations activation downstream effectors asMEK Akt Erk among others sufficient drivers pancreas cancer',\n",
              " 'Mutations KRAS associated cancer thepancreas lung colon among others oncogenic KRAS mutations activation downstream effectors asMEK Akt Erk among others sufficient drivers pancreas cancer',\n",
              " 'Mutations KRAS associated cancer thepancreas lung colon among others oncogenic KRAS mutations activation downstream effectors asMEK Akt Erk among others sufficient drivers pancreas cancer',\n",
              " 'Collectively studyoffers insight therapeutic potential exosomes specific targeting ofoncogenic Kras pancreatic cancer',\n",
              " 'Several driver mutations found NSCLC EGFR epidermal growth factor receptor KRAS V-Ki-ras Kirsten rat sarcoma BRAF B-Raf proto-oncogene serinethreonine kinase HER erb-b receptor tyrosine kinase',\n",
              " 'Several driver mutations found NSCLC EGFR epidermal growth factor receptor KRAS V-Ki-ras Kirsten rat sarcoma BRAF B-Raf proto-oncogene serinethreonine kinase HER erb-b receptor tyrosine kinase',\n",
              " 'In mouse model K-Ras induced lung adenocarcinoma expression Racb synergized oncogenic K-Ras caused increased proliferation accelerated tumor growth',\n",
              " 'In mouse model K-Ras induced lung adenocarcinoma expression Racb synergized oncogenic K-Ras caused increased proliferation accelerated tumor growth',\n",
              " 'Rac function required tumorigenesis oncogenic K-Ras-induced lung cancer model Kissil et al',\n",
              " 'Rac function required tumorigenesis oncogenic K-Ras-induced lung cancer model Kissil et al',\n",
              " 'Pro-oncogenic LSL-K-Ras GD Rosa-LSL-Racb mouse model lung cancer lung infection adenovirus expressing Cre Ad-Cre Expression Racb synergized oncogenic K- Ras resulting increased cellular proliferation accelerated tumor growth',\n",
              " 'The oncogene KRAS tumor suppressor STK encodes kinase LKB regulate metabolism frequently mutated non-small cell lung cancer NSCLC',\n",
              " 'A Chinese propolis extract exerted anti-cancer activity increasing cellular mRNA levels tumor suppressor genes pCIP p human colon cancer cell line Ishihara et al 9',\n",
              " 'A Chinese propolis extract exerted anti-cancer activity increasing cellular mRNA levels tumor suppressor genes pCIP p human colon cancer cell line Ishihara et al 9',\n",
              " 'Oncogenic KRAS key driver human lung adenocarcinoma early stage lung tumors modeled using LoxP-Stop-LoxP Kras GD knock-in mice Kras LSL-GD expression Cre lung epithelial cells leads expression oncogenic Kras GD 9',\n",
              " 'Oncogenic KRAS key driver human lung adenocarcinoma early stage lung tumors modeled using LoxP-Stop-LoxP Kras GD knock-in mice Kras LSL-GD expression Cre lung epithelial cells leads expression oncogenic Kras GD 9',\n",
              " 'We generated lentiviral vectors carrying Cre well sgRNA targeting known putative lung adenocarcinoma tumor suppressors sg Lkb sg P sg Apc sg Atm sg Arida sg Cdkna sg Keap sg Rb sg Rbm sg Setd sg Smad',\n",
              " 'We generated lentiviral vectors carrying Cre well sgRNA targeting known putative lung adenocarcinoma tumor suppressors sg Lkb sg P sg Apc sg Atm sg Arida sg Cdkna sg Keap sg Rb sg Rbm sg Setd sg Smad',\n",
              " 'However ALK TKIs yet approved use ALK-driven cancers outside NSCLC date',\n",
              " 'While many tumor cells oncogenic KRAS mutations require K-Ras survival ie K-Ras dependent subset KRAS mutant NSCLC cell lines able proliferate absence K-Ras ie K-Ras independent',\n",
              " 'Plotting K-Ras dependency survival see Figure S versus PKC dependent AIG Figure C reveals two distinct sub-groups NSCLC cells Figure D clearly demonstrates dependency oncogenic K-Ras PKC highly correlated Pearson coefficient r p',\n",
              " 'Targeted therapy shows promise outcome advanced NSCLC patients harbor driving mutations epidermal growth factor receptor EGFR get benefit',\n",
              " 'Our functional studies confirm LOXL specifically driving vivo metastatic disease LOX may intracellular effect vitro migratory ability mesenchymal lung cancer cells',\n",
              " 'BRAF VE remains genomic target driver colon cancer however effectively target colon cancer feedback pathways mediating activation EGFR rapid resistance addressed',\n",
              " 'In fact several studies demonstrated FoxF functions oncogene breast cancer others reported FoxF tumor suppressor breast colon cancer cells',\n",
              " 'Hugl-l functions tumor suppressor reduced expression Hugl- shows inverse correlation lung SCC progression inhibition Hugl- contributes progression lung squamous cell carcinoma',\n",
              " 'Past research shown EFEMP acts tumor suppressor several human cancers lung cancer hepatocellular carcinoma breast cancer nasopharyngeal carcinomas colorectal cancer non-small cell lung carcinoma',\n",
              " 'ARIDA loss impairs enhancer-mediated gene regulation drives colon cancer mice',\n",
              " 'Subsequent studies showed YAP could also substitute oncogenic KRAS promoting growth PDAC tumors well lung adenocarcinomas confer resistance MAPK pathway inhibitors KRAS BRAF mutant tumor cells',\n",
              " 'EML-ALK rearranged lung cancer represents molecularly defined subset NSCLC wherein ALK clearly one oncogenic drivers',\n",
              " 'Coiled-coil domain containing CCDC demonstrates tumor suppressive role pancreatic ductal adenocarcinoma',\n",
              " 'Coiled-coil domain containing CCDC demonstrates tumor suppressive role pancreatic ductal adenocarcinoma',\n",
              " 'Using integrative genomics functional screening identified coiled-coil domain containing CCDC novel putative tumor suppressor TSG pancreatic ductal adenocarcinoma PDAC',\n",
              " 'Using integrative genomics functional screening identified coiled-coil domain containing CCDC novel putative tumor suppressor TSG pancreatic ductal adenocarcinoma PDAC',\n",
              " 'Using integrative genomics functional screening identified coiled-coil domain containing CCDC novel putative tumor suppressor TSG pancreatic ductal adenocarcinoma PDAC',\n",
              " 'An additional novel significant finding study identification novel CCDC splice variant devoid tumor suppressive function PDAC',\n",
              " 'Pancreatic cancer driven subgroup underlying genetic mutations including KRAS CDKNA SMAD TP',\n",
              " 'Pancreatic cancer driven subgroup underlying genetic mutations including KRAS CDKNA SMAD TP',\n",
              " 'Pancreatic cancer driven subgroup underlying genetic mutations including KRAS CDKNA SMAD TP',\n",
              " 'PDAC initiated mutation KRAS proto-oncogene encodes kDa small GTPase present 9 PDAC cases',\n",
              " 'PDAC initiated mutation KRAS proto-oncogene encodes kDa small GTPase present 9 PDAC cases',\n",
              " 'MUC Interaction Receptor Tyrosine Kinase HER Drives Pancreatic Ductal Adenocarcinoma Progression',\n",
              " 'Although importance KRas mutation development ADM PanIN pancreatic tumors well establishedthe mechanisms oncogenic Ras leads PDAC fully understood',\n",
              " 'Although importance KRas mutation development ADM PanIN pancreatic tumors well establishedthe mechanisms oncogenic Ras leads PDAC fully understood',\n",
              " 'Supplementary Figure A STAT known important oncogenic KRas -induced pancreatic tumor development',\n",
              " 'Our data mouse models expressing KRas GD consistent findings cultured cells showing Ras signaling stabilizes activates YAPRecent studies implicated YAP important driver pancreatic cancer progression later stages collaboration oncogenic Ras mechanism escape Ras-RAF-MEK-targeted therapies',\n",
              " 'E Scheme showing roles YAP TAZ pancreatic cancer initiation inducing ADM response oncogenic KRas GD inflammation',\n",
              " 'E Scheme showing roles YAP TAZ pancreatic cancer initiation inducing ADM response oncogenic KRas GD inflammation',\n",
              " 'This cancer type remarkably homogenous 9 PDAC originate oncogenic mutations KRAS gene',\n",
              " 'Aberrant EGFR activation drives higher expression PD-L NSCLC cell lines',\n",
              " 'The aberrant expression Shh directly associated oncogenic Kras expression PDAC',\n",
              " 'Ectopic expression oncogenic Kras GD normal human pancreatic ductal cells leads increase Shh transcript indicating Shh downstream effector oncogenic Kras GD pancreatic cancer development',\n",
              " 'Ectopic expression oncogenic Kras GD normal human pancreatic ductal cells leads increase Shh transcript indicating Shh downstream effector oncogenic Kras GD pancreatic cancer development',\n",
              " 'Gli reduced incidence Kras-driven PanINs PDAC indicating importance Gli transcription factors pancreatic tumorigenesis',\n",
              " 'Depletion oncogenic Kras specific mutant Kras-targeted siRNAs inhibits Gli transcription activity indicated expression Gli Ptch PDAC cell lines',\n",
              " 'Since CIP previously shown regulate EGFR trafficking EGFR frequent driver NSCLC surveyed CIP expression panel cell lines derived normal human lung epithelium NSCLC tumors',\n",
              " 'This study identifies CIP positive regulator EGFR-driven lung adenocarcinoma cell invasion tumor metastasis vivo',\n",
              " 'Since E-cadherin antagonize EGFR-driven EMT NSCLC cells Drosophila CIP ortholog implicated E-cadherin internalization may contribute defects observed EGFR signaling MMP- expression',\n",
              " 'In study CIP promotes metastasis EGFR-driven NSCLC tumors lungs mice harboring subcutaneous tumors',\n",
              " 'Recent clinical studies also identified LKB second frequently mutated tumor suppressor sporadic human lung cancer',\n",
              " 'Interestingly PDK required Kras -driven pancreatic cancer murine models Kras -driven lung cancer suggesting context-specific role PDK',\n",
              " 'Given suggestion certain markers may consistently enrich tumor propagating ability findings indicate Msi-expression identify cancer stem cells least contexts Msi cells preferentially drive pancreatic cancer growth invasion lethality',\n",
              " 'Carcinogenesis progression colon cancer still unclear disease course accompanied numerous genetic alterations including oncogenes tumor suppressor genes P PTEN K-ras',\n",
              " 'Carcinogenesis progression colon cancer still unclear disease course accompanied numerous genetic alterations including oncogenes tumor suppressor genes P PTEN K-ras',\n",
              " 'Anaplastic lymphoma kinase ALK gene rearrangements leading constitutive expression oncogenic fusion proteins initially detected non-small cell lung cancer NSCLC',\n",
              " 'ALK rearrangements mutually exclusive NSCLC oncogenic drivers cases identified ALK-positive FISH less likely submitted additional molecular testing',\n",
              " 'ALK rearrangements mutually exclusive NSCLC oncogenic drivers cases identified ALK-positive FISH less likely submitted additional molecular testing',\n",
              " 'ALK rearrangements mutually exclusive NSCLC oncogenic drivers cases identified ALK-positive FISH less likely submitted additional molecular testing',\n",
              " 'Moreover non-small-cell lung cancer NSCLC SIRT found inhibited anti-tumor activities reducing expression level tumor suppressor p',\n",
              " 'These results suggested RABL might function oncogene elevated expression Rabl might facilitate tumorigenesis NSCLC cells',\n",
              " 'EAI combination cetuximab effective mouse models lung cancer driven LRT9M EGFR LRT9MC9S EGFR mutant resistant currently available EGFR TKIs',\n",
              " 'TRPM TRPM TRPV TRPV TRPV TRPV reported play oncogenic roles cancer cells including carcinoma lung breast prostate ovarian gastric liver nasopharyngeal glioblastoma melanoma',\n",
              " 'TRPM TRPM TRPV TRPV TRPV TRPV reported play oncogenic roles cancer cells including carcinoma lung breast prostate ovarian gastric liver nasopharyngeal glioblastoma melanoma',\n",
              " 'Investigation pancreatic cancer PC brought four major driver genes V-Ki-ras Kirsten rat sarcoma viral oncogene homolog KRAS cyclin-dependent kinase Inhibitor A CDKNA Tumor protein p TP SMAD family member n SMAD',\n",
              " 'Other alterations tumor suppressor genes observed INK Tumor Suppressor Proteins CDKRb Pathway INKA Breast cancer BRCA Serinethreonine kinase LKB pancreatic cancer',\n",
              " 'Other alterations tumor suppressor genes observed INK Tumor Suppressor Proteins CDKRb Pathway INKA Breast cancer BRCA Serinethreonine kinase LKB pancreatic cancer',\n",
              " 'It observed previous study tumor suppressor gene PCDKNA encodes critical cell cycle regulator inactivated 9 pancreatic cancer',\n",
              " 'Based observation high p-FAK levels neoplastic cells human PDACs correlated fibrosis inflammatory cell infiltration hypothesized FAK activity tumor cells might critical driver immunosuppressive PDAC TME',\n",
              " 'The commonly observed signature genetic lesions pancreatic cancer kirsten rat sarcoma viral oncogene homolog K-Ras P cyclin-dependent kinase inhibitor A CDKNA tumor protein P P breast cancer early onset BRCA SMAD family member',\n",
              " 'PDAC development accelerated K-Ras mutant mouse introducing additional mutations tumor suppressor genes p SMAD PCDKNA occur frequently precursor lesions progress invasive PDAC',\n",
              " 'PDAC development accelerated K-Ras mutant mouse introducing additional mutations tumor suppressor genes p SMAD PCDKNA occur frequently precursor lesions progress invasive PDAC',\n",
              " 'In precursor lesions oncogenic K-Ras expression co-exists PCDKNA markers senescence PDAC expression PCDKNA senescence markers missing',\n",
              " 'As understanding grown tremendously oncogenic K-Ras tumor suppressors growth factors receptors pancreatic cancer initiation progression approaches tested target oncogenic K-Ras growth factors',\n",
              " 'Moreover observed significant positive correlation high SOX mRNA expression whole blood higher number distant metastatic sites p suggesting SOX expression might mirror important oncogenic metastatic potential SCLC',\n",
              " 'The oncogenic transformation lung squamous cell carcinoma highly dependent upon co-induction PKCiota SOX signaling transformative potential PKCiota',\n",
              " 'There currently several approved agents targeting EGFR ALK aberrations agents targeting driver oncogenes NSCLC development',\n",
              " 'EGFR KRAS two commonly mutated oncogenes lung cancer',\n",
              " 'EGFR KRAS two commonly mutated oncogenes lung cancer',\n",
              " 'Expression oncogenic Kras GD induced GTP-bound Ras extent observed murine Kras GD -driven PDAC cell lines Fig C',\n",
              " 'Additional association evidence indicates ADP-ribosylation factor-like tumor suppressor gene ARLTS also called ADP-ribosylation factor-like ARL located q approximately Kb centromeric MIRa MIR- may function tumor suppressor gene lung cancer familial breast cancer melanoma ovarian cancer prostate cancer colorectal cancer',\n",
              " 'Additional association evidence indicates ADP-ribosylation factor-like tumor suppressor gene ARLTS also called ADP-ribosylation factor-like ARL located q approximately Kb centromeric MIRa MIR- may function tumor suppressor gene lung cancer familial breast cancer melanoma ovarian cancer prostate cancer colorectal cancer',\n",
              " 'Although enhancement lymph node metastasis distant metastasis observed Twist induction GCCs ETS associated increased apoptosis tumour suppression GCCs suppression lung cancer',\n",
              " 'A recent study showed loss Mig promotes tumor initiation progression mouse model mutant EGFR-driven lung adenocarcinoma',\n",
              " 'In non-small cell lung cancer common oncogenic alterations EGFR kinase domain include LR point mutation deletions within exon 9 Ex9Del insertions region encoded exon ExIns',\n",
              " 'Src also modulated Mig phosphorylation function lung cancer cell lines PC9 A9 driven mutations EGFR KRAS respectively',\n",
              " 'Src also modulated Mig phosphorylation function lung cancer cell lines PC9 A9 driven mutations EGFR KRAS respectively',\n",
              " 'To test whether SLUG SOX9 functionally linked lung CSCs believed drive tumor progression metastasis NSCLC H cells expressing high endogenous level SLUG SOX9 stably transduced shRNA lentiviral particles SNAI shSNAI SOX9 shSOX9 control CON shCON effects CSCs determined using tumor sphere formation SP assays',\n",
              " 'EML recurrent fusion partner gene ALK resulting fusion transcript EML-ALK primary oncogenic driver - non-small-cell lung carcinomas',\n",
              " 'These findings may particular importance treatment NSCLC pancreatic ductal carcinomas PDAC two highly lethal cancers commonly harbor oncogenic KRAS mutations combination loss mutation p',\n",
              " 'These findings may particular importance treatment NSCLC pancreatic ductal carcinomas PDAC two highly lethal cancers commonly harbor oncogenic KRAS mutations combination loss mutation p',\n",
              " 'These findings may particular importance treatment NSCLC pancreatic ductal carcinomas PDAC two highly lethal cancers commonly harbor oncogenic KRAS mutations combination loss mutation p',\n",
              " 'These findings may particular importance treatment NSCLC pancreatic ductal carcinomas PDAC two highly lethal cancers commonly harbor oncogenic KRAS mutations combination loss mutation p',\n",
              " 'When p inactivation occurs somatic loss heterozygosity LOH autophagy inhibition impairs KRAS driven PDAC progression moreover CQ leads mitochondrial respiration defects',\n",
              " 'It proposed oncogenic K-ras regulates N-cadherin expression pancreatic cancer however relevance disease progression poorly understood',\n",
              " 'It proposed oncogenic K-ras regulates N-cadherin expression pancreatic cancer however relevance disease progression poorly understood',\n",
              " 'Collins et alreported mouse model Kras oncogene developed metastatic PDAC',\n",
              " 'Proto-oncogene serinethreonine-protein kinase PIM proteins belong serinethreonine kinase family upregulated several tumors eg sarcoma hepatocellular cancer prostate cancer PDAC',\n",
              " 'V-MYC avian myelocytomatosis viral oncogene MYC protein transcriptional factor important role genetic epigenetic regulations PDACThe over-expression Myc observed primary 9 metastatic pancreatic tumors',\n",
              " 'V-MYC avian myelocytomatosis viral oncogene MYC protein transcriptional factor important role genetic epigenetic regulations PDACThe over-expression Myc observed primary 9 metastatic pancreatic tumors',\n",
              " 'The miRNAs expressed selectively tumor tissuesand inactivate tumor suppressor genes p p SMAD pancreatic cancer',\n",
              " 'The miRNAs expressed selectively tumor tissuesand inactivate tumor suppressor genes p p SMAD pancreatic cancer',\n",
              " 'The miRNAs expressed selectively tumor tissuesand inactivate tumor suppressor genes p p SMAD pancreatic cancer',\n",
              " 'Colon cancer tumorigenesis first described multistep process accumulation tumor suppressor genes TSGs oncogene mutations involving adenomatous polyposis coli APC tumor protein TP Kirsten rat sarcoma viral oncogene homolog',\n",
              " 'Colon cancer tumorigenesis first described multistep process accumulation tumor suppressor genes TSGs oncogene mutations involving adenomatous polyposis coli APC tumor protein TP Kirsten rat sarcoma viral oncogene homolog',\n",
              " 'For instance found SMR alterations oncogenic transcription factor NFEL associated large concordant transcriptomic changes four distinct cancer types bladder endometrial lung squamous cell carcinoma head neck cancer Fig e',\n",
              " 'For instance found SMR alterations oncogenic transcription factor NFEL associated large concordant transcriptomic changes four distinct cancer types bladder endometrial lung squamous cell carcinoma head neck cancer Fig e',\n",
              " 'Overexpression myc-proto-oncogene common NSCLC however prognostic relevance c-MYC patients NSCLC controversial',\n",
              " 'Overexpression myc-proto-oncogene common NSCLC however prognostic relevance c-MYC patients NSCLC controversial',\n",
              " 'Logsdon Lu article The significance Ras activity pancreatic cancer initiation discuss importance high sustained activity oncogenic Ras attain pathological level achieved inflammatory mediators initiation pancreatic cancer different current paradigm suggests oncogenic KRas constitutively active level sufficient tumorigenesis',\n",
              " 'Logsdon Lu article The significance Ras activity pancreatic cancer initiation discuss importance high sustained activity oncogenic Ras attain pathological level achieved inflammatory mediators initiation pancreatic cancer different current paradigm suggests oncogenic KRas constitutively active level sufficient tumorigenesis',\n",
              " 'In review present evidence CCK-B receptor pathway key driver pancreatic carcinogenesis pancreatic cancer growth',\n",
              " 'These studies supportive role gastrin key driver pancreatic cancer growth',\n",
              " 'These studies supportive role gastrin key driver pancreatic cancer growth',\n",
              " 'Since gastrin key driver pancreatic cancer stimulates growth markedly over-expressed CCK-B receptor targeting interface pathway substantial benefits patient care',\n",
              " 'Since gastrin key driver pancreatic cancer stimulates growth markedly over-expressed CCK-B receptor targeting interface pathway substantial benefits patient care',\n",
              " 'Since gastrin key driver pancreatic cancer stimulates growth markedly over-expressed CCK-B receptor targeting interface pathway substantial benefits patient care',\n",
              " 'The genetically modified model pancreatic cancer established Collins et alfacilitated controllable activation inactivation oncogenic KRAS different experimental conditions including caerulein-induced pancreatitis mutation p accelerated cancer onset',\n",
              " 'As tumor suppressor gene BRCA takes part DNA damage repair germ-line mutations BRCA gene increase risk pancreatic cancer',\n",
              " 'As tumor suppressor gene BRCA takes part DNA damage repair germ-line mutations BRCA gene increase risk pancreatic cancer',\n",
              " 'FOXM regulates various aspects cancer cell biology via regulation downstream target genes drives progression premalignant PanIN invasive PDAC',\n",
              " 'Furthermore Nra haploinsufficiency cooperates pancreatitis mouse model driven oncogenic KRAS increasing number preneoplastic PanIN Pancreatic Intraepithelial Neoplasia lesions driving progression toward PDAC',\n",
              " 'Oncogenic K-Ras mt activation key event PDAC initiation development subject complex regulatory mechanisms',\n",
              " 'Reagents inhibit inflammation Cox inhibitor celecoxib block feed-forward loop prevent induction PDAC models endogenous oncogenic K-Ras mt',\n",
              " 'This due extreme clinical relevance Ras family small GTPases H-Ras K-Ras N-Ras commonly mutated oncogenes human cancer present human tumors K-Ras mutated 9 pancreatic cancer',\n",
              " 'Inflammatory insults less severe supraphysiological caerulein treatments typically employed induce pancreatitis mouse models also able increase activity endogenous levels oncogenic K-Ras lead transformation PDAC',\n",
              " 'Nonetheless new model role oncogenic K-Ras pancreatic cancer initiation help understanding disease beginnings provide new ideas ways prevent treat PDAC',\n",
              " 'Nonetheless new model role oncogenic K-Ras pancreatic cancer initiation help understanding disease beginnings provide new ideas ways prevent treat PDAC',\n",
              " 'The nearest gene follistatin-like isoform FSTL putative tumor suppressor gene infrequently mutated pancreatic cancer',\n",
              " 'MKK mRNA expressionin non-small cell lung cancer NSCLC make genes interesting candidates tumor suppressors NSCLC',\n",
              " 'confirmed MnSOD overexpression could inhibit cell growth human pancreatic carcinoma tumor suppressor pancreatic cancer',\n",
              " 'Altogether human PDAC MnSOD considered tumor suppressor whereas miR-a could considered oncogene',\n",
              " 'The miRNA also overexpressed serum samples humans transgenic KPC mice mouse model PDAC expresses oncogenic KRAS mutant p pancreatic cells',\n",
              " 'The miRNA also overexpressed serum samples humans transgenic KPC mice mouse model PDAC expresses oncogenic KRAS mutant p pancreatic cells',\n",
              " 'non-small cell lung cancer NSCLC cell line harboring Kirsten rat sarcoma viral oncogene homolog KRAS activation mutation NSCLC cell line harboring epidermal growth factor receptor EGFR activation deletion',\n",
              " 'miR-a considered tumor suppressor various cancers including gastric non-small cell lung colorectal cancer liver cancer pancreatic cancer breast cancer osteosarcoma',\n",
              " 'The miR -- 9 cluster markedly increased lung cancer especially aggressive form small-cell lung cancer implicated enhancing lung cancer cell growth targeting two tumor suppressor genes PTEN RBmiR-9 component miR -- 9 cluster activates AktmTOR pathway thereby functionally antagonizing PTEN promote cell survival metabolism',\n",
              " 'The miR -- 9 cluster markedly increased lung cancer especially aggressive form small-cell lung cancer implicated enhancing lung cancer cell growth targeting two tumor suppressor genes PTEN RBmiR-9 component miR -- 9 cluster activates AktmTOR pathway thereby functionally antagonizing PTEN promote cell survival metabolism',\n",
              " 'The miR -- 9 cluster markedly increased lung cancer especially aggressive form small-cell lung cancer implicated enhancing lung cancer cell growth targeting two tumor suppressor genes PTEN RBmiR-9 component miR -- 9 cluster activates AktmTOR pathway thereby functionally antagonizing PTEN promote cell survival metabolism',\n",
              " 'These results indicated CT may key regulator lung carcinogenesis contributing activation oncogenic pathways human lung cancer',\n",
              " 'Notably EGFR Kirsten rat sarcoma viral oncogene homolog KRAS ALK mutation status guide drug therapy selection provide treatment options patients harbor mutations typically nonsquamous NSCLC patients squamous cell disease larger tumors positive lymph nodes express PD-L may improved survival compared PD-L-deficient counterparts',\n",
              " 'Therapeutic strategies traditionally implemented based molecular characterization malignant cells genomic genetic epigenetic alterations chromosomal instability CIN tumor suppressor gene inactivationoncogene activation microsatellite instability MSIIn colon cancer led establishment clinical implementation biomarkers drug sensitivity status KRas used select patients anti-EGFR therapy',\n",
              " 'As indicated earlier cell cycle blocked G G phase suggesting Smad acts tumor suppressor thereby facilitating LSCC carcinogenesis progression',\n",
              " 'In addition using EGFR-driven lung cancer mouse model showed EGFR-driven lung cancer progression requires MALT-dependent NF-B signaling transactivates STAT IL- signaling',\n",
              " 'tetO-EGFR LR CCSP-rtTA Malt mutant EGFR-driven lung cancer developed presence absence MALT expression Figure',\n",
              " 'MALT controls NF-B STAT activation EGFR-driven lung cancer model',\n",
              " 'The prevalent mutated rearranged oncogenes identified NSCLC KRAS epidermal growth factor receptor EGFR ALK',\n",
              " 'The oncogenic receptor tyrosine kinase EGFR amplified many solid tumors constitutive active mutations tyrosine kinase domain driver mutations non-small cell lung carcinomas NSCLCs occur non-smokers',\n",
              " 'Thus Beclin acts suppressor tumor initiation least setting NSCLC driven active EGFR mutation also prevent progression established tumors help mediate chemotherapeutic responses',\n",
              " 'Thus Beclin acts suppressor tumor initiation least setting NSCLC driven active EGFR mutation also prevent progression established tumors help mediate chemotherapeutic responses',\n",
              " 'The tumor suppressor gene SMAD inactivated human PDACLoss SMAD shown promote progression K-ras GD -initiated PDAC crossed LSL-K-ras GD Pdx-Cre mice',\n",
              " 'One differentially methylated genes small cell lung cancer comparison normal lung also strongly correlated gene expression oncogene BCL Fig',\n",
              " 'This tumor suppressive function Numb proven many cancers breast cancer non-small cell lung cancer pancreatic cancer salivary gland carcinomas',\n",
              " 'These data supported fact Numb act tumor suppressor consistent conclusion Numb acts tumor suppressor presented literatures cancers like breast cancer pancreatic cancer lung cancer',\n",
              " 'These data supported fact Numb act tumor suppressor consistent conclusion Numb acts tumor suppressor presented literatures cancers like breast cancer pancreatic cancer lung cancer',\n",
              " 'As murine disease SPARC seems tumor suppressor PDAC cells SPARC overexpression related poor prognosis assumed oncogenic functions stromal cells prevailing PDAC',\n",
              " 'These studies included theT breast cancer transplant model well two spontaneous cancermodels lung colon cancer Krasp driven lung cancer model APC min colorectal adenoma model',\n",
              " 'Inhibition SIRT breast colon cancer cells resulted reactivationof silenced tumor suppressor genes',\n",
              " 'The mutant K-RAS oncogene MiaPaCa- cells disrupted applied homologous recombination using targeted vector pBKNT-D generously provided Senji Shirasawa Takehiko Sasazuki Research Institute International Medical Center Japan Tokyo JapanThe RAS sequence inserted targeted pBKNT-D vector obtained human lung carcinoma cell line',\n",
              " 'Characterization MiaPaCa- pancreatic cancer cells disrupted mutant K-RAS oncogene',\n",
              " 'We tested consequences mutant K-RAS oncogene disruption vivo using two mouse pancreatic cancer models xenograft model used evaluate tumorigenic potential MiaPaca- clones orthotopic model utilized evaluate metastatic potential M- clone',\n",
              " 'Smad established tumor suppressor pancreatic colon cancer however consequences Smad loss lung cancer largely unknown',\n",
              " 'Smad established tumor suppressor pancreatic colon cancer however consequences Smad loss lung cancer largely unknown',\n",
              " 'Because unknown whether Smad functions lung tumor suppressor created several novel NSCLC mouse models directly evaluate role Smad loss lung tumorigenesis',\n",
              " 'Finally shown APC adenomatous polyposis coli dominant tumor suppressor protein colon cancer uses NES signals coordinate nuclear export oncogene product -catenin proteasomal degradation cytoplasm',\n",
              " 'Cell assays quantitatedby cytofluorometry following probe incubation C min cells using Chinese hamster ovary parental line Pro - human SW colon adenocarcinoma Capan-pancreas adenocarcinoma lines latter reconstituted expressionof tumor suppressor p INKa described previously',\n",
              " 'A recent study pancreatic cancer transcriptome suggests HNFA may act tumor suppressor pancreatic cancers',\n",
              " 'Applying rationale genome-wide copy number DNA methylation gene expression profiles large panel NSCLC tumor clinical specimens patient-matched non-malignant parenchymal tissues discovered novel putative lung cancer tumor suppressor gene Eyes Absent EYA',\n",
              " 'Our findings suggest dual-role EYA carcinogenesis likely dependent cancer cell type origin strongly supportive tumor suppressor role lung cancer',\n",
              " 'EYA exhibits functional characteristics lung cancer tumor suppressor gene',\n",
              " 'The Genetic Epidemiology Lung Cancer Consortium GELCC identified susceptibility locus q contains overexpressed candidate oncogene RGS',\n",
              " 'In summary prevalence bi-allelic inactivation EYA NSCLC multiple tumor suppressor functions association survival sporadic lung cancers familial lung cancer risk suggest EYA important NSCLC development may promising marker early lung cancer detection',\n",
              " 'In summary prevalence bi-allelic inactivation EYA NSCLC multiple tumor suppressor functions association survival sporadic lung cancers familial lung cancer risk suggest EYA important NSCLC development may promising marker early lung cancer detection',\n",
              " 'In summary prevalence bi-allelic inactivation EYA NSCLC multiple tumor suppressor functions association survival sporadic lung cancers familial lung cancer risk suggest EYA important NSCLC development may promising marker early lung cancer detection',\n",
              " 'In summary prevalence bi-allelic inactivation EYA NSCLC multiple tumor suppressor functions association survival sporadic lung cancers familial lung cancer risk suggest EYA important NSCLC development may promising marker early lung cancer detection',\n",
              " 'In summary prevalence bi-allelic inactivation EYA NSCLC multiple tumor suppressor functions association survival sporadic lung cancers familial lung cancer risk suggest EYA important NSCLC development may promising marker early lung cancer detection',\n",
              " 'However remarkably little known potential involvement MUC specifically oncogenic MUC-C subunit colon cancer cells',\n",
              " 'In addition physiological functions GS also associated tumor suppression head neck cancers squamous lung cancer acute myeloid leukemia',\n",
              " 'TP TSHR B MSI Colon Adenocarcinoma Cases n9 Driver gene Normal n9',\n",
              " 'GOLPH located p demonstrated novel oncogene many cancer types colorectal cancer gastric cancer OC breast cancer colon cancer prostate cancer esophageal cancer',\n",
              " 'Although Tpl originally identified proto-oncoprotein examined whether p stabilization Tpl protein accounts lung tumor suppressive function NF-B recent studies demonstrate STAT well-known tumor promoter often referred oncoprotein actually suppresses lung cancer initiation specifically knocked lung epithelial cells',\n",
              " 'In fact tumor suppressive role Tpl suggested colon cancer T-cell lymphoma models',\n",
              " 'It seems intrinsic pTpl signaling within lung cancer cells activates mitogen-activated protein kinase kinase MKK activate c-Jun N-terminal kinase JNK turn induces activation tumor suppressor p resulting proliferation inhibition apoptosis induction cancer cells',\n",
              " 'It seems intrinsic pTpl signaling within lung cancer cells activates mitogen-activated protein kinase kinase MKK activate c-Jun N-terminal kinase JNK turn induces activation tumor suppressor p resulting proliferation inhibition apoptosis induction cancer cells',\n",
              " 'In addition Kim et al showed IKBKE functions downstream effector Ras oncogene NSCLC cells mediates Ras-based activation NF-B Ras-based tumorigenic activity',\n",
              " 'Clinical NSCLC specimens reported mutations multiple oncogenes tumor suppressors including EGFR K-RAS p',\n",
              " 'Clinical NSCLC specimens reported mutations multiple oncogenes tumor suppressors including EGFR K-RAS p',\n",
              " 'Therefore evaluated role neutrophil autophagy promoting NET formation orthotopically injected Kras driven genetically engineered models pancreatic adenocarcinoma investigated RAGE key mediator driving NET formation',\n",
              " 'When considering RAGE ligands drive NET development likely HMGB primary stimulant NET formation pancreatic cancer',\n",
              " 'Their results showed miR- expression reduced anti-BPDE induced lung cancer miR- could inhibit expression N-Ras oncogene',\n",
              " 'In pancreatic tumors Brg also acts tumor suppressor',\n",
              " 'SMAD originallydiscovered tumor suppressor pancreatic cancer 99 Hahn et al found behomozygously deleted pancreatic tumors',\n",
              " 'Distinct subtypes NSCLC driven specific genetic alteration like EGFR ALK ROS BRAF mutations genetic alterations sensitized inhibition specific oncogenic pathways',\n",
              " 'Distinct subtypes NSCLC driven specific genetic alteration like EGFR ALK ROS BRAF mutations genetic alterations sensitized inhibition specific oncogenic pathways',\n",
              " 'Distinct subtypes NSCLC driven specific genetic alteration like EGFR ALK ROS BRAF mutations genetic alterations sensitized inhibition specific oncogenic pathways',\n",
              " 'Distinct subtypes NSCLC driven specific genetic alteration like EGFR ALK ROS BRAF mutations genetic alterations sensitized inhibition specific oncogenic pathways',\n",
              " 'Prospective trials restricted EGFR ALK driven NSCLC subsets potentially offering opportunity definitive answer early disease adjuvant setting ALCHEMIST induction treatment stage III chemo-radiotherapy RTOG Alliance ongoing',\n",
              " 'Distinct subtypes NSCLC driven specific genetic alteration like EGFR ALK ROS BRAF mutations thus sensitive inhibition corresponding activated oncogenic pathway',\n",
              " 'Distinct subtypes NSCLC driven specific genetic alteration like EGFR ALK ROS BRAF mutations thus sensitive inhibition corresponding activated oncogenic pathway',\n",
              " 'Distinct subtypes NSCLC driven specific genetic alteration like EGFR ALK ROS BRAF mutations thus sensitive inhibition corresponding activated oncogenic pathway',\n",
              " 'Distinct subtypes NSCLC driven specific genetic alteration like EGFR ALK ROS BRAF mutations thus sensitive inhibition corresponding activated oncogenic pathway',\n",
              " 'Distinct subtypes NSCLC driven specific genetic alteration like EGFR ALK ROS BRAF mutations thus sensitive inhibition corresponding activated oncogenic pathway',\n",
              " 'It worth noting silencing K-Ras oncogene significantly inhibit proliferation Panc- cells useful gene therapy approach treating pancreatic adenocarcinoma',\n",
              " 'The reduction let- miR- expression particularly relevant NSCLC oncogenic phenotype miRNAs target key oncogenes involved multiple stages tumorigenic process maintenance oncogene addiction RAS BCL MET MYC',\n",
              " 'Cx acts tumour suppressor non-small cell lung cancer NSCLC cell lines inhibition cell proliferation metastasis',\n",
              " 'Very recently thrombospondin- defined critical effector inhibitory role SSTR neoangiogenesis oncogenesis induced pancreatic cancer cells',\n",
              " 'Here demonstrate transcriptional regulators lipogenesis ChREBP SREBP dramatically down-regulated A9 adenocarcinoma NSCLC cells TGF-induced EMT mechanism driven increased SNAIL expression',\n",
              " 'While STAT required maximal proliferationprogression lung cancer cells lung epithelial STAT inhibited pulmonary injury inflammation oncogenic stress suppressing lung cancer initiation',\n",
              " 'Taken together data suggested lung epithelial STAT prevents urethane-induced K-Ras oncogenic mutations lung cancer initiation maintaining pulmonary homeostasis urethane-induced injury',\n",
              " 'It seems lung damage inflammation K-Ras oncogenic activation enhance function extrinsic intrinsic forces drive lung cancer initiation progression',\n",
              " 'STAT deletion increases K-Ras-driven lung tumorigenesis decreases K-Ras-driven lung cancer growth',\n",
              " 'Trim promotes oncogenic Ras-mediated lung adenocarcinoma',\n",
              " 'Taken together data demonstrate Trim cooperates oncogenic Ras lung adenocarcinoma formation',\n",
              " 'The wild type WT allele Kras shown act tumour suppressor mouse models NSCLC',\n",
              " 'Although regulation contributes explain least part oncogenic properties CBX prostate cancer follicular lymphomas role CBX cancer context-dependent behave tumor suppressor lung pancreatic cancer',\n",
              " 'Although regulation contributes explain least part oncogenic properties CBX prostate cancer follicular lymphomas role CBX cancer context-dependent behave tumor suppressor lung pancreatic cancer',\n",
              " 'It also localized plasma membrane along caveolin- cavin-Cavin- first identified substrate PKC delta located tumor suppressor region chromosome p lost breast prostate pancreatic cancer cells',\n",
              " 'Nonsmall cell lungcancers NSCLC harboring mutations tyrosinekinase domain epidermal growth factor receptor EGFR well-studiedexamples oncogene addiction',\n",
              " 'Accordingly observed Ubc upregulation bone-marrow derived macrophages treated peptide-based STAT inhibitor well Uben induction lung myeloid cell infiltrates upon delivery IL- blocking antibodies mutant K-ras lung cancer model vivo treatment positive correlation tumor suppression unpublished work',\n",
              " 'Moreover ret proto-oncogene RET common receptor members product oncogene c-RET expressed pancreatic cancer cell lines',\n",
              " 'Genomic analyses LUAD revealed mutations many known oncogenes tumor suppressor genes including KRAS EGFR TP CDKNA STK',\n",
              " 'Genomic analyses LUAD revealed mutations many known oncogenes tumor suppressor genes including KRAS EGFR TP CDKNA STK',\n",
              " 'Genomic analyses LUAD revealed mutations many known oncogenes tumor suppressor genes including KRAS EGFR TP CDKNA STK',\n",
              " 'Recently significant percent driver unknown lung cancer samples shown harbor fusions involving ALK ROS RET kinases activating exon skipping c-MET oncogene',\n",
              " 'Recently significant percent driver unknown lung cancer samples shown harbor fusions involving ALK ROS RET kinases activating exon skipping c-MET oncogene',\n",
              " 'Recently significant percent driver unknown lung cancer samples shown harbor fusions involving ALK ROS RET kinases activating exon skipping c-MET oncogene',\n",
              " 'Recently significant percent driver unknown lung cancer samples shown harbor fusions involving ALK ROS RET kinases activating exon skipping c-MET oncogene',\n",
              " 'Altogether NRG perturbed NRG fusions andor outlier expression 9 driver unknown samples supporting causal role NRG lung cancer patient subpopulation',\n",
              " 'The tumor suppressor STK frequently inactivated lung cancer Fig associated YAP activation',\n",
              " 'Tumor suppressor gene p frequently mutated deleted pancreatic cancer',\n",
              " 'Coupled reduced expression DAB lung cancers speculated aberrant over-expression miR-9 contributes repressed expression DAB DAB important target mediates oncogenic function miR-9 lung cancer',\n",
              " 'Coupled reduced expression DAB lung cancers speculated aberrant over-expression miR-9 contributes repressed expression DAB DAB important target mediates oncogenic function miR-9 lung cancer',\n",
              " 'Molecular pathways leading down-regulation DAB expression potentially important oncogenic mechanisms lung cancer development',\n",
              " 'We next utilized system study adenomatous polyposis coli Apc tumor suppressor whose functional role lung adenocarcinoma characterized',\n",
              " 'MTH expression upregulated oncogenic KRAS correlatespositively high KRAS levels NSCLC human tumors',\n",
              " 'Thus workdescribes first piece evidence implicating MTH novel facilitator ofKRAS-driven malignancy NSCLC',\n",
              " 'In order determine whether MTH loss functional consequences forthe malignancy KRAS-driven NSCLC cells stably knocked MTHexpression 9 using validated lentiviral MTH shRNA',\n",
              " 'Accordingly overall effect ofsuppressing MTH KRAS-driven NSCLC cells either induction senescentarrest selection slower-proliferating subpopulations reducedpro-malignant molecular traits',\n",
              " 'Thus believe findings presented herein provide valuable context fortargeting MTH KRAS-driven NSCLC potentially KRAS-driven tumors',\n",
              " 'Studies mouse models bladder colon cancer showed administration MG9 led re-expression tumor suppressor gene p',\n",
              " 'To investigate molecular mechanisms tumor suppression RHOA intestine used four isogenic colon cancer cell line systems RHOA inactivated overexpression dominant negative mutant RHOA T9N RHOA-specific shRNAs Supplementary Fig',\n",
              " 'Moreover - attenuates growthfactor mediated Erk Akt activation exhibits excellent antiproliferativeactivity nonsmall cell lung cancer cell line H9 ErbB positivebreast cancer cell line SKBR oncogenic KITDV expressing Dmyeloid cells primary low-density bone marrow cells',\n",
              " 'Thus far covalent inhibitors developed several protein kinases including oncogenic drug targets like epidermal growth factor receptor EGFR Brutons tyrosine kinase BTK corresponding irreversible inhibitors afatinib BIBW-99 ibrutinib PCI- recently approved treat non-small cell lung cancer chronic lymphocytic leukemia CLL respectively',\n",
              " 'Genetic alterations human cancers murine models indicate Rb p critical tumor suppressive functions retinoblastoma tumor neural origin neuroendocrine tumors including small cell lung cancer medullary thyroid cancer MTC',\n",
              " 'Compared Caucasian patients NSCLC East Asian patients much higher prevalence epidermal growth factor receptor EGFR mutation approximately vs predominantly among patients adenocarcinoma never-smokers lower prevalence Kirsten rat sarcoma viral oncogene KRAS mutation less vs predominantly among patients adenocarcinoma smokers higher proportion patients responsive EGFR tyrosine kinase inhibitors',\n",
              " 'Other molecular abnormalities NSCLC found oncogenes MYC BRAF tumor suppressor genes RB TP',\n",
              " 'Other molecular abnormalities NSCLC found oncogenes MYC BRAF tumor suppressor genes RB TP',\n",
              " 'Other molecular abnormalities NSCLC found oncogenes MYC BRAF tumor suppressor genes RB TP',\n",
              " 'Other molecular abnormalities NSCLC found oncogenes MYC BRAF tumor suppressor genes RB TP',\n",
              " 'SMYD loss inhibits development Ras-driven lung adenocarcinoma',\n",
              " 'Recent advances molecular biology identified driver oncogenes epidermal growth factor receptor EGFR mutations echinoderm microtubule-associated protein-like anaplastic lymphoma kinase ALK fusion gene non-small-cell lung cancer NSCLC',\n",
              " 'Consistent role menin bona fide tumor suppressor neuroendocrine tissues somatic MEN mutations frequently found sporadic pancreatic tumors parathyroid tumors also pituitary tumors',\n",
              " 'Genes significantly tumors include Ros proto-oncogene Supplementary Figure Clecn previously implicated Kras transcriptomics lung cancer',\n",
              " 'Moreover NF-B activity essential KRas-driven lung pancreatic cancer progression occur p-deficient background',\n",
              " 'This effect TKOs ROS limited specific oncogenes also found cancers oncogenic forms receptor tyrosine kinase MET lung cancer normal cells response chronic stimulation growth factors',\n",
              " 'In NSCLC PCR-based assays used detect recurrent point mutations genes KRAS kirsten rat sarcoma viral oncogene homolog EGFR epidermal growth factor receptor plasma DNA majority patients lack mutations genes',\n",
              " 'Finally determined KIFC KIFA upregulated laboratory-generated system K-Ras oncogenic transformation many cancer lines isolated lung cancer patients',\n",
              " 'Gene protein expressions murine model v-Ki-ras Kirsten rat sarcoma viral oncogene homolog Kras-mutant lung cancer studied gain insight biology tumors',\n",
              " 'Recently overexpression LRF described different types human cancers various origins non-small cell lung cancer NSCL breast cancer ovarian cancer reinforcing role LRF important proto-oncogene multiple tissues',\n",
              " 'Major driver mutations PDAC include mutated Kras 99 incidence p Smad p overexpression multiple tyrosine kinase receptors ligands overexpression TGF-s',\n",
              " 'Thus oncogenes tumor suppressor genes shown altered ASC-including K-RAS p -these genes also abnormal forms pancreatic cancer',\n",
              " 'D Tumor suppressor p effector Puma involved incells bearing wild-type p A9 NSCLC cell line',\n",
              " 'DNAJA expression also suppresses phosphorylation-mediatedactivation oncogenic transcription factor c-Jun isoften overexpressed hyperphosphorylated cancer essential role pancreatic cancer',\n",
              " 'Mapping oxidative DNA lesions along criticalregions p tumor suppressor gene probingtheir association p mutational hotspotsmay provide insight origin mutational hotspots observedin smoking-induced lung cancer',\n",
              " 'Mouse models express Kras oncogene pancreas recapitulate many epithelial phenotypes associated human PDAC development',\n",
              " 'Kras one protooncogene mutated lead pancreatic cancer',\n",
              " 'In Kras-driven mouse model loss various tumor suppressor genes led earlier frequent development pancreatic cancer precancerous lesions mice still arise immediately',\n",
              " 'Further Pdk inactivation effectively attenuated development Kras oncogene-driven pancreatic cancer NSCLC supporting importance PDK tumor development albeit select cancer types',\n",
              " 'Further Pdk inactivation effectively attenuated development Kras oncogene-driven pancreatic cancer NSCLC supporting importance PDK tumor development albeit select cancer types',\n",
              " 'The findings eIFi over-expressed human colon cancer tissues drives colon oncogenesis along previous findings eIFi over-expression head neck cancer breast cancer hepatocellular carcinoma neuroblastoma melanoma suggest eIFi over-expression may oncogenic factor',\n",
              " 'Considering - colon cancers K-Ras mutation finding eIFi may K-Ras control contribute colon oncogenesis regulating translation downstream target genes important may significant impact future studies colon cancer',\n",
              " 'Research also demonstrated re-expression tumor suppressor gene p subcutaneous nude mouse model inhibits pancreatic tumor growth siRNA',\n",
              " 'Overexpression increased activity many oncogenes including Myc K-ras EGFR cyclin D Bcl implicated pathogenesis lung cancer well abnormal expression impaired function tumour suppressor genes including p p Rb FHIT RASSFA SEMAB PTEN',\n",
              " 'Overexpression increased activity many oncogenes including Myc K-ras EGFR cyclin D Bcl implicated pathogenesis lung cancer well abnormal expression impaired function tumour suppressor genes including p p Rb FHIT RASSFA SEMAB PTEN',\n",
              " 'Overexpression increased activity many oncogenes including Myc K-ras EGFR cyclin D Bcl implicated pathogenesis lung cancer well abnormal expression impaired function tumour suppressor genes including p p Rb FHIT RASSFA SEMAB PTEN',\n",
              " 'Overexpression increased activity many oncogenes including Myc K-ras EGFR cyclin D Bcl implicated pathogenesis lung cancer well abnormal expression impaired function tumour suppressor genes including p p Rb FHIT RASSFA SEMAB PTEN',\n",
              " 'Overexpression increased activity many oncogenes including Myc K-ras EGFR cyclin D Bcl implicated pathogenesis lung cancer well abnormal expression impaired function tumour suppressor genes including p p Rb FHIT RASSFA SEMAB PTEN',\n",
              " 'Overexpression increased activity many oncogenes including Myc K-ras EGFR cyclin D Bcl implicated pathogenesis lung cancer well abnormal expression impaired function tumour suppressor genes including p p Rb FHIT RASSFA SEMAB PTEN',\n",
              " 'Fragile histidine triad FHIT gene candidate tumour suppressor gene chromosome p plays important albeit controversial role pathogenesis lung cancer',\n",
              " 'On contrary pleural fluid DNA NSCLC patients five tumour suppressor genes RASSFA MGMT p DAPK RAR failed show association clinical outcome',\n",
              " 'On contrary pleural fluid DNA NSCLC patients five tumour suppressor genes RASSFA MGMT p DAPK RAR failed show association clinical outcome',\n",
              " 'On contrary pleural fluid DNA NSCLC patients five tumour suppressor genes RASSFA MGMT p DAPK RAR failed show association clinical outcome',\n",
              " 'Similarly lung cancer cells expressing tumour suppressor cytokine MDA- exhibited increased expression PTEN suppressed functioning proto-oncogenes ILK',\n",
              " 'It importance Urban et al human lung carcinoma cells identifieda functional link p tumour suppressor protein dexamethasone-induced growth suppression',\n",
              " 'Oncogenic drug sensitive NTRK rearrangements lung cancer',\n",
              " 'Discovery validation oncogenic NTRK gene fusions lung cancer samples',\n",
              " 'Falvella et al found BHLHB transcript levels low three human lung cancer cell lines down-regulated human lung adenocarcinomas compared normal lung tissue suggesting potential role BHLHB protein tumor suppressor lung cancer',\n",
              " 'Falvella et al found BHLHB transcript levels low three human lung cancer cell lines down-regulated human lung adenocarcinomas compared normal lung tissue suggesting potential role BHLHB protein tumor suppressor lung cancer',\n",
              " 'EGFR also identified cellular proto-oncogene close sequence homology viral oncogene v-erb-B expressed variety solid tumours including lung cancer',\n",
              " 'EGFR also identified cellular proto-oncogene close sequence homology viral oncogene v-erb-B expressed variety solid tumours including lung cancer',\n",
              " 'Importantly confirmed partial depletion Tbx opposed suppression E-cadherin expression oncogenic B-RAF melanocytes important implications melanoma cancers including ovarian carcinoma pancreatic cancer breast cancer cervical cancer overexpress Tbx reviewed',\n",
              " 'EGFR KRAS proved lung cancer oncogenes years',\n",
              " 'EGFR KRAS proved lung cancer oncogenes years',\n",
              " 'EGFR KRAS proved lung cancer oncogenes years',\n",
              " 'Examples include insertions L APC tumor suppressor gene human colon cancer c- myc proto-oncogene human breast carcinoma implicating insertions primary events cancer initiation progression',\n",
              " 'Oncogenic K-Ras-expressing pancreatic cancer cells display elevated levels macropinocytosis culture vivo',\n",
              " 'For instance V-Ki-ras Kirsten rat sarcoma viral oncogene homolog KRAS mutation detected pulmonary adenocarcinoma activating epidermal growth factor EGF receptor mutation excluded sequencing unnecessary',\n",
              " 'Seventy-five percent pancreatic cancers carry p mutations making gene one mutated tumor suppressor genes pancreatic cancer',\n",
              " 'The role KRAS pancreatic cancer supported development mouse models carrying KrasGD mutation without inactivation tumor suppressor gene p',\n",
              " 'The role KRAS pancreatic cancer supported development mouse models carrying KrasGD mutation without inactivation tumor suppressor gene p',\n",
              " 'To end DMBT proposed putative tumour suppressor gene variety cancers like brain gastrointestinal breast lung cancer albeit role might complex',\n",
              " 'PDAC well PAC might arise PanIN lesions according observation moesin might potential factor driving process anaplastic tumours',\n",
              " 'PDAC well PAC might arise PanIN lesions according observation moesin might potential factor driving process anaplastic tumours',\n",
              " 'HGFc-Met considered one candidates responsible development EGFR inhibitor resistance therapy NSCLC since family oncogenes regulate important cellular processes',\n",
              " 'TFPI- tumour suppressor gene often downregulated particularly aggressive tumours gliomas melanomas hepatocellular carcinomas non-small cell lung cancer',\n",
              " 'KRAS old oncogene lung cancer first described tumors 9 recent years witnessed revamped interest role KRAS lung adenocarcinoma rapid advances molecularly-targeted therapies',\n",
              " 'For instance oncogene K-Ras stimulates NADPH production pancreatic cancer cells enhancing flux malic enzyme cytoplasmic isoform NADPH-generating malic enzymes',\n",
              " 'Recent work established SIK kinases candidate oncogenes ovarian lung cancer',\n",
              " 'Most notable examples include V-Ki-ras Kirsten rat sarcoma viral oncogene homolog KRAS mutation colorectal cancer predicts resistance drugs target epidermal growth factor receptor EGFR EGFR-tyrosine kinase TK mutations non-small cell lung cancer NSCLC predict response EGFR-TK targeting agents gefitinib',\n",
              " 'Recent studies support possibility others tumor STGal I - sialylconjugates play important roles oncogenic transformation metastasis hepatocellular carcinoma A9 lung cancer cell line',\n",
              " 'Because low intrinsic GTPase activity Rap relies GTP hydrolysis GAPs RapGAP identified putative tumor suppressor deficient pancreatic carcinoma',\n",
              " 'Sos-mediated cross activation WT Ras oncogenic K-Ras contributes pancreatic cancer cell signaling',\n",
              " 'Sos-mediated cross activation WT Ras oncogenic K-Ras contributes pancreatic cancer cell signaling',\n",
              " 'RTKs play important role lung cancer oncogenesis especially SCLC including c-Met',\n",
              " 'RTKs play important role lung cancer oncogenesis especially SCLC including c-Met',\n",
              " 'ERBB proto-oncogenes associated lung cancer multiple types human tumors respectively',\n",
              " 'In PDAC recently demonstrated oncogenic Kras enhances flux glycolytic intermediates specifically non-oxidative arm pentose phosphate pathway PPP DNARNA biosynthesis without effecting NADPH-producing oxidative arm',\n",
              " 'Black Raspberry-Derived Anthocyanins Demethylate Tumor Suppressor Genes Through Inhibition DNMT DNMTB Colon Cancer Cells',\n",
              " 'When DNMT DNMTB knocked colon cancer cell lines methylation tumor suppressor genes CDKNA almost entirely eliminated genes reexpressed',\n",
              " 'When DNMT DNMTB knocked colon cancer cell lines methylation tumor suppressor genes CDKNA almost entirely eliminated genes reexpressed',\n",
              " 'Zhang et al profiled salivary lung cancer transcriptome discovered pre-validated panel seven highly discriminatory mRNAs BRAF encodes protein B-Raf involved directing cell growth CCNI encodes protein cyclin-I binds activated cyclin-dependant kinase EGFR epidermal growth factor receptor FGF9 fibroblast growth factor 9 involved many biological processes including morphogenesis cell growth tumor growth invasion FRS fibroblast growth factor receptor substrate adapter protein links fibroblast growth factor nerve growth factor receptors downstream signaling pathways GREB growth regulation estrogen breast cancer early response gene estrogen receptor pathway LZTS leucine zipper putative tumor suppressor putative tumor suppressor gene',\n",
              " 'Zhang et al profiled salivary lung cancer transcriptome discovered pre-validated panel seven highly discriminatory mRNAs BRAF encodes protein B-Raf involved directing cell growth CCNI encodes protein cyclin-I binds activated cyclin-dependant kinase EGFR epidermal growth factor receptor FGF9 fibroblast growth factor 9 involved many biological processes including morphogenesis cell growth tumor growth invasion FRS fibroblast growth factor receptor substrate adapter protein links fibroblast growth factor nerve growth factor receptors downstream signaling pathways GREB growth regulation estrogen breast cancer early response gene estrogen receptor pathway LZTS leucine zipper putative tumor suppressor putative tumor suppressor gene',\n",
              " 'In advanced pancreatic cancer activating mutation tumor suppressor gene KRAS may lead aberrant activated-cell proliferation pathways including PIKAktmTOR signaling',\n",
              " 'Progress understanding cancer biology mechanisms oncogenesis allowed development treatment specific molecular targets epidermal growth factor receptor EGFR vascular endothelial growth factor VEGF special interest NSCLC',\n",
              " 'In addition symplekin transcription cofactor colon tumor promoter increases claudin- expression colon cancer cells matriptase putative colon tumor suppressor decreases claudin- expression',\n",
              " 'The main driver mutations lung cancer seen several genes including epidermal growth factor receptor EGFR K-RAS MEK',\n",
              " 'The mechanisms controlling expression putative oncogene AGR pancreatic ductal adenocarcinoma PDAC well understood',\n",
              " 'It proposed loss Smad may convert TGF- tumor suppressor tumor promoter causing up-regulation AGR leads increased MUC expression point AGR MUC facilitate mPanIN initiation progression PDAC',\n",
              " 'PDAC characterized multiple molecular alterations include mutations K-ras oncogene p p SMAD tumor suppressor genes occurring conjunction overexpression tyrosine kinase receptors transforming growth factor- TGF- isoforms',\n",
              " 'PDAC characterized multiple molecular alterations include mutations K-ras oncogene p p SMAD tumor suppressor genes occurring conjunction overexpression tyrosine kinase receptors transforming growth factor- TGF- isoforms',\n",
              " 'For example Tandon et al indicated RUNX potential therapeutic target block tumor suppressor gene silencing lung cancer cells',\n",
              " 'Weiss et al reported miRNA-b directly regulates epidermal growth factor receptor EGFR EGFR mutation known correlate oncogenesis lung cancer',\n",
              " 'Metastatic breast cancer tumours overexpressing HER protein Amplification Her- neu gene Gleevec Novartis May Chronic myeloid leukaemia Chromosomal translocation resulting fusion BRC oncogene Abl resulting activated oncogene Iressa AstraZeneca May Advanced metastatic non-small-cell lung cancer Activating mutations EGFR',\n",
              " 'These observations supported genetically engineered mouse models PanINPDAC progression initiated single point mutations Kras gene modified additional genetic alterations oncogenes tumor suppressors',\n",
              " 'Recent studies examining pancreatic cancer mouse models shown Kras oncogene expression adult acinar cells leads PDAC fully mimics human disease',\n",
              " 'Crizotinib rapid translation far EML-ALK fusion identified oncogene NSCLC August dual Met proto-oncogeneanaplastic lymphoma kinase METALK inhibitor crizotinib clinical trials anaplastic large-cell lymphoma MET inhibitor repositioned NSCLC based ALK-inhibiting property approved NSCLC treatment within years',\n",
              " 'Specific oncogenic drivers elucidated several rare cancer subtypes aid interpretation heterogeneity including Philadelphia chromosome 9 cases CML leukemias EML-ALK fusion driving NSCLC RET proto-oncogene familial medullary thyroid cancers less thyroid cancers',\n",
              " 'Proto-oncogenes tumor suppressor genes EGFR k-Ras c-Myc p DOK implicated pathogenesis NSCLC',\n",
              " 'Proto-oncogenes tumor suppressor genes EGFR k-Ras c-Myc p DOK implicated pathogenesis NSCLC',\n",
              " 'However unexpectedly found RET methylated colon adenomas colorectal cancers provide evidence RET tumor suppressor activity colon cancer',\n",
              " 'The role RET tumor suppressor gene colon supported recent discovery hypermethylated cancer also discovery RET candidate cancer gene CAN gene colon cancer genome',\n",
              " 'The role RET tumor suppressor gene colon supported recent discovery hypermethylated cancer also discovery RET candidate cancer gene CAN gene colon cancer genome',\n",
              " 'In summary identified RET novel tumor suppressor gene colon provided evidence induce apoptosis suppress anchorage independent growth colon cancer cells expressed absence GDNF',\n",
              " 'Conclusion KRAS oncogene substitution must accurately determined primary lung adenocarcinoma correlation tumour behaviour clinico-pathological parameters',\n",
              " 'mutations amplifications rearrangements within EGFR KRAS ALK oncogenes associated NSCLC allows choosing patients benefit biological therapy tyrosin kinase inhibitors',\n",
              " 'mutations amplifications rearrangements within EGFR KRAS ALK oncogenes associated NSCLC allows choosing patients benefit biological therapy tyrosin kinase inhibitors',\n",
              " 'Oncogene-directed increased expression Nrf novel mechanism activation Nrf antioxidant program evident primary cells tissues mice expressing K-Ras GD B-Raf V9E human pancreatic cancer',\n",
              " 'Oncogene-directed increased expression Nrf novel mechanism activation Nrf antioxidant program evident primary cells tissues mice expressing K-Ras GD B-Raf V9E human pancreatic cancer',\n",
              " 'Exposure mice doxycycline dox leads expression oncogenic K-Ras respiratory epithelium development adenocarcinomas NSCLC within weeks dox administration',\n",
              " 'Unexpectedly however found Pml protein upregulated oncogenic K-Ras induced NSCLC also p null mice Fig B',\n",
              " 'Unexpectedly however found Pml protein upregulated oncogenic K-Ras induced NSCLC also p null mice Fig B',\n",
              " 'Such studies may identify additional points therapeutic intervention setting EGFR TKI acquired resistance driven AXL EGFR -mutant NSCLC patients',\n",
              " 'Mice pancreatic cancer used experiments express Cre driven Pdx P LSL-Kras GD Tp lox Tp loxlox previously described',\n",
              " 'If RSK tumor suppressor high RSK level auspicious breast cancer patients aforementioned induction RSK c-Myc transgenic mammary pancreatic tumors may part mechanism c-Myc induced apoptosis since transgenic tumors highly apoptotic',\n",
              " 'Well-known cases oncogenes clinically targeted either humanized monoclonal antibodies small-molecule inhibitors include HER breast cancer Eisenhauer EGFR ALK non-small cell lung cancer',\n",
              " 'Well-known cases oncogenes clinically targeted either humanized monoclonal antibodies small-molecule inhibitors include HER breast cancer Eisenhauer EGFR ALK non-small cell lung cancer',\n",
              " 'The deubiquitination enzyme USP functions tumor suppressor controlling PHLPP-dependent attenuation Akt signaling colon cancer',\n",
              " 'Futhermore positive corelation PHLPP USP expression observed normal colon cancer patient samples thus suggesting novel tumor suppressor function USP',\n",
              " 'Using conditional mouse lung cancer model conditional expression oncogenic K-ras could activated Esquela-Kerscher et al showed intranasal administration adenovirus expressing let-a RNA hairpin reduced tumour formation vivo Esquela-Kerscher et al',\n",
              " 'Indeed combining Rosa-LSL-Racb mice conditionally-activated oncogenic allele K-ras find Racb synergizes oncogenic K-ras facilitate lung cancer progression vivo',\n",
              " 'Thus CDH KIFA would play oncogenic functions pancreatic cancer cells attractive target molecules cancer therapies including immunotherapy',\n",
              " 'Thus CDH KIFA would play oncogenic functions pancreatic cancer cells attractive target molecules cancer therapies including immunotherapy',\n",
              " 'Gabriel also revealed newly identified targets tumor suppressor gene TP squamous cell lung carcinoma IGF encoding insulin-like growth factor colon carcinoma latter cancer analyzed depth upcoming publication',\n",
              " 'John McPherson Ontario Institute Cancer Research reported exome whole-genome sequencing pancreatic cancer samples carried far identified oncogene KRAS mutated tumors',\n",
              " 'Genomic profiling studies NSCLC using cDNA BAC oligonucleotide SNP arrays revealed focal amplicons harboring known oncogenes KRAS p EGFR p ERBB q MET q MYC q CDK q CCND q led recent discovery TITF q lineage-dependent oncogenic transcription factor amplified lung cancer',\n",
              " 'Overexpression oncogenic function aldo-keto reductase family B AKRB pancreatic carcinoma',\n",
              " 'As development pancreatic cancer firmly linked smoking aim present study examine expression oncogenic role AKRB pancreatic adenocarcinoma',\n",
              " 'As development pancreatic cancer firmly linked smoking aim present study examine expression oncogenic role AKRB pancreatic adenocarcinoma',\n",
              " 'Oncogenic function AKRB examined pancreatic carcinoma cells vitro using western blotting siRNA',\n",
              " 'Previously showed inhibition NF-B signaling reduces lung tumor formation induced chemical carcinogens finding since corroborated expanded others genetic models lung cancer resulting oncogenic Kras expression',\n",
              " 'ST originally proposed colon cancer tumor suppressor gene due specific down-regulation adenocarcinomas colon',\n",
              " 'The characterization NSCLC patients activating EGFR mutations provided bulk molecular under-pinning seminal observation NSCLC neversmokers cigarettes lifetime distinct clinical entity higher proportion adenocarcinoma female Asian better survivalHowever demonstrated IPASS even among clinically defined NSCLC patient cohort Asian female adenocarcinoma never-smokers slightly half patients harbored activating EGFR mutations driver mutations remained discovered NSCLC',\n",
              " 'Sox identified oncogene amplified squamous cell carcinoma lung esophagus',\n",
              " 'These data demonstrate oncogenic Kras-driven genetic mouse model PDAC tumor growth angiogenesis invasion enhanced GPC suggest suppression GPC may important component therapeutic strategies PDAC',\n",
              " 'PDAC exhibits wide range genetic epigenetic alterations including high frequency 9-9 activating K ras mutations homozygous deletion epigenetic silencing tumor suppressor genes p INKA p ARF INKA well over-abundance heparin binding growth factors HBGFs',\n",
              " 'PDAC exhibits wide range genetic epigenetic alterations including high frequency 9-9 activating K ras mutations homozygous deletion epigenetic silencing tumor suppressor genes p INKA p ARF INKA well over-abundance heparin binding growth factors HBGFs',\n",
              " 'These findings indicate endogenous GPC contributes pancreatic cancer progression even driven oncogenic Kras conjunction loss INKA two highly prevalent alterations PDAC',\n",
              " 'Thus absence GPC pancreatic cancer cells derived Kras-driven genetic mouse model PDAC exhibit attenuated tumor progression angiogenesis invasiveness metastasis suggesting targeting GPC either alone combination mitogenesis andor angiogenesis inhibitors may help overcome resistance Kras-targeted therapeutic strategies',\n",
              " 'Over-expression full-length catalytically inactive mutant Cyld NSCLC cell lines significantly reduces cell growth suggesting Cyld acts tumor suppressor gene progression NSCLC deubiquitin function important mechanism',\n",
              " 'Over-expression full-length catalytically inactive mutant Cyld NSCLC cell lines significantly reduces cell growth suggesting Cyld acts tumor suppressor gene progression NSCLC deubiquitin function important mechanism',\n",
              " 'Cigarette primary secondhand smoking direct cause lung cancer associated inactivation tumor suppressor genes eg LKB via geneticepigenetic changes therefore affecting many cellular processes including oxidative DNA damage inflammatory processes cell migration invasiveness',\n",
              " 'RapGAP critical tumor suppressor gene down-regulated multiple aggressive cancers head neck squamous cell carcinoma melanoma pancreatic cancer',\n",
              " 'Given recent studies also support tumor suppressor role rapGAP pancreatic cancer melanoma thyroid cancer methylation rapGAP occurs melanoma thyroid cancer likely miR- regulated EZH critical role tumors via disruption rapGAP expression',\n",
              " 'TRK receptors first recognised tumourigenic role oncogenic TRK fusion protein found proportion colonic carcinomas subsequently thyroid carcinomas',\n",
              " 'This result agreement proposed hypothesis great majority lung cancer samples inactivated pCyclin Dretinoblastoma tumor suppressor pathway',\n",
              " 'Finally RASSFA key negative regulator mitosis progression well-known tumor suppressor undergoes frequent tumor-specific epigenetic inactivation wide range tumors especially lung cancer',\n",
              " 'In simplest case large subtypes cancers driven single gene alterations directly targetable Bcr-abl fusion protein chronic myelogenous leukemia others mutations particular pathway common represent single accelerator tumor growth EGFR mutations subsets lung cancer',\n",
              " 'In colon cancer cells loss tumour suppressor SMAD',\n",
              " 'Gefitinib initially approved nonsmall cell lung cancer since targets oncogenic EGFR',\n",
              " 'Interestingly expression SERCA previously shown negatively regulated APC-cateninTCF oncogenic pathway colon cancer',\n",
              " 'Human pancreatic cancer cells mutant K- ras MIA PaCa- wild-type K- ras BxPC- immortal Hc cell line pancreatic ductal epithelium expressing K- ras oncogene HceR-K ras T tumorigenic infected dominantnegative Rac construct Ad NRac',\n",
              " 'This glutamine addition partially explained induction transcriptional program favors glutaminolysis via activation proto-oncogene Myc occur many forms human cancers including neuroblastoma lymphoma small cell lung cancer',\n",
              " 'Cell lines developed mice study oncogenic role MUC pancreatic cancer progression',\n",
              " 'Here report generation oncogenic alternative splicing variant tumor suppressor AIMP lung cancer cells patient tissues',\n",
              " 'We found SNP let- miRNA complementary site UTR KRAS oncogene disrupted base-pairing miRNAtarget duplex significantly increased risk non-small cell lung cancer NSCLC ovarian cancer',\n",
              " 'Of note NKX- focally amplified human lung adenocarcinoma functional data supporting oncogenic activity',\n",
              " 'That NKX- oncogenic tumour suppressive functions lung cancer presumably illustrating context-dependent functions within individual tumours type',\n",
              " 'Inactivation Wt caused senescence KRAS expressing mouse embryonic fibroblasts inhibited tumor progression animal model KRAS-driven lung cancer Vicent et al Figure',\n",
              " 'Moreover decreased WT target gene expression correlated improved prognosis lung cancer patients whose genetic signature indicative oncogenic KRAS activation Vicent et al',\n",
              " 'To elucidate role p lung cancer progression evaluate therapeutic potential p reactivation disease analyzed effect Trp restoration mouse model Kras GD driven lung cancer different time points tumor progression',\n",
              " 'Pancreatic cancer highly complex molecular pathology uniquely characterized high frequency activating K-ras mutations loss function p p Smad tumor suppresser genes',\n",
              " 'Pancreatic cancer highly complex molecular pathology uniquely characterized high frequency activating K-ras mutations loss function p p Smad tumor suppresser genes',\n",
              " 'Pancreatic cancer highly complex molecular pathology uniquely characterized high frequency activating K-ras mutations loss function p p Smad tumor suppresser genes',\n",
              " 'Mutations tumour suppressor gene APC responsible inherited predisposition colon cancer FAP',\n",
              " 'Mutations tumour suppressor gene APC responsible inherited predisposition colon cancer FAP',\n",
              " 'These data suggest loss Pbrm cooperates Kras driving pancreatic tumour development model',\n",
              " 'These comparative oncogenomic data provide independent support PBRM cancer gene suggest investigation role PBRM SETD human pancreatic cancer warranted',\n",
              " 'To identify genes co-operate K-Ras formation pancreatic cancer conditional allele K-Ras GD Pdx -Cre combined conditional Sleeping Beauty transposase driver TOnc tg transposon donor allele',\n",
              " 'To identify genes co-operate K-Ras formation pancreatic cancer conditional allele K-Ras GD Pdx -Cre combined conditional Sleeping Beauty transposase driver TOnc tg transposon donor allele',\n",
              " 'As genetic alteration TP pathway common denominator cancers understanding TP tumor suppressor activity great potential development novel therapeutic treatments lung cancer',\n",
              " 'Promoter hypermethylation IGSF novel immunoglobulin-like intercellular adhesion molecule first characterized tumor suppressor non-small cell lung cancer termed TSLC',\n",
              " 'Taken together results strongly support tumor suppressor role PHLPP colon cancer',\n",
              " 'The findings provide novel mechanism tumorigenesis process colon cancer inhibited PHLPP-mediated termination oncogenic signals directly',\n",
              " 'For example KRAS encoding small GTPase BRCA BRCA encoding tumor suppressors involved breast cancer KRAS also implicated pancreatic cancer whereas BRCA BRCA associated papillary carcinoma prostate cancer respectively',\n",
              " 'For example KRAS encoding small GTPase BRCA BRCA encoding tumor suppressors involved breast cancer KRAS also implicated pancreatic cancer whereas BRCA BRCA associated papillary carcinoma prostate cancer respectively',\n",
              " 'In NSCLC several proto-oncogenes KRAS EGFR known mutated significant frequency',\n",
              " 'In NSCLC several proto-oncogenes KRAS EGFR known mutated significant frequency',\n",
              " 'As results suggested Tsc gene could function tumor suppressor gene lung cancer development mouse explored involvement human lung cancer',\n",
              " 'This striking contrast tumor suppressor genes regulate mTOR signaling including LKB commonly involved lung cancer PTEN less commonly involved lung cancer much colon cancer glioblastoma',\n",
              " 'This striking contrast tumor suppressor genes regulate mTOR signaling including LKB commonly involved lung cancer PTEN less commonly involved lung cancer much colon cancer glioblastoma',\n",
              " 'miR- sensitizes lung cancer cells doxorubicin targeting well-known oncogene c-Met receptor tyrosine kinase',\n",
              " 'PDAC also characterized high frequency mutations Kras gene well inactivation several tumor suppressor genes p Inka p',\n",
              " 'PDAC also characterized high frequency mutations Kras gene well inactivation several tumor suppressor genes p Inka p',\n",
              " 'Human lung mast cells adhere ASM cells part immunoglobulin superfamily member cell adhesion molecule previously known tumour suppressor lung cancer',\n",
              " 'Previous investigations demonstrated VHL gene acts classic tumour suppressor gene sporadic VHL-related hemangioblastomas also renal cell carcinoma pheochromocytoma pancreatic tumours inactivation VHL alleles either point mutations loss entire allele VHL promoter methylation shown tumours',\n",
              " 'The relationship somatic mutations EGFR K-ras genes DNA methylation tumour suppressor genes recently investigated specific interaction genetic epigenetic changes tumorigenesis NSCLC identified',\n",
              " 'The relationship somatic mutations EGFR K-ras genes DNA methylation tumour suppressor genes recently investigated specific interaction genetic epigenetic changes tumorigenesis NSCLC identified',\n",
              " 'knock-down TCF- human colon cancer cell line actually slowed growth rate prompting opposite hypothesis TCF- action oncogenic',\n",
              " 'The role cooperativity Src oncogenic transformation mediated non-small cell lung cancer-associated EGF receptor mutants',\n",
              " 'Therefore studies potential role Src oncogenic transforming ability NSCLC-associated EGFR mutants used genetic ablation potential interaction rather use Src-inhibitors alone',\n",
              " 'Thus conclude unligated v ability recruit c-src contributes malignant properties pancreatic cancer suggesting vc-src function oncogenic unit thereby contributing tumor malignancy',\n",
              " 'Thus conclude unligated v ability recruit c-src contributes malignant properties pancreatic cancer suggesting vc-src function oncogenic unit thereby contributing tumor malignancy',\n",
              " 'Our data demonstrate full length cytoplasmic Ect binds oncogenic PKC-Par complex NSCLC cells',\n",
              " 'ECT gene amplification drives Ect expression LSCC',\n",
              " 'To assess whether VISA system selectively enhance transgene expression driven survivin promoter lung cancer cells normal cells three promoters survivin survivin combined VISA system Survivin-VISA CMV used drive luciferase expression Fig A',\n",
              " 'The VISA system selectively enhance transgene expression driven Survivin promoter lung cancer cell lines normal cells',\n",
              " 'The therapeutic gene BikDD driven Survivin-VISA promoter inhibited tumor growth prolonged survival time driven CMV promoter H99-Luc lung cancer orthotopic xenograft models',\n",
              " 'The therapeutic gene BikDD driven Survivin-VISA promoter inhibited tumor growth prolonged survival time driven CMV promoter H99-Luc lung cancer orthotopic xenograft models',\n",
              " 'Mashkova et al showed AKRB potential oncogene elevated transcription level important squamous cell lung cancer tumorogenesis',\n",
              " 'Despite current gaps knowledge evidence EGFR overexpression pancreatic cancer specimens combined convincing vitro data demonstrating oncogenic potential EGFR activation together support role EGFR activation progression malignancy',\n",
              " 'The CDKNA OMIM gene tumour suppressor gene involved susceptibility malignant melanoma also implicated familial pancreatic cancer',\n",
              " 'The second K-RAS LA P LSL WT driven K-ras activation well p heterozygosity leads development lung adenocarcinoma',\n",
              " 'The second K-RAS LA P LSL WT driven K-ras activation well p heterozygosity leads development lung adenocarcinoma',\n",
              " 'However recent studies implicated interesting oncogenic role RET FAK MET tumor suppressor role LKB lung cancer',\n",
              " 'However recent studies implicated interesting oncogenic role RET FAK MET tumor suppressor role LKB lung cancer',\n",
              " 'While KIT RET oncogenes LKB shown tumor suppressor gene lung cancer showed clustering truncation mutations near salt bridge ion pair result number mostly nonsense mutations among missense mutations',\n",
              " 'While KIT RET oncogenes LKB shown tumor suppressor gene lung cancer showed clustering truncation mutations near salt bridge ion pair result number mostly nonsense mutations among missense mutations',\n",
              " 'In another study somatically activatable mutant Kras-driven model mouse lung cancer used evaluate role LKB tumor suppressors lung carcinogenesis',\n",
              " 'In study focused efforts pancreatic ductal adenocarcinoma PDAC-a highly lethal cancer characterized activating mutations Kras oncogene inactivation Inka Arf-p tumor suppressor pathways great majority cases',\n",
              " 'In study focused efforts pancreatic ductal adenocarcinoma PDAC-a highly lethal cancer characterized activating mutations Kras oncogene inactivation Inka Arf-p tumor suppressor pathways great majority cases',\n",
              " 'In study focused efforts pancreatic ductal adenocarcinoma PDAC-a highly lethal cancer characterized activating mutations Kras oncogene inactivation Inka Arf-p tumor suppressor pathways great majority cases',\n",
              " 'In study focused efforts pancreatic ductal adenocarcinoma PDAC-a highly lethal cancer characterized activating mutations Kras oncogene inactivation Inka Arf-p tumor suppressor pathways great majority cases',\n",
              " 'Selective tyrosine kinase inhibitors promising treat cancers driven activated tyrosine kinases Bcr-Abl chronic myelogenous leukemia c-Kit gastrointestinal stromal tumors EGF receptor EGFR non-small cell lung cancer NSCLC',\n",
              " 'Therefore elected exploit series related genetically engineered mouse models PDAC harbor signature gene mutations human disease including Kras activation deletion p InkaArf tumor suppressors',\n",
              " 'For example APC component canonical Wnt signaling pathway first isolated tumor suppressor gene human colon cancer activating mutations -catenin found human colon cancer melanomas',\n",
              " 'The example known somatic insertion L element tumor found tumor suppressor gene APC colon cancer',\n",
              " 'An L insertion exon APC tumor suppressor predicted inactivating mutation discovered human colon cancer present adjacent normal tissue',\n",
              " 'At least colon cancer cells defined sets CpG island methylation events weakly associated presence activating mutations KRAS BRAF oncogenes well inactivating mutations TP tumor suppressor gene',\n",
              " 'We studied prevalence point mutations ras oncogenes K-ras N-ras DNA white blood cells tumor tissue untreated patients non-small-cell lung cancer smokers ex-smokers',\n",
              " 'We studied prevalence point mutations ras oncogenes K-ras N-ras DNA white blood cells tumor tissue untreated patients non-small-cell lung cancer smokers ex-smokers',\n",
              " 'A role OGG tumor suppression suggested frequent loss OGG chromosomal locus human lung renal cancers significantly lower OGG activity among lung cancer patients compared controls',\n",
              " 'They demonstrated endogenous expression oncogenic KRAS allele KRAS GD mouse pancreas initiates development pancreatic ductal adenocarcinoma way identical occurring cognate human condition',\n",
              " 'They demonstrated endogenous expression oncogenic KRAS allele KRAS GD mouse pancreas initiates development pancreatic ductal adenocarcinoma way identical occurring cognate human condition',\n",
              " 'In recent study NSCLC among many amplified genes found chromosome q Figure candidate oncogenes phosphatidylinositol- kinase catalytic subunit PIKCA described involved tumor progression including somatostatin gene SST p p homolog gene telomerase RNA component gene hTER neutral endopeptidase NEP',\n",
              " 'Inactivation tumor suppressor gene p Adenomatous polyposis coli APC among common causes colon cancer development',\n",
              " 'Inactivation tumor suppressor gene p Adenomatous polyposis coli APC among common causes colon cancer development',\n",
              " 'Tyler Jacks Massachusetts Institute Technology Cambridge USA reported mouse conditional lung carcinoma model adenoviral delivery Cre recombinase enzyme lungs genetically targeted animals carrying loxP insertion sites recognized Cre results activation oncogenic K-Ras allele',\n",
              " 'The colon carcinoma cell line SW lacks expression functional Smad protein also harbors activating mutation Ki-Ras oncogene',\n",
              " 'The K-ras oncogene seems play important role pathogenesis pancreatic cancer since mutated 9 pancreatic cancer cases',\n",
              " 'The p tumour suppressor gene commonly mutated gene carcinogenesis epithelial cancers mutations gene present pancreatic cancer',\n",
              " 'In article describe major genetic alterations pancreatic cancer mutations proto-oncogene K-RAS tumor suppressors INKA TP DPC SMAD',\n",
              " 'The sequential acquisition mutations proto-oncogene K-RAS tumor suppressors INKA TP DPCSMAD leads profound disturbance cell cycle regulation hallmark pancreatic cancer',\n",
              " 'SMAD initially named DPC deleted pancreatic carcinoma originally identified candidate tumor suppressor frequently inactivated pancreatic tumors',\n",
              " 'SMAD initially named DPC deleted pancreatic carcinoma originally identified candidate tumor suppressor frequently inactivated pancreatic tumors',\n",
              " 'SMAD initially named DPC deleted pancreatic carcinoma originally identified candidate tumor suppressor frequently inactivated pancreatic tumors',\n",
              " 'The signaling pathway LKBSTK far unknown gene shown inactivated sporadic pancreatic cancer suggesting possible role tumor suppression',\n",
              " 'The signaling pathway LKBSTK far unknown gene shown inactivated sporadic pancreatic cancer suggesting possible role tumor suppression',\n",
              " 'The serine-treonine kinase AKT candidate oncogene human pancreatic cancer found amplified overexpressed pancreatic adenocarcinoma cell lines',\n",
              " 'All four major genetic alteration K-RAS INKa TP TGF-SMAD tumor suppressor pathway observed pancreatic carcinoma regulate directly indirectly G progression leading EF dependent S phase entry',\n",
              " 'All four major genetic alteration K-RAS INKa TP TGF-SMAD tumor suppressor pathway observed pancreatic carcinoma regulate directly indirectly G progression leading EF dependent S phase entry',\n",
              " 'All four major genetic alteration K-RAS INKa TP TGF-SMAD tumor suppressor pathway observed pancreatic carcinoma regulate directly indirectly G progression leading EF dependent S phase entry',\n",
              " 'Another interesting finding recently observed papers suggested LRPB member LDLR family striking homology LRP represents tumor suppressor gene non-small cell lung cancer cell lines urothelial cancer cells',\n",
              " 'Another interesting finding recently observed papers suggested LRPB member LDLR family striking homology LRP represents tumor suppressor gene non-small cell lung cancer cell lines urothelial cancer cells',\n",
              " 'p also called MTS multiple tumor suppressive gene known important tumour suppressor gene especially nonsmall cell lung cancer',\n",
              " 'For example pancreatic cancer high incidence mutations tumor suppressor genes p p DPC approximately 9 cases coincide mutation oncogene K- ras',\n",
              " 'For example pancreatic cancer high incidence mutations tumor suppressor genes p p DPC approximately 9 cases coincide mutation oncogene K- ras',\n",
              " 'For example pancreatic cancer high incidence mutations tumor suppressor genes p p DPC approximately 9 cases coincide mutation oncogene K- ras',\n",
              " 'PI-K activity shown critical integrin-mediated invasive behaviour breast colon carcinoma cell lines proto-oncogene PKBAKT recruited PtdIns P plasma membrane phosphorylated PI-K-dependent PDK demonstrated overexpressed ovarian breast pancreatic cancer',\n",
              " 'PI-K activity shown critical integrin-mediated invasive behaviour breast colon carcinoma cell lines proto-oncogene PKBAKT recruited PtdIns P plasma membrane phosphorylated PI-K-dependent PDK demonstrated overexpressed ovarian breast pancreatic cancer',\n",
              " 'PI-K activity shown critical integrin-mediated invasive behaviour breast colon carcinoma cell lines proto-oncogene PKBAKT recruited PtdIns P plasma membrane phosphorylated PI-K-dependent PDK demonstrated overexpressed ovarian breast pancreatic cancer',\n",
              " 'Additionally work SCLC cell lines points PI-Ks constitutively active contributing malignant phenotype tumour perhaps via activation proto-oncogene PKBAKT p SK',\n",
              " 'A tumor suppressor gene Rb-related gene pRbp may play role lung cancer development',\n",
              " 'A tumor suppressor gene Rb-related gene pRbp may play role lung cancer development',\n",
              " 'Since pancreatic tumors tend exhibit high frequency K- ras mutations relationship K- ras oncogene COX- explored vivo',\n",
              " 'Together results demonstrate active cellular Bax colon cancer cells co-localizes mitochondria response resveratrol exposure independently p tumor suppressor',\n",
              " 'TVB- oral selective effective FASN inhibitor disrupts lipid raft structure inhibits lipid biosynthesis represses oncogenic effector c-Myc expression PIK-Akt-mTOR -catenin signal transduction non-small cell lung cancer',\n",
              " 'In study found TMEM9 acts tumor suppressor NSCLC prevents EMT NSCLC inhibiting lysosomal degradation E-cadherin',\n",
              " 'To investigate mechanisms driving cancer cachexia used Apc mouse mouse model intestinal colon cancer harbours heterozygous mutation adenomatous polyposis coli APC gene',\n",
              " 'Anaplastic lymphoma kinase ALK rearrangement important oncogenic driver non-small cell lung cancers NSCLC',\n",
              " 'Interestingly several murine colon cancer lines H S generation primarily driven -MST CBS playing secondary role',\n",
              " 'melanoma cells RNF PTEN Oncogene Pancreatic ductal adenocarcinoma cells ECM SCF-Skp SP Oncogene Oral squamous cell carcinoma lung cancer cells NEDD-',\n",
              " 'melanoma cells RNF PTEN Oncogene Pancreatic ductal adenocarcinoma cells ECM SCF-Skp SP Oncogene Oral squamous cell carcinoma lung cancer cells NEDD-',\n",
              " 'melanoma cells RNF PTEN Oncogene Pancreatic ductal adenocarcinoma cells ECM SCF-Skp SP Oncogene Oral squamous cell carcinoma lung cancer cells NEDD-',\n",
              " 'melanoma cells RNF PTEN Oncogene Pancreatic ductal adenocarcinoma cells ECM SCF-Skp SP Oncogene Oral squamous cell carcinoma lung cancer cells NEDD-',\n",
              " 'melanoma cells RNF PTEN Oncogene Pancreatic ductal adenocarcinoma cells ECM SCF-Skp SP Oncogene Oral squamous cell carcinoma lung cancer cells NEDD-',\n",
              " 'melanoma cells RNF PTEN Oncogene Pancreatic ductal adenocarcinoma cells ECM SCF-Skp SP Oncogene Oral squamous cell carcinoma lung cancer cells NEDD-',\n",
              " 'melanoma cells RNF PTEN Oncogene Pancreatic ductal adenocarcinoma cells ECM SCF-Skp SP Oncogene Oral squamous cell carcinoma lung cancer cells NEDD-',\n",
              " 'CBP Tumor suppressor Macrophages UBR Oncogene Ovarian cancer T-cell immunosuppression CRLWDR PML Oncogene Lung cancer',\n",
              " 'CBP Tumor suppressor Macrophages UBR Oncogene Ovarian cancer T-cell immunosuppression CRLWDR PML Oncogene Lung cancer',\n",
              " 'Hypoxia USP HIF- Oncogene UCH-L HIF- Oncogene Breast cancer lung cancer Chronic inflammation mediated tumor formation OUTLINgumby NEMO',\n",
              " 'Snail Oncogene Breast pancreatic cancer DUB Snail Oncogene Breast cancer ECM USP USP myc-HAS Oncogene Breast lung cells T-cell activation Otub',\n",
              " 'Snail Oncogene Breast pancreatic cancer DUB Snail Oncogene Breast cancer ECM USP USP myc-HAS Oncogene Breast lung cells T-cell activation Otub',\n",
              " 'Snail Oncogene Breast pancreatic cancer DUB Snail Oncogene Breast cancer ECM USP USP myc-HAS Oncogene Breast lung cells T-cell activation Otub',\n",
              " 'Snail Oncogene Breast pancreatic cancer DUB Snail Oncogene Breast cancer ECM USP USP myc-HAS Oncogene Breast lung cells T-cell activation Otub',\n",
              " 'CSN PD-L Oncogene Non-small cell lung cancer liver caner USP9X PD-L Oncogene Oral squamous cell carcinoma',\n",
              " 'Moreover SNAT essential sustain KRAS-driven pancreatic cancer cell growth mTORC',\n",
              " 'DARS-AS documented act oncogenes many cancers ovarian cancer non-small cell lung cancer',\n",
              " 'DARS-AS documented act oncogenes many cancers ovarian cancer non-small cell lung cancer',\n",
              " 'More lung adenocarcinoma harbor mutations specific driven genes including epidermal growth factor receptor EGFR anaplastic lymphoma kinase ALK ROS proto-oncogene receptor tyrosine kinase ROS',\n",
              " 'Recently PFN exposed oncogene breasthead neck cancersand NSCLCCurrently mechanism regulates abnormal expression PFN NSCLC still unclear',\n",
              " 'Previous studies identified NSCLC associated genes including genes encoding tumor protein p TP epidermal growth factor receptor EGFR Kirsten rat sarcoma viral oncogene homolog KRAS anaplastic lymphoma kinase ALK',\n",
              " 'Previous studies identified NSCLC associated genes including genes encoding tumor protein p TP epidermal growth factor receptor EGFR Kirsten rat sarcoma viral oncogene homolog KRAS anaplastic lymphoma kinase ALK',\n",
              " 'In addition oncogenic driver subtype investigated since treatment PD-PD-L antibodies could considered ineffective patients NSCLC EGFR mutation ALK rearrangement also BRAF HER MET mutations RET translocation',\n",
              " 'In last decade targeted therapies driver mutations epidermal growth factor receptor EGFR mutations anaplastic lymphoma kinase ALK rearrangement revolutionized treatment advanced non-small cell lung cancer NSCLCHowever approximately - patients harboring EGFR mutations develop primary resistance EGFR-tyrosine kinase inhibitor EGFR-TKI therapy',\n",
              " 'Three multicenter clinical trials led Guangdong Lung Cancer Institute showed activation HGFMET signaling pathway oncogenic driver EGFR -mutant NSCLC mediating primary secondary resistance EGFR-TKI therapies',\n",
              " 'Three multicenter clinical trials led Guangdong Lung Cancer Institute showed activation HGFMET signaling pathway oncogenic driver EGFR -mutant NSCLC mediating primary secondary resistance EGFR-TKI therapies',\n",
              " 'Three multicenter clinical trials led Guangdong Lung Cancer Institute showed activation HGFMET signaling pathway oncogenic driver EGFR -mutant NSCLC mediating primary secondary resistance EGFR-TKI therapies',\n",
              " 'Genomic alterations associated resistant phenotype identified cases 9 oncogenic KRAS mutations oncogenic NRAS mutation colorectal adenocarcinomas exon insertion lung carcinoma',\n",
              " 'These results demonstrate PVTEIFAcircLMNB axis might play oncogenic role LUAD participating ribosome biogenesis spliceosome formation',\n",
              " 'These results suggest PVT interacts EIFA stabilized EIFA synergistically exert oncogenic effect LUAD',\n",
              " 'These results suggest PVT interacts EIFA stabilized EIFA synergistically exert oncogenic effect LUAD',\n",
              " 'Furthermore Spearmans correlation expression MDIG C-Myc important proto-oncogene NSCLC tumor protein',\n",
              " 'In non-small-cell lung cancer NSCLC DNA-level driver gene mutation typing EGFR anaplastic lymphoma kinase ALK ROS proto-oncogene ROS promotes long-term survival patients NSCLC lays foundation gene-based mutational screening SCLC',\n",
              " 'CSF important target regulating ITH driven phenotypic plasticity SCLC overcoming drug resistance',\n",
              " 'Targeting CSF drive SCLC adherent phenotype suspended phenotype p-STATMYC pathway thereby making cells anchored suspended phenotype increasing expression NE marker sensitivity anlotinib CS RAD',\n",
              " 'Pancreatic ductal adenocarcinoma PDAC extremely deadly cancer -year survival rate Genetic alterations activating mutations K - ras TGF - inactivation tumor suppressors p INKA ARF BRCA Smad common drivers pancreatic carcinogenesis',\n",
              " 'Therefore asked whether Pppc functioned tumor suppressor gene pancreatic cancer context KRASGD mutations Trp deficiency',\n",
              " 'We conclude Pppc novel pancreatic tumor suppressor gene',\n",
              " 'expression c-fos c-jun proto-oncogenes ANP Human colon cancer cells Regulate balance pH value tumor extracellular microenvironment Cardiac hormones',\n",
              " 'expression c-fos c-jun proto-oncogenes ANP Human colon cancer cells Regulate balance pH value tumor extracellular microenvironment Cardiac hormones',\n",
              " 'The TP rs significantly associated increased risk lung adenocarcinoma CC versus GG adjusted OR 9 CI - gene-gene interaction found combination TP rs CC MDM MDM proto-oncogene',\n",
              " 'Yin et al set study role five haplotype-tagging single nucleotide polymorphisms htSNPs tumor suppressor protein TP lung cancer',\n",
              " 'ENO also oncogene overexpression related many kinds tumors including cholangiocarcinoma thyroid carcinoma lung cancer hepatocellular carcinoma glioma neuroendocrine tumors neuroblastoma pancreatic cancer prostate cancer gastric cancer',\n",
              " 'ENO also oncogene overexpression related many kinds tumors including cholangiocarcinoma thyroid carcinoma lung cancer hepatocellular carcinoma glioma neuroendocrine tumors neuroblastoma pancreatic cancer prostate cancer gastric cancer',\n",
              " 'Exemplar loci age-associated DNA methylation colon cancer tumour suppressors Cdkna C Dkk D',\n",
              " 'To expand analyses PDAC precursor lesions authors activated oncogenic KRAS experimentally induced acute pancreatitis analyzed tissues -day -day -week time points',\n",
              " 'Enrichment TAMs TME NSCLC associated resistance immunotherapy regardless programmed death ligand status driven upregulation CD ITGAM CCL gene expression within tumor compartment',\n",
              " 'Enrichment TAMs TME NSCLC associated resistance immunotherapy regardless programmed death ligand status driven upregulation CD ITGAM CCL gene expression within tumor compartment',\n",
              " 'Enrichment TAMs TME NSCLC associated resistance immunotherapy regardless programmed death ligand status driven upregulation CD ITGAM CCL gene expression within tumor compartment',\n",
              " 'Therefore claim GATA may serve metastatic driver pancreatic cancer potential therapeutic target treat liver metastasis pancreatic cancer',\n",
              " 'In study identified TF GATA potential metastatic driver pancreatic cancer HsT-L',\n",
              " 'Zhang et alelucidated TXNIP targets oncogenic miR- lung cancer carcinogenesis',\n",
              " 'There growing evidence CDCA overexpressed oncogene variety common malignancies proven play crucial part tumorigenesis development including NSCLChepatocellular carcinomaprostate cancergastric cancerovarian cancernasopharyngeal carcinomabladder canceresophageal squamous cell carcinomacolorectal cancerbreast canceroral squamous cell carcinoma',\n",
              " 'CDCA oncogene involved occurrence development NSCLC',\n",
              " 'Through bioinformatics analyses concluded overexpression CDCA oncogene overexpressed common malignant tumors closely associated advanced clinicopathological characteristics patients LUAD probably leading poor prognosis',\n",
              " 'Mutations KRAS linked pancreas lung colon cancer amongst others oncogenic KRAS mutations well activation downstream effectors like MEK Akt Erk amongst others sufficient drivers pancreas cancer',\n",
              " 'Mutations KRAS linked pancreas lung colon cancer amongst others oncogenic KRAS mutations well activation downstream effectors like MEK Akt Erk amongst others sufficient drivers pancreas cancer',\n",
              " 'These results suggested TXNDC9 knockdown inhibited LUAD progression implied TXNDC9 might primarily serve oncogene multiple malignancies LUAD included',\n",
              " 'MiR- potential molecular marker NSCLC acts tumor suppressor targeting polo-like kinase PLK',\n",
              " 'The ALK fusion gene one driver gene mutations lung cancer ALK-positive lung cancer found approximately - non-small cell lung cancers NSCLCIn J-ALEX ALEX studies alectinib showed better results crizotinib',\n",
              " 'The ALK fusion gene one driver gene mutations lung cancer ALK-positive lung cancer found approximately - non-small cell lung cancers NSCLCIn J-ALEX ALEX studies alectinib showed better results crizotinib',\n",
              " 'For lung cancer patients driver gene abnormalities EGFR mutation ALK rearrangement ROS rearrangement molecular target drugs first choice',\n",
              " 'For lung cancer patients driver gene abnormalities EGFR mutation ALK rearrangement ROS rearrangement molecular target drugs first choice',\n",
              " 'For lung cancer patients driver gene abnormalities EGFR mutation ALK rearrangement ROS rearrangement molecular target drugs first choice',\n",
              " 'KRAS drives tumor progression regulating MAPK AKT signaling pathways highly activated human pancreatic cancer cells KRAS mutation involve cell proliferation survival metastasis',\n",
              " 'It clear KRAS mutations frequently occur early drivers pancreatic cancer progression',\n",
              " 'KRAS accelerates activity RAFMEKERK PIKAKT pathways drivers tumor growth majority pancreatic cancer',\n",
              " 'However SIRT also reported function tumor suppressor following mechanisms SIRT inhibits tumor formation proliferation deacetylating catenin beta -catenin colon cancer',\n",
              " 'CULB drives development metastasis colon cancer maintaining cancer stem-like characteristics',\n",
              " 'In context disease MAX could function tumor suppressor independent MYC eg small cell lung cancer',\n",
              " 'Oncogenic Kirsten Rat Sarcoma virus KRAS hallmark mutation human pancreatic cancer driver tumorigenesis genetically engineered mouse models disease',\n",
              " 'Pancreatic ductal adenocarcinoma third leading cause cancer-related death United States among lethal malignancies expected -year survival approximately More 9 pancreatic ductal adenocarcinoma instances harbor oncogenic mutation KRAS gene',\n",
              " 'There number mutated proteins PDAC oncogene GNAS tumor suppressor genes CDKNA SMAD',\n",
              " 'Functionally mechanistically LINC repressesthe malignant phenotype NSCLC cells suppressive effect LINC multiplicationand migration NSCLC cells depends miR -- plarge tumor suppressor kinase LATS axis',\n",
              " 'Genomic studies revealed common gene mutations PDAC including oncogenic activation KRAS frequent inactivation TP SMAD CDKNA tumor suppressors',\n",
              " 'While signature mutations PDAC including near ubiquitous oncogenic mutations KRAS frequent inactivation TP SMAD CDKNA tumor suppressors well recognized need collect sufficient data define cascading proteome alterations functional drivers PDAC',\n",
              " 'The Phosphoinositide -kinase-protein kinase-B-mechanistic target rapamycin PIK-AKT-mTOR pathway driver pathway PDAC important therapeutic target',\n",
              " 'The Phosphoinositide -kinase-protein kinase-B-mechanistic target rapamycin PIK-AKT-mTOR pathway driver pathway PDAC important therapeutic target',\n",
              " 'Thiazolyl Blue Tetrazolium Bromide MYC myelocytomatosis oncogene MYC ER MYC-estrogen receptor ER fusion gene PDAC pancreatic ductal adenocarcinoma prof Mtor -proficient def',\n",
              " 'Thiazolyl Blue Tetrazolium Bromide MYC myelocytomatosis oncogene MYC ER MYC-estrogen receptor ER fusion gene PDAC pancreatic ductal adenocarcinoma prof Mtor -proficient def',\n",
              " 'Although driver mutations epidermal growth factor receptor EGFR v-Ki-ras Kirsten rat sarcoma viral oncogene homolog kRAS anaplastic lymphoma kinase ALK tumor protein TP major causes LUAD mechanisms including dysregulation N -methyladenosine',\n",
              " 'We previously reported CSCs drive post-treatment recurrence colon cancer overexpressing Pregnane X Receptor PXR protein NRI',\n",
              " 'High expression SRSF induced Myc oncogene commonly upregulated many cancers including PDAC',\n",
              " 'A previous study group demonstrated COUP-TFII context PDAC acts oncogene',\n",
              " 'In non-small cell lung cancer cells loss TRIM found promote lung tumorigenesis interacting oncogenic protein GBP regulate stress granule SG formation arsenic trioxide ATO-induced oxidative stress conditions',\n",
              " 'However show targeting G KrasTp-driven KPC GEM model results increased tumor development decreased survival indicating G tumor-suppressive role pancreatic tumors',\n",
              " 'EGFR ALK KRAS common driver genes NSCLC',\n",
              " 'EGFR ALK KRAS common driver genes NSCLC',\n",
              " 'EGFR ALK KRAS common driver genes NSCLC',\n",
              " 'In conclusion study ADAMDEC demonstrated function oncogene upregulated NSCLC',\n",
              " 'We found lncRNA DSCAM-AS downregulated pancreatic cancer tissues cell lines directly targeted MiR -- p mediate oncogenic role tumorigenesis progression pancreatic cancer',\n",
              " 'We found lncRNA DSCAM-AS downregulated pancreatic cancer tissues cell lines directly targeted MiR -- p mediate oncogenic role tumorigenesis progression pancreatic cancer',\n",
              " 'Based finding SVIL-AS downregulated LUAD tissues prognostic value LUAD speculated SVIL-AS might act tumor suppressor LUAD tumorigenesis',\n",
              " 'Based finding SVIL-AS downregulated LUAD tissues prognostic value LUAD speculated SVIL-AS might act tumor suppressor LUAD tumorigenesis',\n",
              " 'Based finding SVIL-AS downregulated LUAD tissues prognostic value LUAD speculated SVIL-AS might act tumor suppressor LUAD tumorigenesis',\n",
              " 'Based finding SVIL-AS downregulated LUAD tissues prognostic value LUAD speculated SVIL-AS might act tumor suppressor LUAD tumorigenesis',\n",
              " 'SCLC tumors active Notch signaling also express EMT markers like VIM ZEB YAPTAZ MYC-potential drivers SCLC plasticity discussed',\n",
              " 'SCLC tumors active Notch signaling also express EMT markers like VIM ZEB YAPTAZ MYC-potential drivers SCLC plasticity discussed',\n",
              " 'SCLC tumors active Notch signaling also express EMT markers like VIM ZEB YAPTAZ MYC-potential drivers SCLC plasticity discussed',\n",
              " 'Recent studies demonstrate MYC sufficient promote conversion classic SCLC variant morphology drive SCLC sequentially ASCL NEUROD YAP state NE cell origin',\n",
              " 'NFIB transcription factor oncogenic role SCLC drives global increase chromatin accessibility augments metastatic capacity SCLC tumor cells',\n",
              " 'Specifically EGFR-driven lung adenocarcinoma known convert SCLC resistance tyrosine kinase inhibition',\n",
              " 'SCH alone may partial tumor-suppressive activity colon cancer mainly due inhibition IL- signaling pathway alone without simultaneous inhibition IL- pathway insufficient full tumor suppression',\n",
              " 'However several studies found expression GNG decreased various cancers including squamous cell carcinoma esophageal cancer pancreatic cancer indicating potential tumor suppressor role GNG',\n",
              " 'However several studies found expression GNG decreased various cancers including squamous cell carcinoma esophageal cancer pancreatic cancer indicating potential tumor suppressor role GNG',\n",
              " 'The RET proto-oncogene encodes receptor tyrosine kinase whose alterations responsible various human cancers developmental disorders including thyroid cancer non-small cell lung cancer multiple endocrine neoplasia type Hirschsprungs disease',\n",
              " 'Chronic inflammation key feature COPD could potential driver lung cancer development',\n",
              " 'Epidermal growth factor receptor EGFR-activating mutations non-small cell lung cancer NSCLC well-known driver mutations oncogene addicted survival proliferation NSCLC occur pulmonary adenocarcinomas',\n",
              " 'We identified regulations Lyn Src family kinase MAPK CotTpl proto-oncogene lung cancer involved cell-cell adhesion up-regulated ARAF knockdown cells cells expressing kinase-impaired ARAF',\n",
              " 'We identified regulations Lyn Src family kinase MAPK CotTpl proto-oncogene lung cancer involved cell-cell adhesion up-regulated ARAF knockdown cells cells expressing kinase-impaired ARAF',\n",
              " 'Together observations disclose clinically relevant ARAF-dependent suppression ERBB-AKT-driven lung cancer spreading puts brake metastasis',\n",
              " 'Anaplastic lymphoma kinase ALK gene rearrangement essential driver mutation identified approximately non-small cell lung cancers NSCLCs',\n",
              " 'Tumor suppressor genes inactivated pancreatic cancer include TP mutated -9 PDAC cases PCDKNA mutated -9 PDAC cases SMAD',\n",
              " 'In previous study unique focal HER amplifications identified oncogene-negative pulmonary carcinomas using GISTIC Genomic Identification Significant Targets Cancer analysis',\n",
              " 'However BRAF VE mutation targetable driver oncogene melanoma also NSCLC',\n",
              " 'However BRAF VE mutation targetable driver oncogene melanoma also NSCLC',\n",
              " 'In tumors pancreatic cancer NRC also acts tumor suppressor gene inhibit proliferation EMT pancreatic cancer cells increase sensitivity certain chemotherapeutic agents',\n",
              " 'Molecular profiling NSCLC past decade revealed numerous oncogenic driving events epidermal growth factor receptor mutation anaplastic lymphoma kinase rearrangement NSCLC leading several effective therapies including tyrosine kinase inhibitors immunotherapy',\n",
              " 'SLCB blocks interaction AIMP-DX pARF vitro vivo reduces viability small cell lung cancer cells mouse model K-ras-driven lung tumorigenesis',\n",
              " 'SLCB blocks interaction AIMP-DX pARF vitro vivo reduces viability small cell lung cancer cells mouse model K-ras-driven lung tumorigenesis',\n",
              " 'Hu et al reported overexpression FOXO inhibit proliferation lung cancer cells inducing p accumulation indicates tumor suppressor role FOXO',\n",
              " 'Furthermore deletion EGFR exon 9 demonstrated quantitative real-time polymerase chain reaction panel NSCLC-related driver mutations including ALK ROS RET MET KRAS NRAS HER PIKCA',\n",
              " 'Furthermore deletion EGFR exon 9 demonstrated quantitative real-time polymerase chain reaction panel NSCLC-related driver mutations including ALK ROS RET MET KRAS NRAS HER PIKCA',\n",
              " 'Furthermore deletion EGFR exon 9 demonstrated quantitative real-time polymerase chain reaction panel NSCLC-related driver mutations including ALK ROS RET MET KRAS NRAS HER PIKCA',\n",
              " 'Furthermore deletion EGFR exon 9 demonstrated quantitative real-time polymerase chain reaction panel NSCLC-related driver mutations including ALK ROS RET MET KRAS NRAS HER PIKCA',\n",
              " 'Furthermore deletion EGFR exon 9 demonstrated quantitative real-time polymerase chain reaction panel NSCLC-related driver mutations including ALK ROS RET MET KRAS NRAS HER PIKCA',\n",
              " 'Furthermore deletion EGFR exon 9 demonstrated quantitative real-time polymerase chain reaction panel NSCLC-related driver mutations including ALK ROS RET MET KRAS NRAS HER PIKCA',\n",
              " 'Furthermore deletion EGFR exon 9 demonstrated quantitative real-time polymerase chain reaction panel NSCLC-related driver mutations including ALK ROS RET MET KRAS NRAS HER PIKCA',\n",
              " 'Circular RNA ciRS- plays vital role oncogene pancreatic ductal adenocarcinoma PDAC targeting miR- regulation EGFRSTAT pathway regulation leads cell proliferation metastasis',\n",
              " 'For exploring OTUD affect NSCLC cells screened gene set highly related OTUD NSCLC samples using GEPIA database pinpointed common tumor suppressor KLF',\n",
              " 'For exploring OTUD affect NSCLC cells screened gene set highly related OTUD NSCLC samples using GEPIA database pinpointed common tumor suppressor KLF',\n",
              " 'In conclusion investigation first time elucidated OTUD inhibits NSCLC cell progression including cell growth migration invasion stabilizing ubiqutinating tumor suppressor KLF',\n",
              " 'In conclusion investigation first time elucidated OTUD inhibits NSCLC cell progression including cell growth migration invasion stabilizing ubiqutinating tumor suppressor KLF',\n",
              " 'loading facilitate delivery oncogenic KARS pancreatic cancer evading phagocytosis circulating monocytes thus exerting superior siRNA',\n",
              " 'NDRG known cell stress-related tumor suppressor gene multiple solid tumors including breast cancer colorectal cancer renal cell carcinoma lung cancer',\n",
              " 'The tumors LUAD patients show presence molecular alterations oncogenic driver genes EGFR ALK ROS BRAF MET',\n",
              " 'The tumors LUAD patients show presence molecular alterations oncogenic driver genes EGFR ALK ROS BRAF MET',\n",
              " 'In tumor epithelial cells recognized PDAC oncogenic cascades KRAS TGF- EGFR signaling control activity ligand-independent way',\n",
              " 'Aberrant Shh expression linked oncogenic Kras expression PDAC',\n",
              " 'A retrospective study samples found two commonmutations EGFR -mutant lung cancer PIKCA MET study analyze tumor suppressor genes',\n",
              " 'In study two established driver mutations HER known exon insertions S mutations identified patients lung cancer',\n",
              " 'BOLL functions oncogene enhancing proliferation migration activities colon cancer cells BOLL protein expression upregulated colorectal cancer tissue',\n",
              " 'The expression levels Programmed death ligand- PD-L epidermal growth factor receptor EGFR anaplastic lymphoma tyrosine kinase gene ALK proto-oncogene tyrosine-protein kinase ROS ROS important targeted treatment selection advanced lung cancer',\n",
              " 'The primary treatment metastatic NSCLC depends detection molecular driver mutations alterations epidermal growth factor receptor EGFR rearrangement anaplastic lymphoma tyrosine kinase gene ALK proto-oncogene tyrosine-protein kinase ROS ROS',\n",
              " 'miR-e-pITGA axis boost NSCLC progression hence functioning oncogene',\n",
              " 'WBSCR reported oncogene several carcinomas including invasive breast cancer multiple myeloma plasma cell carcinoma colorectal cancer lung cancer hepatocellular carcinoma',\n",
              " 'According standardised recommendationsand last consensus Spanish Society Pathology Sociedad Espaola de Anatoma Patolgica SEAP molecular determinations epidermal growth factor receptor EGFR BRAF mutations anaplastic lymphoma kinase ALK c-ros oncogene ROS rearrangements programmed death ligand- PD-L expression mandatory performed patients advanced NSCLC',\n",
              " 'Mutations Kirsten rat sarcoma viral oncogene homolog KRAS oncogene major driver nonsquamous non-small cell lung cancer NSCLC occur - patients - Asian population glycine cysteine GC',\n",
              " 'V-myc myelocytomatosis viral-related oncogene MYCN member MYC family proto-oncogenes Chava et al crucially associated multiple cancers including glioblastoma Korshunov et al lung cancer Peifer et al leukemia Astolfi et al',\n",
              " 'Unlike lung adenocarcinoma carrying actionable drivers epidermal growth factor receptor KRAS Kirsten rat sarcoma viral oncogene homolog SCLC primarily driven loss tumor suppressors near-universal inactivation RB P frequent loss putative tumor suppressors among missense truncating deletion mutations EP',\n",
              " 'Unlike lung adenocarcinoma carrying actionable drivers epidermal growth factor receptor KRAS Kirsten rat sarcoma viral oncogene homolog SCLC primarily driven loss tumor suppressors near-universal inactivation RB P frequent loss putative tumor suppressors among missense truncating deletion mutations EP',\n",
              " 'Unlike lung adenocarcinoma carrying actionable drivers epidermal growth factor receptor KRAS Kirsten rat sarcoma viral oncogene homolog SCLC primarily driven loss tumor suppressors near-universal inactivation RB P frequent loss putative tumor suppressors among missense truncating deletion mutations EP',\n",
              " 'While loss-of-function mutations EP CREBBP appear undruggable understanding drive SCLC development progression remains limited hinders efforts develop strategies tumor prevention intervention',\n",
              " 'While loss-of-function mutations EP CREBBP appear undruggable understanding drive SCLC development progression remains limited hinders efforts develop strategies tumor prevention intervention',\n",
              " 'The recurrent mutations approximately observed EP gene human SCLC tumors largely thought loss-of-function mutations suggesting EP tumor suppressor SCLC',\n",
              " 'Despite low frequency AKT mutations lung cancer oncogenic properties EK-AKT may contribute development subset SCC AKT Overexpression NSCLC NA III-IV Italy Overactivation AKT pathway NSCLC patients associated high grade advanced disease',\n",
              " 'Despite low frequency AKT mutations lung cancer oncogenic properties EK-AKT may contribute development subset SCC AKT Overexpression NSCLC NA III-IV Italy Overactivation AKT pathway NSCLC patients associated high grade advanced disease',\n",
              " 'Despite low frequency AKT mutations lung cancer oncogenic properties EK-AKT may contribute development subset SCC AKT Overexpression NSCLC NA III-IV Italy Overactivation AKT pathway NSCLC patients associated high grade advanced disease',\n",
              " 'Despite low frequency AKT mutations lung cancer oncogenic properties EK-AKT may contribute development subset SCC AKT Overexpression NSCLC NA III-IV Italy Overactivation AKT pathway NSCLC patients associated high grade advanced disease',\n",
              " 'A study reported NVP-BEZ could remarkably sensitize NSCLC xenografts oncogenic KRAS pro-apoptotic effects ionizing radiation however could sufficiently induce apoptosis',\n",
              " 'Sun et al proposed downregulation miR- could increase expression Von Hippel-Lindau tumor suppressor pancreatic cancer',\n",
              " 'Using animal colon cancer model Heydari et al reported levels tumor suppressor miRNAs miR-b miR-a APC PTEN increased months administration probiotics Lactobacillus acidophilus Bifidobacterium bifidum',\n",
              " 'Circ generated back-splicing exons - TUBAC chromosome 9-9 performs potent oncogenic effect NSCLC functioning miRNA sponges cytoplasm',\n",
              " 'Lung cancer driver genes usually include epidermal growth factor receptors EGFRs anaplastic lymphoma kinase ALK ROS fusion HER mutation BRAF mutation neurotrophic tyrosine receptor kinase NTRK fusion etc',\n",
              " 'Lung cancer driver genes usually include epidermal growth factor receptors EGFRs anaplastic lymphoma kinase ALK ROS fusion HER mutation BRAF mutation neurotrophic tyrosine receptor kinase NTRK fusion etc',\n",
              " 'Lung cancer driver genes usually include epidermal growth factor receptors EGFRs anaplastic lymphoma kinase ALK ROS fusion HER mutation BRAF mutation neurotrophic tyrosine receptor kinase NTRK fusion etc',\n",
              " 'It reported FTO AB play oncogenic roles progression lung cancer thus investigate correlation FTO AB human lung cancers',\n",
              " 'It reported FTO AB play oncogenic roles progression lung cancer thus investigate correlation FTO AB human lung cancers',\n",
              " 'Taken together comparison previous prognostic modeling researches common genes significant influence prognosis LUAD patients verified research including ferroptosis driver genes FLT GLS PEBP ferroptosis suppress genes ACSL CSD',\n",
              " 'Taken together comparison previous prognostic modeling researches common genes significant influence prognosis LUAD patients verified research including ferroptosis driver genes FLT GLS PEBP ferroptosis suppress genes ACSL CSD',\n",
              " 'PDAC thereby often defined oncogenic KRAS mutation followed mutations SMAD TP CDKNA Other mutations much less frequent show large interindividual heterogeneity',\n",
              " 'PDAC thereby often defined oncogenic KRAS mutation followed mutations SMAD TP CDKNA Other mutations much less frequent show large interindividual heterogeneity',\n",
              " 'PDAC thereby often defined oncogenic KRAS mutation followed mutations SMAD TP CDKNA Other mutations much less frequent show large interindividual heterogeneity',\n",
              " 'PDAC thereby often defined oncogenic KRAS mutation followed mutations SMAD TP CDKNA Other mutations much less frequent show large interindividual heterogeneity',\n",
              " 'PDAC thereby often defined oncogenic KRAS mutation followed mutations SMAD TP CDKNA Other mutations much less frequent show large interindividual heterogeneity',\n",
              " 'These results indicate GlcNAc MUC function tumor suppressors pancreatic cancer decreased expression GlcNAc MUC may useful biomarkers initiation tumor progression pancreatic cancer',\n",
              " 'However function METTL varied different tumors METTL played oncogenic role pancreatic cancer promoting tumor growth metastasis decreasing PERP mRNASimilarly recent studies reported METTL METTL serve mA writers played oncogenic antioncogenic roles respectively hepatocellular carcinoma',\n",
              " 'PDRG first considered differentially regulated ultraviolet radiation tumor suppressor pIt found upregulated multiple cancers including lung cancer ovarian cancer colorectal cancer breast cancer esophagus cancer',\n",
              " 'AXIN known tumor suppressor gene inhibits Wnt signaling implicated several cancers colorectal adenocarcinoma non-small-cell lung carcinoma breast cancer hepatocellular carcinomas medulloblastomas melanoma',\n",
              " 'In NSCLC lncRNA HOXA transcript induced transforming growth factor TGF HIT acts prometastatic oncogene binds ZEB regulates stability ZEB promotes NSCLC cell invasion migration',\n",
              " 'Besides genes targeted therapies specifically sensitising mutations ALK ROS B-Raf proto-oncogene serinethreonine kinase BRAF also demonstrable clinical improvement outcome NSCLC',\n",
              " 'Besides genes targeted therapies specifically sensitising mutations ALK ROS B-Raf proto-oncogene serinethreonine kinase BRAF also demonstrable clinical improvement outcome NSCLC',\n",
              " 'This study found detection oncogenic amplification mutations help clarify resistance NSCLC cases EGFR -TKIs figure',\n",
              " 'However Zhang et al show NPTX function tumor suppressor suppresses invasion proliferation pancreatic cancer cells',\n",
              " 'Ambrogio et al reported DDR could therapeutic target KRAS-driven non-small-cell lung cancer',\n",
              " 'Ambrogio et al reported DDR could therapeutic target KRAS-driven non-small-cell lung cancer',\n",
              " 'In contrast Sonakshi et al demonstrated TMED9 promoted colon cancer metastasis driving CNIHTGFGLI signaling pathway opposing TMED-WNT-TCF pathway',\n",
              " 'In treatment non-small cell lung cancer NSCLC several targetable oncogenes EGFR mutation ALK translocation ROS rearrangement BRAF mutations identified date',\n",
              " 'In treatment non-small cell lung cancer NSCLC several targetable oncogenes EGFR mutation ALK translocation ROS rearrangement BRAF mutations identified date',\n",
              " 'In treatment non-small cell lung cancer NSCLC several targetable oncogenes EGFR mutation ALK translocation ROS rearrangement BRAF mutations identified date',\n",
              " 'The Notch pathway plays tumor suppressive role SCLC inactivation Notch pathway results NE transformation SCLCAs downstream target ASCL DLL links ASCL-DLL-Notch axis',\n",
              " 'EGFR mutations common oncogenic driver events non-small cell lung cancer NSCLCAdministration tyrosine kinase inhibitors TKIs provides better progression-free survival objective response rates chemotherapy patients EGFR -mutant',\n",
              " 'An interesting particularity KRAS mutations lung cancer closely related patients positive smoking history driver mutations like EGFR BRAF ROS',\n",
              " 'An interesting particularity KRAS mutations lung cancer closely related patients positive smoking history driver mutations like EGFR BRAF ROS',\n",
              " 'An interesting particularity KRAS mutations lung cancer closely related patients positive smoking history driver mutations like EGFR BRAF ROS',\n",
              " 'In TKI-nave cases NSCLC MET amplification identified primary oncogenic event secondary EGFR-mutated NSCLC acquired resistance TKIs especially use osimertinib',\n",
              " 'In study integrative analysis clinical samples well lung cancer cell models demonstrated first time TRIM served interesting tumor suppressor lung adenocarcinoma pathogenesis',\n",
              " 'Long non-coding RNAs LncRNAs common type non-coding RNAs nucleotides length great volume published literature describing biological processes including gene activation autophagy metabolism inflammation immune response out-of-control lncRNA usually inducing cancer cells related occurrence development metastasis cancer well proved examples lncRNA-HEIH promoting progression liver cancer enhancer Zete homolog lncRNA-UFC promoting tumor growth targeting microRNA-a lncRNA-PRAL key stimulator development liver cancer lncRNA FAL positive HCC tissues playing role oncogene LINC prognostic marker lung cancer also reported recent literature',\n",
              " 'Long non-coding RNAs LncRNAs common type non-coding RNAs nucleotides length great volume published literature describing biological processes including gene activation autophagy metabolism inflammation immune response out-of-control lncRNA usually inducing cancer cells related occurrence development metastasis cancer well proved examples lncRNA-HEIH promoting progression liver cancer enhancer Zete homolog lncRNA-UFC promoting tumor growth targeting microRNA-a lncRNA-PRAL key stimulator development liver cancer lncRNA FAL positive HCC tissues playing role oncogene LINC prognostic marker lung cancer also reported recent literature',\n",
              " 'Several genomic alterations identified biomarkers cancer detection diagnosis prognosis NSCLC anaplastic lymphoma kinase ALK gene rearrangements c-ros oncogene ROS gene rearrangements sensitizing epidermal growth factor receptor EGFR mutations v-raf murine sarcoma viral oncogene homolog B BRAF point mutations gene Kirsten rat sarcoma viral oncogene homolog KRAS programmed death-ligand PD-L expression',\n",
              " 'Our results showed expression CDKNA upregulated SCLC cells treatment Sg functioned tumor suppressor SCLC',\n",
              " 'When treated Sg panobinostat SCLC cells displayed higher level CDKNA increased number G cells certainly confirmed tumor suppressor role CDKNA Moreover CDKNA also robustly induced panobinostat Sg combined panobinostat could increase expression level CDKNA compared panobinostat alone treatment suggested additional signaling pathway targets involved synergist effective role Sg panobinostat SCLC',\n",
              " 'Mutations EGFR first targetable alterations discovered lung cancer among common driver mutations NSCLC',\n",
              " 'EGFR mutation anaplastic lymphoma kinase ALK rearrangement common oncogenic drivers lung cancer',\n",
              " 'EGFR mutation anaplastic lymphoma kinase ALK rearrangement common oncogenic drivers lung cancer',\n",
              " 'EGFR mutation anaplastic lymphoma kinase ALK rearrangement common oncogenic drivers lung cancer',\n",
              " 'These results suggested JAML closely correlated LUAD tumorigenesis progression might act tumor suppressor',\n",
              " 'This tumor suppressive phenotype linked PARK expression observed previously different cancer types including non-small cell lung cancer breast cancer nasopharyngeal carcinoma',\n",
              " 'Oncogenic activation KRAS early event pancreatic tumor progression promotes metabolic reprogramming cancer cells retention stromal cells within tumor',\n",
              " 'Epidermal growth factor receptor kinase domain duplication EGFR -KDD rare poorly understood oncogenic mutation non-small cell lung cancer NSCLC',\n",
              " 'Epidermal growth factor receptor kinase domain duplication EGFR -KDD rare poorly understood oncogenic mutation non-small cell lung cancer NSCLC',\n",
              " 'After irradiating xenograft mouse human lung cancer cell lines H99 NRAS proto-oncogene GTPase NRAS QK HCC epidermal growth factor receptor EGFR',\n",
              " 'Recent studies revealed NUCKS act oncogene gastric cancerhepatocellular carcinomaand NSCLCHowever regulatory network related NUCKS NSCLC still indistinct',\n",
              " 'Recent studies revealed NUCKS act oncogene gastric cancerhepatocellular carcinomaand NSCLCHowever regulatory network related NUCKS NSCLC still indistinct',\n",
              " 'Interestingly case LUAD correlation observed patients KRAS -mutant tumors suggesting genetic context impacts tumor suppressive function AMBRA',\n",
              " 'RET fusion induces oncogenic activation occurs approximately - sporadic PTC types - lung cancer cases low frequency solid cancer types breast cancer',\n",
              " 'In addition RET fusions eight lung cancer patients co-occurring EGFR driver mutations partnered rare genes rather frequent KIFB LC',\n",
              " 'Next validate whether sAXL specific biomarker PDAC used Ela -- myc transgenic mouse model MYC miceThese animals overexpress c-MYC oncogene elastase promoter develop pancreatic tumours - months age',\n",
              " 'The value GAS KRAS-driven preneoplastic PDACs c-MYC-driven pancreatic tumours followed similar pattern sAXL although case differences observed less significant Fig b',\n",
              " 'b GAS values plasma samples KRAS MYC- driven transgenic PDAC mouse models',\n",
              " 'b GAS values plasma samples KRAS MYC- driven transgenic PDAC mouse models',\n",
              " 'Moreover analysis plasma samples mice c-MYC-driven PDAC modelwith acinar carcinomas showed increases sAXL levels compared control mice indicating sAXL specific biomarker ductal adenocarcinoma overexpressed pancreatic tumour types',\n",
              " 'Together GD common KRAS mutational subtype among never-smokers overall population findings suggest KRAS -mutated lung cancer Asian patients may driven factors tobacco smoking distinct biology Asian patients KRAS -mutated NSCLC warrants investigation',\n",
              " 'Together GD common KRAS mutational subtype among never-smokers overall population findings suggest KRAS -mutated lung cancer Asian patients may driven factors tobacco smoking distinct biology Asian patients KRAS -mutated NSCLC warrants investigation',\n",
              " 'Consistent experiments vitro bioinformatic analysis demonstrates DCLK may act driver EMT activation PDAC',\n",
              " 'The ROS proto-oncogene fusion protein expressed - NSCLC gene rearrangements produces fusion protein kinase domain ROS becomes constitutively active drives tumor proliferation',\n",
              " 'The treatment strategy NSCLC especially lung adenocarcinoma subdivided based driver oncogenes EGFR ALK ROS BRAF NTRK MET RET Various clinical practice guidelines recommend multiple somatic mutation tests select initial treatment NSCLCHowever little known driver genes LCNEC',\n",
              " ...]"
            ]
          },
          "metadata": {},
          "execution_count": 45
        }
      ]
    }
  ]
}